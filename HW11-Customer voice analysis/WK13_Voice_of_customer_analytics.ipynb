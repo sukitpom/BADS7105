{
  "nbformat": 4,
  "nbformat_minor": 0,
  "metadata": {
    "colab": {
      "name": "Copy of WK13 - Voice of customer analytics.ipynb",
      "provenance": []
    },
    "kernelspec": {
      "display_name": "Python 3",
      "name": "python3"
    },
    "language_info": {
      "name": "python"
    }
  },
  "cells": [
    {
      "cell_type": "code",
      "metadata": {
        "colab": {
          "background_save": true
        },
        "id": "2RziBurE2RPT",
        "outputId": "1b178544-a1cc-49ca-b1cb-77eebc2c890b"
      },
      "source": [
        "!pip install --upgrade numpy\n",
        "!pip install --upgrade pandas"
      ],
      "execution_count": null,
      "outputs": [
        {
          "output_type": "stream",
          "text": [
            "Collecting numpy\n",
            "\u001b[?25l  Downloading https://files.pythonhosted.org/packages/a5/42/560d269f604d3e186a57c21a363e77e199358d054884e61b73e405dd217c/numpy-1.20.3-cp37-cp37m-manylinux_2_12_x86_64.manylinux2010_x86_64.whl (15.3MB)\n",
            "\u001b[K     |████████████████████████████████| 15.3MB 283kB/s \n",
            "\u001b[31mERROR: tensorflow 2.5.0 has requirement numpy~=1.19.2, but you'll have numpy 1.20.3 which is incompatible.\u001b[0m\n",
            "\u001b[31mERROR: datascience 0.10.6 has requirement folium==0.2.1, but you'll have folium 0.8.3 which is incompatible.\u001b[0m\n",
            "\u001b[31mERROR: albumentations 0.1.12 has requirement imgaug<0.2.7,>=0.2.5, but you'll have imgaug 0.2.9 which is incompatible.\u001b[0m\n",
            "\u001b[?25hInstalling collected packages: numpy\n",
            "  Found existing installation: numpy 1.19.5\n",
            "    Uninstalling numpy-1.19.5:\n",
            "      Successfully uninstalled numpy-1.19.5\n",
            "Successfully installed numpy-1.20.3\n"
          ],
          "name": "stdout"
        },
        {
          "output_type": "display_data",
          "data": {
            "application/vnd.colab-display-data+json": {
              "pip_warning": {
                "packages": [
                  "numpy"
                ]
              }
            }
          },
          "metadata": {
            "tags": []
          }
        },
        {
          "output_type": "stream",
          "text": [
            "Collecting pandas\n",
            "\u001b[?25l  Downloading https://files.pythonhosted.org/packages/51/51/48f3fc47c4e2144da2806dfb6629c4dd1fa3d5a143f9652b141e979a8ca9/pandas-1.2.4-cp37-cp37m-manylinux1_x86_64.whl (9.9MB)\n",
            "\u001b[K     |████████████████████████████████| 9.9MB 12.7MB/s \n",
            "\u001b[?25hRequirement already satisfied, skipping upgrade: pytz>=2017.3 in /usr/local/lib/python3.7/dist-packages (from pandas) (2018.9)\n",
            "Requirement already satisfied, skipping upgrade: python-dateutil>=2.7.3 in /usr/local/lib/python3.7/dist-packages (from pandas) (2.8.1)\n",
            "Requirement already satisfied, skipping upgrade: numpy>=1.16.5 in /usr/local/lib/python3.7/dist-packages (from pandas) (1.20.3)\n",
            "Requirement already satisfied, skipping upgrade: six>=1.5 in /usr/local/lib/python3.7/dist-packages (from python-dateutil>=2.7.3->pandas) (1.15.0)\n",
            "\u001b[31mERROR: google-colab 1.0.0 has requirement pandas~=1.1.0; python_version >= \"3.0\", but you'll have pandas 1.2.4 which is incompatible.\u001b[0m\n",
            "Installing collected packages: pandas\n",
            "  Found existing installation: pandas 1.1.5\n",
            "    Uninstalling pandas-1.1.5:\n",
            "      Successfully uninstalled pandas-1.1.5\n",
            "Successfully installed pandas-1.2.4\n"
          ],
          "name": "stdout"
        },
        {
          "output_type": "display_data",
          "data": {
            "application/vnd.colab-display-data+json": {
              "pip_warning": {
                "packages": [
                  "pandas"
                ]
              }
            }
          },
          "metadata": {
            "tags": []
          }
        }
      ]
    },
    {
      "cell_type": "code",
      "metadata": {
        "colab": {
          "base_uri": "https://localhost:8080/"
        },
        "id": "Mmddxdi-4aqA",
        "outputId": "f027d7bb-0f80-45d5-f9c4-5d58dd0fba5c"
      },
      "source": [
        "!pip install --upgrade pythainlp\n"
      ],
      "execution_count": null,
      "outputs": [
        {
          "output_type": "stream",
          "text": [
            "Collecting pythainlp\n",
            "\u001b[?25l  Downloading https://files.pythonhosted.org/packages/6e/e7/837dd9ab52fac889af830dc094a1598251f70004a2f1707ab0ff8dc0f63a/pythainlp-2.3.1-py3-none-any.whl (11.0MB)\n",
            "\u001b[K     |████████████████████████████████| 11.0MB 10.1MB/s \n",
            "\u001b[?25hCollecting python-crfsuite>=0.9.6\n",
            "\u001b[?25l  Downloading https://files.pythonhosted.org/packages/79/47/58f16c46506139f17de4630dbcfb877ce41a6355a1bbf3c443edb9708429/python_crfsuite-0.9.7-cp37-cp37m-manylinux1_x86_64.whl (743kB)\n",
            "\u001b[K     |████████████████████████████████| 747kB 58.6MB/s \n",
            "\u001b[?25hRequirement already satisfied, skipping upgrade: requests>=2.22.0 in /usr/local/lib/python3.7/dist-packages (from pythainlp) (2.23.0)\n",
            "Collecting tinydb>=3.0\n",
            "  Downloading https://files.pythonhosted.org/packages/af/cd/1ce3d93818cdeda0446b8033d21e5f32daeb3a866bbafd878a9a62058a9c/tinydb-4.4.0-py3-none-any.whl\n",
            "Requirement already satisfied, skipping upgrade: chardet<4,>=3.0.2 in /usr/local/lib/python3.7/dist-packages (from requests>=2.22.0->pythainlp) (3.0.4)\n",
            "Requirement already satisfied, skipping upgrade: urllib3!=1.25.0,!=1.25.1,<1.26,>=1.21.1 in /usr/local/lib/python3.7/dist-packages (from requests>=2.22.0->pythainlp) (1.24.3)\n",
            "Requirement already satisfied, skipping upgrade: idna<3,>=2.5 in /usr/local/lib/python3.7/dist-packages (from requests>=2.22.0->pythainlp) (2.10)\n",
            "Requirement already satisfied, skipping upgrade: certifi>=2017.4.17 in /usr/local/lib/python3.7/dist-packages (from requests>=2.22.0->pythainlp) (2020.12.5)\n",
            "Installing collected packages: python-crfsuite, tinydb, pythainlp\n",
            "Successfully installed pythainlp-2.3.1 python-crfsuite-0.9.7 tinydb-4.4.0\n"
          ],
          "name": "stdout"
        }
      ]
    },
    {
      "cell_type": "code",
      "metadata": {
        "colab": {
          "base_uri": "https://localhost:8080/"
        },
        "id": "tdltr3_OAIg_",
        "outputId": "ba4a2ac0-8bdb-4d04-e2c7-89634d34b9de"
      },
      "source": [
        "!pip install pyLDAvis"
      ],
      "execution_count": null,
      "outputs": [
        {
          "output_type": "stream",
          "text": [
            "Collecting pyLDAvis\n",
            "\u001b[?25l  Downloading https://files.pythonhosted.org/packages/03/a5/15a0da6b0150b8b68610cc78af80364a80a9a4c8b6dd5ee549b8989d4b60/pyLDAvis-3.3.1.tar.gz (1.7MB)\n",
            "\u001b[K     |████████████████████████████████| 1.7MB 14.8MB/s \n",
            "\u001b[?25h  Installing build dependencies ... \u001b[?25l\u001b[?25hdone\n",
            "  Getting requirements to build wheel ... \u001b[?25l\u001b[?25hdone\n",
            "  Installing backend dependencies ... \u001b[?25l\u001b[?25hdone\n",
            "    Preparing wheel metadata ... \u001b[?25l\u001b[?25hdone\n",
            "Requirement already satisfied: sklearn in /usr/local/lib/python3.7/dist-packages (from pyLDAvis) (0.0)\n",
            "Requirement already satisfied: scikit-learn in /usr/local/lib/python3.7/dist-packages (from pyLDAvis) (0.22.2.post1)\n",
            "Requirement already satisfied: pandas>=1.2.0 in /usr/local/lib/python3.7/dist-packages (from pyLDAvis) (1.2.4)\n",
            "Requirement already satisfied: numpy>=1.20.0 in /usr/local/lib/python3.7/dist-packages (from pyLDAvis) (1.20.3)\n",
            "Collecting funcy\n",
            "  Downloading https://files.pythonhosted.org/packages/44/52/5cf7401456a461e4b481650dfb8279bc000f31a011d0918904f86e755947/funcy-1.16-py2.py3-none-any.whl\n",
            "Requirement already satisfied: future in /usr/local/lib/python3.7/dist-packages (from pyLDAvis) (0.16.0)\n",
            "Requirement already satisfied: setuptools in /usr/local/lib/python3.7/dist-packages (from pyLDAvis) (56.1.0)\n",
            "Requirement already satisfied: gensim in /usr/local/lib/python3.7/dist-packages (from pyLDAvis) (3.6.0)\n",
            "Requirement already satisfied: numexpr in /usr/local/lib/python3.7/dist-packages (from pyLDAvis) (2.7.3)\n",
            "Requirement already satisfied: jinja2 in /usr/local/lib/python3.7/dist-packages (from pyLDAvis) (2.11.3)\n",
            "Requirement already satisfied: scipy in /usr/local/lib/python3.7/dist-packages (from pyLDAvis) (1.4.1)\n",
            "Requirement already satisfied: joblib in /usr/local/lib/python3.7/dist-packages (from pyLDAvis) (1.0.1)\n",
            "Requirement already satisfied: python-dateutil>=2.7.3 in /usr/local/lib/python3.7/dist-packages (from pandas>=1.2.0->pyLDAvis) (2.8.1)\n",
            "Requirement already satisfied: pytz>=2017.3 in /usr/local/lib/python3.7/dist-packages (from pandas>=1.2.0->pyLDAvis) (2018.9)\n",
            "Requirement already satisfied: smart-open>=1.2.1 in /usr/local/lib/python3.7/dist-packages (from gensim->pyLDAvis) (5.0.0)\n",
            "Requirement already satisfied: six>=1.5.0 in /usr/local/lib/python3.7/dist-packages (from gensim->pyLDAvis) (1.15.0)\n",
            "Requirement already satisfied: MarkupSafe>=0.23 in /usr/local/lib/python3.7/dist-packages (from jinja2->pyLDAvis) (2.0.1)\n",
            "Building wheels for collected packages: pyLDAvis\n",
            "  Building wheel for pyLDAvis (PEP 517) ... \u001b[?25l\u001b[?25hdone\n",
            "  Created wheel for pyLDAvis: filename=pyLDAvis-3.3.1-cp37-none-any.whl size=136870 sha256=3e1a22e91f1711c931a6c9076d4a3c3c9d02dae01b36315c11cd7578134f1f0c\n",
            "  Stored in directory: /root/.cache/pip/wheels/a0/9c/fc/c6e00689d35c82cf96a8adc70edfe7ba7904374fdac3240ac2\n",
            "Successfully built pyLDAvis\n",
            "Installing collected packages: funcy, pyLDAvis\n",
            "Successfully installed funcy-1.16 pyLDAvis-3.3.1\n"
          ],
          "name": "stdout"
        }
      ]
    },
    {
      "cell_type": "code",
      "metadata": {
        "colab": {
          "base_uri": "https://localhost:8080/"
        },
        "id": "MavVVeP043KX",
        "outputId": "eb5e956f-7051-4c42-ac71-fdde00a9ff9c"
      },
      "source": [
        "import pandas as pd\n",
        "import pythainlp\n",
        "import gensim\n",
        "import pyLDAvis.gensim_models\n",
        "pyLDAvis.enable_notebook()\n",
        "import warnings\n",
        "warnings.filterwarnings(\"ignore\", category=DeprecationWarning)"
      ],
      "execution_count": null,
      "outputs": [
        {
          "output_type": "stream",
          "text": [
            "/usr/local/lib/python3.7/dist-packages/past/types/oldstr.py:5: DeprecationWarning: Using or importing the ABCs from 'collections' instead of from 'collections.abc' is deprecated since Python 3.3,and in 3.9 it will stop working\n",
            "  from collections import Iterable\n",
            "/usr/local/lib/python3.7/dist-packages/sklearn/linear_model/_least_angle.py:30: DeprecationWarning: `np.float` is a deprecated alias for the builtin `float`. To silence this warning, use `float` by itself. Doing this will not modify any behavior and is safe. If you specifically wanted the numpy scalar type, use `np.float64` here.\n",
            "Deprecated in NumPy 1.20; for more details and guidance: https://numpy.org/devdocs/release/1.20.0-notes.html#deprecations\n",
            "  method='lar', copy_X=True, eps=np.finfo(np.float).eps,\n",
            "/usr/local/lib/python3.7/dist-packages/sklearn/linear_model/_least_angle.py:169: DeprecationWarning: `np.float` is a deprecated alias for the builtin `float`. To silence this warning, use `float` by itself. Doing this will not modify any behavior and is safe. If you specifically wanted the numpy scalar type, use `np.float64` here.\n",
            "Deprecated in NumPy 1.20; for more details and guidance: https://numpy.org/devdocs/release/1.20.0-notes.html#deprecations\n",
            "  method='lar', copy_X=True, eps=np.finfo(np.float).eps,\n",
            "/usr/local/lib/python3.7/dist-packages/sklearn/linear_model/_least_angle.py:286: DeprecationWarning: `np.float` is a deprecated alias for the builtin `float`. To silence this warning, use `float` by itself. Doing this will not modify any behavior and is safe. If you specifically wanted the numpy scalar type, use `np.float64` here.\n",
            "Deprecated in NumPy 1.20; for more details and guidance: https://numpy.org/devdocs/release/1.20.0-notes.html#deprecations\n",
            "  eps=np.finfo(np.float).eps, copy_Gram=True, verbose=0,\n",
            "/usr/local/lib/python3.7/dist-packages/sklearn/linear_model/_least_angle.py:858: DeprecationWarning: `np.float` is a deprecated alias for the builtin `float`. To silence this warning, use `float` by itself. Doing this will not modify any behavior and is safe. If you specifically wanted the numpy scalar type, use `np.float64` here.\n",
            "Deprecated in NumPy 1.20; for more details and guidance: https://numpy.org/devdocs/release/1.20.0-notes.html#deprecations\n",
            "  eps=np.finfo(np.float).eps, copy_X=True, fit_path=True):\n",
            "/usr/local/lib/python3.7/dist-packages/sklearn/linear_model/_least_angle.py:1094: DeprecationWarning: `np.float` is a deprecated alias for the builtin `float`. To silence this warning, use `float` by itself. Doing this will not modify any behavior and is safe. If you specifically wanted the numpy scalar type, use `np.float64` here.\n",
            "Deprecated in NumPy 1.20; for more details and guidance: https://numpy.org/devdocs/release/1.20.0-notes.html#deprecations\n",
            "  eps=np.finfo(np.float).eps, copy_X=True, fit_path=True,\n",
            "/usr/local/lib/python3.7/dist-packages/sklearn/linear_model/_least_angle.py:1120: DeprecationWarning: `np.float` is a deprecated alias for the builtin `float`. To silence this warning, use `float` by itself. Doing this will not modify any behavior and is safe. If you specifically wanted the numpy scalar type, use `np.float64` here.\n",
            "Deprecated in NumPy 1.20; for more details and guidance: https://numpy.org/devdocs/release/1.20.0-notes.html#deprecations\n",
            "  eps=np.finfo(np.float).eps, positive=False):\n",
            "/usr/local/lib/python3.7/dist-packages/sklearn/linear_model/_least_angle.py:1349: DeprecationWarning: `np.float` is a deprecated alias for the builtin `float`. To silence this warning, use `float` by itself. Doing this will not modify any behavior and is safe. If you specifically wanted the numpy scalar type, use `np.float64` here.\n",
            "Deprecated in NumPy 1.20; for more details and guidance: https://numpy.org/devdocs/release/1.20.0-notes.html#deprecations\n",
            "  max_n_alphas=1000, n_jobs=None, eps=np.finfo(np.float).eps,\n",
            "/usr/local/lib/python3.7/dist-packages/sklearn/linear_model/_least_angle.py:1590: DeprecationWarning: `np.float` is a deprecated alias for the builtin `float`. To silence this warning, use `float` by itself. Doing this will not modify any behavior and is safe. If you specifically wanted the numpy scalar type, use `np.float64` here.\n",
            "Deprecated in NumPy 1.20; for more details and guidance: https://numpy.org/devdocs/release/1.20.0-notes.html#deprecations\n",
            "  max_n_alphas=1000, n_jobs=None, eps=np.finfo(np.float).eps,\n",
            "/usr/local/lib/python3.7/dist-packages/sklearn/linear_model/_least_angle.py:1723: DeprecationWarning: `np.float` is a deprecated alias for the builtin `float`. To silence this warning, use `float` by itself. Doing this will not modify any behavior and is safe. If you specifically wanted the numpy scalar type, use `np.float64` here.\n",
            "Deprecated in NumPy 1.20; for more details and guidance: https://numpy.org/devdocs/release/1.20.0-notes.html#deprecations\n",
            "  eps=np.finfo(np.float).eps, copy_X=True, positive=False):\n",
            "/usr/local/lib/python3.7/dist-packages/sklearn/decomposition/_lda.py:29: DeprecationWarning: `np.float` is a deprecated alias for the builtin `float`. To silence this warning, use `float` by itself. Doing this will not modify any behavior and is safe. If you specifically wanted the numpy scalar type, use `np.float64` here.\n",
            "Deprecated in NumPy 1.20; for more details and guidance: https://numpy.org/devdocs/release/1.20.0-notes.html#deprecations\n",
            "  EPS = np.finfo(np.float).eps\n"
          ],
          "name": "stderr"
        }
      ]
    },
    {
      "cell_type": "code",
      "metadata": {
        "colab": {
          "base_uri": "https://localhost:8080/"
        },
        "id": "O8_gePsh5Tzx",
        "outputId": "0806d912-c586-4842-c4de-42978673947d"
      },
      "source": [
        "from google.colab import drive\n",
        "\n",
        "drive.mount('/content/drive/')"
      ],
      "execution_count": null,
      "outputs": [
        {
          "output_type": "stream",
          "text": [
            "Drive already mounted at /content/drive/; to attempt to forcibly remount, call drive.mount(\"/content/drive/\", force_remount=True).\n"
          ],
          "name": "stdout"
        }
      ]
    },
    {
      "cell_type": "code",
      "metadata": {
        "colab": {
          "base_uri": "https://localhost:8080/"
        },
        "id": "AArJNboG7jHR",
        "outputId": "62fe75d3-a05f-4069-af2d-9638aa4408ed"
      },
      "source": [
        "!ls '/content/drive/MyDrive/Colab Notebooks/CRM'\n"
      ],
      "execution_count": null,
      "outputs": [
        {
          "output_type": "stream",
          "text": [
            " CustomerReviews.csv\n",
            " Retail_Data_Response.csv\n",
            " Retail_Data_Transactions.csv\n",
            "'WK10 - python hyperparameter campaign response.ipynb'\n",
            "'WK13 - Voice of customer analytics.ipynb'\n",
            "'Wongnai Reviews - Small.csv'\n"
          ],
          "name": "stdout"
        }
      ]
    },
    {
      "cell_type": "code",
      "metadata": {
        "colab": {
          "base_uri": "https://localhost:8080/"
        },
        "id": "prOB6Mld8HqY",
        "outputId": "db7b0f16-1851-478f-a425-9ce0e51672a3"
      },
      "source": [
        "drive.mount('/content/gdrive')\n",
        "root_path = 'gdrive/My Drive/Colab Notebooks/CRM/'  #change dir to your project folder"
      ],
      "execution_count": null,
      "outputs": [
        {
          "output_type": "stream",
          "text": [
            "Mounted at /content/gdrive\n"
          ],
          "name": "stdout"
        }
      ]
    },
    {
      "cell_type": "code",
      "metadata": {
        "id": "YflFPdWt_YML",
        "colab": {
          "base_uri": "https://localhost:8080/",
          "height": 303
        },
        "outputId": "9e267904-86a2-41a9-f22a-9f31eaeeb247"
      },
      "source": [
        "df = pd.read_csv('/content/drive/MyDrive/Colab Notebooks/CRM/CustomerReviews.csv')"
      ],
      "execution_count": null,
      "outputs": [
        {
          "output_type": "error",
          "ename": "OSError",
          "evalue": "ignored",
          "traceback": [
            "\u001b[0;31m---------------------------------------------------------------------------\u001b[0m",
            "\u001b[0;31mOSError\u001b[0m                                   Traceback (most recent call last)",
            "\u001b[0;32m<ipython-input-10-e9cb88755133>\u001b[0m in \u001b[0;36m<module>\u001b[0;34m()\u001b[0m\n\u001b[0;32m----> 1\u001b[0;31m \u001b[0mdf\u001b[0m \u001b[0;34m=\u001b[0m \u001b[0mpd\u001b[0m\u001b[0;34m.\u001b[0m\u001b[0mread_csv\u001b[0m\u001b[0;34m(\u001b[0m\u001b[0;34m'/content/drive/MyDrive/Colab Notebooks/CRM/CustomerReviews.csv'\u001b[0m\u001b[0;34m)\u001b[0m\u001b[0;34m\u001b[0m\u001b[0;34m\u001b[0m\u001b[0m\n\u001b[0m",
            "\u001b[0;32m/usr/local/lib/python3.7/dist-packages/pandas/io/parsers.py\u001b[0m in \u001b[0;36mread_csv\u001b[0;34m(filepath_or_buffer, sep, delimiter, header, names, index_col, usecols, squeeze, prefix, mangle_dupe_cols, dtype, engine, converters, true_values, false_values, skipinitialspace, skiprows, skipfooter, nrows, na_values, keep_default_na, na_filter, verbose, skip_blank_lines, parse_dates, infer_datetime_format, keep_date_col, date_parser, dayfirst, cache_dates, iterator, chunksize, compression, thousands, decimal, lineterminator, quotechar, quoting, doublequote, escapechar, comment, encoding, dialect, error_bad_lines, warn_bad_lines, delim_whitespace, low_memory, memory_map, float_precision, storage_options)\u001b[0m\n\u001b[1;32m    608\u001b[0m     \u001b[0mkwds\u001b[0m\u001b[0;34m.\u001b[0m\u001b[0mupdate\u001b[0m\u001b[0;34m(\u001b[0m\u001b[0mkwds_defaults\u001b[0m\u001b[0;34m)\u001b[0m\u001b[0;34m\u001b[0m\u001b[0;34m\u001b[0m\u001b[0m\n\u001b[1;32m    609\u001b[0m \u001b[0;34m\u001b[0m\u001b[0m\n\u001b[0;32m--> 610\u001b[0;31m     \u001b[0;32mreturn\u001b[0m \u001b[0m_read\u001b[0m\u001b[0;34m(\u001b[0m\u001b[0mfilepath_or_buffer\u001b[0m\u001b[0;34m,\u001b[0m \u001b[0mkwds\u001b[0m\u001b[0;34m)\u001b[0m\u001b[0;34m\u001b[0m\u001b[0;34m\u001b[0m\u001b[0m\n\u001b[0m\u001b[1;32m    611\u001b[0m \u001b[0;34m\u001b[0m\u001b[0m\n\u001b[1;32m    612\u001b[0m \u001b[0;34m\u001b[0m\u001b[0m\n",
            "\u001b[0;32m/usr/local/lib/python3.7/dist-packages/pandas/io/parsers.py\u001b[0m in \u001b[0;36m_read\u001b[0;34m(filepath_or_buffer, kwds)\u001b[0m\n\u001b[1;32m    460\u001b[0m \u001b[0;34m\u001b[0m\u001b[0m\n\u001b[1;32m    461\u001b[0m     \u001b[0;31m# Create the parser.\u001b[0m\u001b[0;34m\u001b[0m\u001b[0;34m\u001b[0m\u001b[0;34m\u001b[0m\u001b[0m\n\u001b[0;32m--> 462\u001b[0;31m     \u001b[0mparser\u001b[0m \u001b[0;34m=\u001b[0m \u001b[0mTextFileReader\u001b[0m\u001b[0;34m(\u001b[0m\u001b[0mfilepath_or_buffer\u001b[0m\u001b[0;34m,\u001b[0m \u001b[0;34m**\u001b[0m\u001b[0mkwds\u001b[0m\u001b[0;34m)\u001b[0m\u001b[0;34m\u001b[0m\u001b[0;34m\u001b[0m\u001b[0m\n\u001b[0m\u001b[1;32m    463\u001b[0m \u001b[0;34m\u001b[0m\u001b[0m\n\u001b[1;32m    464\u001b[0m     \u001b[0;32mif\u001b[0m \u001b[0mchunksize\u001b[0m \u001b[0;32mor\u001b[0m \u001b[0miterator\u001b[0m\u001b[0;34m:\u001b[0m\u001b[0;34m\u001b[0m\u001b[0;34m\u001b[0m\u001b[0m\n",
            "\u001b[0;32m/usr/local/lib/python3.7/dist-packages/pandas/io/parsers.py\u001b[0m in \u001b[0;36m__init__\u001b[0;34m(self, f, engine, **kwds)\u001b[0m\n\u001b[1;32m    817\u001b[0m             \u001b[0mself\u001b[0m\u001b[0;34m.\u001b[0m\u001b[0moptions\u001b[0m\u001b[0;34m[\u001b[0m\u001b[0;34m\"has_index_names\"\u001b[0m\u001b[0;34m]\u001b[0m \u001b[0;34m=\u001b[0m \u001b[0mkwds\u001b[0m\u001b[0;34m[\u001b[0m\u001b[0;34m\"has_index_names\"\u001b[0m\u001b[0;34m]\u001b[0m\u001b[0;34m\u001b[0m\u001b[0;34m\u001b[0m\u001b[0m\n\u001b[1;32m    818\u001b[0m \u001b[0;34m\u001b[0m\u001b[0m\n\u001b[0;32m--> 819\u001b[0;31m         \u001b[0mself\u001b[0m\u001b[0;34m.\u001b[0m\u001b[0m_engine\u001b[0m \u001b[0;34m=\u001b[0m \u001b[0mself\u001b[0m\u001b[0;34m.\u001b[0m\u001b[0m_make_engine\u001b[0m\u001b[0;34m(\u001b[0m\u001b[0mself\u001b[0m\u001b[0;34m.\u001b[0m\u001b[0mengine\u001b[0m\u001b[0;34m)\u001b[0m\u001b[0;34m\u001b[0m\u001b[0;34m\u001b[0m\u001b[0m\n\u001b[0m\u001b[1;32m    820\u001b[0m \u001b[0;34m\u001b[0m\u001b[0m\n\u001b[1;32m    821\u001b[0m     \u001b[0;32mdef\u001b[0m \u001b[0mclose\u001b[0m\u001b[0;34m(\u001b[0m\u001b[0mself\u001b[0m\u001b[0;34m)\u001b[0m\u001b[0;34m:\u001b[0m\u001b[0;34m\u001b[0m\u001b[0;34m\u001b[0m\u001b[0m\n",
            "\u001b[0;32m/usr/local/lib/python3.7/dist-packages/pandas/io/parsers.py\u001b[0m in \u001b[0;36m_make_engine\u001b[0;34m(self, engine)\u001b[0m\n\u001b[1;32m   1048\u001b[0m             )\n\u001b[1;32m   1049\u001b[0m         \u001b[0;31m# error: Too many arguments for \"ParserBase\"\u001b[0m\u001b[0;34m\u001b[0m\u001b[0;34m\u001b[0m\u001b[0;34m\u001b[0m\u001b[0m\n\u001b[0;32m-> 1050\u001b[0;31m         \u001b[0;32mreturn\u001b[0m \u001b[0mmapping\u001b[0m\u001b[0;34m[\u001b[0m\u001b[0mengine\u001b[0m\u001b[0;34m]\u001b[0m\u001b[0;34m(\u001b[0m\u001b[0mself\u001b[0m\u001b[0;34m.\u001b[0m\u001b[0mf\u001b[0m\u001b[0;34m,\u001b[0m \u001b[0;34m**\u001b[0m\u001b[0mself\u001b[0m\u001b[0;34m.\u001b[0m\u001b[0moptions\u001b[0m\u001b[0;34m)\u001b[0m  \u001b[0;31m# type: ignore[call-arg]\u001b[0m\u001b[0;34m\u001b[0m\u001b[0;34m\u001b[0m\u001b[0m\n\u001b[0m\u001b[1;32m   1051\u001b[0m \u001b[0;34m\u001b[0m\u001b[0m\n\u001b[1;32m   1052\u001b[0m     \u001b[0;32mdef\u001b[0m \u001b[0m_failover_to_python\u001b[0m\u001b[0;34m(\u001b[0m\u001b[0mself\u001b[0m\u001b[0;34m)\u001b[0m\u001b[0;34m:\u001b[0m\u001b[0;34m\u001b[0m\u001b[0;34m\u001b[0m\u001b[0m\n",
            "\u001b[0;32m/usr/local/lib/python3.7/dist-packages/pandas/io/parsers.py\u001b[0m in \u001b[0;36m__init__\u001b[0;34m(self, src, **kwds)\u001b[0m\n\u001b[1;32m   1865\u001b[0m \u001b[0;34m\u001b[0m\u001b[0m\n\u001b[1;32m   1866\u001b[0m         \u001b[0;31m# open handles\u001b[0m\u001b[0;34m\u001b[0m\u001b[0;34m\u001b[0m\u001b[0;34m\u001b[0m\u001b[0m\n\u001b[0;32m-> 1867\u001b[0;31m         \u001b[0mself\u001b[0m\u001b[0;34m.\u001b[0m\u001b[0m_open_handles\u001b[0m\u001b[0;34m(\u001b[0m\u001b[0msrc\u001b[0m\u001b[0;34m,\u001b[0m \u001b[0mkwds\u001b[0m\u001b[0;34m)\u001b[0m\u001b[0;34m\u001b[0m\u001b[0;34m\u001b[0m\u001b[0m\n\u001b[0m\u001b[1;32m   1868\u001b[0m         \u001b[0;32massert\u001b[0m \u001b[0mself\u001b[0m\u001b[0;34m.\u001b[0m\u001b[0mhandles\u001b[0m \u001b[0;32mis\u001b[0m \u001b[0;32mnot\u001b[0m \u001b[0;32mNone\u001b[0m\u001b[0;34m\u001b[0m\u001b[0;34m\u001b[0m\u001b[0m\n\u001b[1;32m   1869\u001b[0m         \u001b[0;32mfor\u001b[0m \u001b[0mkey\u001b[0m \u001b[0;32min\u001b[0m \u001b[0;34m(\u001b[0m\u001b[0;34m\"storage_options\"\u001b[0m\u001b[0;34m,\u001b[0m \u001b[0;34m\"encoding\"\u001b[0m\u001b[0;34m,\u001b[0m \u001b[0;34m\"memory_map\"\u001b[0m\u001b[0;34m,\u001b[0m \u001b[0;34m\"compression\"\u001b[0m\u001b[0;34m)\u001b[0m\u001b[0;34m:\u001b[0m\u001b[0;34m\u001b[0m\u001b[0;34m\u001b[0m\u001b[0m\n",
            "\u001b[0;32m/usr/local/lib/python3.7/dist-packages/pandas/io/parsers.py\u001b[0m in \u001b[0;36m_open_handles\u001b[0;34m(self, src, kwds)\u001b[0m\n\u001b[1;32m   1366\u001b[0m             \u001b[0mcompression\u001b[0m\u001b[0;34m=\u001b[0m\u001b[0mkwds\u001b[0m\u001b[0;34m.\u001b[0m\u001b[0mget\u001b[0m\u001b[0;34m(\u001b[0m\u001b[0;34m\"compression\"\u001b[0m\u001b[0;34m,\u001b[0m \u001b[0;32mNone\u001b[0m\u001b[0;34m)\u001b[0m\u001b[0;34m,\u001b[0m\u001b[0;34m\u001b[0m\u001b[0;34m\u001b[0m\u001b[0m\n\u001b[1;32m   1367\u001b[0m             \u001b[0mmemory_map\u001b[0m\u001b[0;34m=\u001b[0m\u001b[0mkwds\u001b[0m\u001b[0;34m.\u001b[0m\u001b[0mget\u001b[0m\u001b[0;34m(\u001b[0m\u001b[0;34m\"memory_map\"\u001b[0m\u001b[0;34m,\u001b[0m \u001b[0;32mFalse\u001b[0m\u001b[0;34m)\u001b[0m\u001b[0;34m,\u001b[0m\u001b[0;34m\u001b[0m\u001b[0;34m\u001b[0m\u001b[0m\n\u001b[0;32m-> 1368\u001b[0;31m             \u001b[0mstorage_options\u001b[0m\u001b[0;34m=\u001b[0m\u001b[0mkwds\u001b[0m\u001b[0;34m.\u001b[0m\u001b[0mget\u001b[0m\u001b[0;34m(\u001b[0m\u001b[0;34m\"storage_options\"\u001b[0m\u001b[0;34m,\u001b[0m \u001b[0;32mNone\u001b[0m\u001b[0;34m)\u001b[0m\u001b[0;34m,\u001b[0m\u001b[0;34m\u001b[0m\u001b[0;34m\u001b[0m\u001b[0m\n\u001b[0m\u001b[1;32m   1369\u001b[0m         )\n\u001b[1;32m   1370\u001b[0m \u001b[0;34m\u001b[0m\u001b[0m\n",
            "\u001b[0;32m/usr/local/lib/python3.7/dist-packages/pandas/io/common.py\u001b[0m in \u001b[0;36mget_handle\u001b[0;34m(path_or_buf, mode, encoding, compression, memory_map, is_text, errors, storage_options)\u001b[0m\n\u001b[1;32m    645\u001b[0m                 \u001b[0mencoding\u001b[0m\u001b[0;34m=\u001b[0m\u001b[0mioargs\u001b[0m\u001b[0;34m.\u001b[0m\u001b[0mencoding\u001b[0m\u001b[0;34m,\u001b[0m\u001b[0;34m\u001b[0m\u001b[0;34m\u001b[0m\u001b[0m\n\u001b[1;32m    646\u001b[0m                 \u001b[0merrors\u001b[0m\u001b[0;34m=\u001b[0m\u001b[0merrors\u001b[0m\u001b[0;34m,\u001b[0m\u001b[0;34m\u001b[0m\u001b[0;34m\u001b[0m\u001b[0m\n\u001b[0;32m--> 647\u001b[0;31m                 \u001b[0mnewline\u001b[0m\u001b[0;34m=\u001b[0m\u001b[0;34m\"\"\u001b[0m\u001b[0;34m,\u001b[0m\u001b[0;34m\u001b[0m\u001b[0;34m\u001b[0m\u001b[0m\n\u001b[0m\u001b[1;32m    648\u001b[0m             )\n\u001b[1;32m    649\u001b[0m         \u001b[0;32melse\u001b[0m\u001b[0;34m:\u001b[0m\u001b[0;34m\u001b[0m\u001b[0;34m\u001b[0m\u001b[0m\n",
            "\u001b[0;31mOSError\u001b[0m: [Errno 107] Transport endpoint is not connected: '/content/drive/MyDrive/Colab Notebooks/CRM/CustomerReviews.csv'"
          ]
        }
      ]
    },
    {
      "cell_type": "code",
      "metadata": {
        "colab": {
          "base_uri": "https://localhost:8080/",
          "height": 204
        },
        "id": "Mv5azqAfAcLu",
        "outputId": "78990704-80bc-419b-98c6-5acb49e35aa4"
      },
      "source": [
        "df.tail()"
      ],
      "execution_count": null,
      "outputs": [
        {
          "output_type": "execute_result",
          "data": {
            "text/html": [
              "<div>\n",
              "<style scoped>\n",
              "    .dataframe tbody tr th:only-of-type {\n",
              "        vertical-align: middle;\n",
              "    }\n",
              "\n",
              "    .dataframe tbody tr th {\n",
              "        vertical-align: top;\n",
              "    }\n",
              "\n",
              "    .dataframe thead th {\n",
              "        text-align: right;\n",
              "    }\n",
              "</style>\n",
              "<table border=\"1\" class=\"dataframe\">\n",
              "  <thead>\n",
              "    <tr style=\"text-align: right;\">\n",
              "      <th></th>\n",
              "      <th>Review ID</th>\n",
              "      <th>Restaurant_ID</th>\n",
              "      <th>Restaurant</th>\n",
              "      <th>User</th>\n",
              "      <th>Headline</th>\n",
              "      <th>Review</th>\n",
              "      <th>Rating</th>\n",
              "    </tr>\n",
              "  </thead>\n",
              "  <tbody>\n",
              "    <tr>\n",
              "      <th>16</th>\n",
              "      <td>17</td>\n",
              "      <td>436045MJ-ข้าน้อยขอชาบู</td>\n",
              "      <td>ข้าน้อยขอชาบู</td>\n",
              "      <td>ployynp</td>\n",
              "      <td>บุฟเฟ่ต์ชาบูและพิซซ่าไม่อั้นในราคา 199 บาท เน้...</td>\n",
              "      <td>หลังจากที่เคยลองสาขายูเนี่ยนมอลล์ไป รอบนี้มาที...</td>\n",
              "      <td>4.0</td>\n",
              "    </tr>\n",
              "    <tr>\n",
              "      <th>17</th>\n",
              "      <td>18</td>\n",
              "      <td>436045MJ-ข้าน้อยขอชาบู</td>\n",
              "      <td>ข้าน้อยขอชาบู</td>\n",
              "      <td>27a91236fe5e4559a4f097c97a480781</td>\n",
              "      <td>ร้านบุฟเฟ่ต์ ราคามิตรภาพ อยู่ชั้น4 ติดโรงหนัง ...</td>\n",
              "      <td>ร้านบุฟเฟ่ต์ที่มีโปรโมชั่นหัวละ199บาท ไม่รวมน้...</td>\n",
              "      <td>4.0</td>\n",
              "    </tr>\n",
              "    <tr>\n",
              "      <th>18</th>\n",
              "      <td>19</td>\n",
              "      <td>436045MJ-ข้าน้อยขอชาบู</td>\n",
              "      <td>ข้าน้อยขอชาบู</td>\n",
              "      <td>0b81d251e4db486f9bcdba73b374ed99</td>\n",
              "      <td>ของหลากหลาย ปนๆ งงๆ นิดหน่อย</td>\n",
              "      <td>เคยรู้จักร้านนี้จากที่ union mall ไม่เคยได้ลอง...</td>\n",
              "      <td>3.0</td>\n",
              "    </tr>\n",
              "    <tr>\n",
              "      <th>19</th>\n",
              "      <td>20</td>\n",
              "      <td>436045MJ-ข้าน้อยขอชาบู</td>\n",
              "      <td>ข้าน้อยขอชาบู</td>\n",
              "      <td>40e0e087f3914fd49a8933b5a29936ca</td>\n",
              "      <td>อร่อยมากค่ะ คุ้มค่าสมราคา บุฟเฟ่หมูผักต่างๆ รว...</td>\n",
              "      <td>อร่อยมากค่ะ คุ้มค่าสมราคา บุฟเฟ่หมูผักต่างๆ รว...</td>\n",
              "      <td>5.0</td>\n",
              "    </tr>\n",
              "    <tr>\n",
              "      <th>20</th>\n",
              "      <td>21</td>\n",
              "      <td>436045MJ-ข้าน้อยขอชาบู</td>\n",
              "      <td>ข้าน้อยขอชาบู</td>\n",
              "      <td>41841cb99ea243a3a8d4b006e946c586</td>\n",
              "      <td>แม้จะแปลกบ้าง แต่ก็ถือว่าอยู่ในเกณฑ์ที่ดี มีอา...</td>\n",
              "      <td>ก็ตามที่เขียนเลยครับ ว่า ถ้าจะจ่ายในราคา 199 บ...</td>\n",
              "      <td>NaN</td>\n",
              "    </tr>\n",
              "  </tbody>\n",
              "</table>\n",
              "</div>"
            ],
            "text/plain": [
              "    Review ID  ... Rating\n",
              "16         17  ...    4.0\n",
              "17         18  ...    4.0\n",
              "18         19  ...    3.0\n",
              "19         20  ...    5.0\n",
              "20         21  ...    NaN\n",
              "\n",
              "[5 rows x 7 columns]"
            ]
          },
          "metadata": {
            "tags": []
          },
          "execution_count": 49
        }
      ]
    },
    {
      "cell_type": "code",
      "metadata": {
        "id": "zaGrAes8XwdB"
      },
      "source": [
        "stopwords = list(pythainlp.corpus.thai_stopwords())\n",
        "#removed_words = [' ', '  ', '\\n', 'ร้าน', '(', ')' , '           ','-',':',' ','1', '2','3','4', '560', 'กัน', 'กับ', 'การ', 'กิน', 'ก็', 'ก่อน', 'ของ','/','+','โม','บุ','ฟเฟ่','บุฟเฟ่']\n",
        "removed_words = [' ', '  ', '\\n', 'ร้าน', '(', ')' , '           ','-',':',' ','1', '2','3','4', '560', 'กัน', 'กับ', 'การ', 'กิน', 'ก็', 'ก่อน', 'ของ','/','+','โม','บุ','ฟเฟ่','บุฟเฟ่','ชาบู','ทาน','น้ำ']\n",
        "screening_words = stopwords + removed_words\n"
      ],
      "execution_count": null,
      "outputs": []
    },
    {
      "cell_type": "code",
      "metadata": {
        "id": "BVUDGu7qAvTJ"
      },
      "source": [
        "def tokenize_with_space(sentence):\n",
        "  merged = ''\n",
        "  words = pythainlp.word_tokenize(str(sentence), engine='newmm')\n",
        "  for word in words:\n",
        "    if word not in screening_words:\n",
        "      merged = merged + ',' + word\n",
        "  return merged[1:]"
      ],
      "execution_count": null,
      "outputs": []
    },
    {
      "cell_type": "code",
      "metadata": {
        "id": "6nNNUoGEAzFc"
      },
      "source": [
        "df['Review_tokenized'] = df['Review'].apply(lambda x: tokenize_with_space(x))"
      ],
      "execution_count": null,
      "outputs": []
    },
    {
      "cell_type": "code",
      "metadata": {
        "colab": {
          "base_uri": "https://localhost:8080/",
          "height": 306
        },
        "id": "SXKmPn12A2j1",
        "outputId": "26e6e037-85a9-4454-b82c-0e6c2bc7f542"
      },
      "source": [
        "df.tail()"
      ],
      "execution_count": null,
      "outputs": [
        {
          "output_type": "execute_result",
          "data": {
            "text/html": [
              "<div>\n",
              "<style scoped>\n",
              "    .dataframe tbody tr th:only-of-type {\n",
              "        vertical-align: middle;\n",
              "    }\n",
              "\n",
              "    .dataframe tbody tr th {\n",
              "        vertical-align: top;\n",
              "    }\n",
              "\n",
              "    .dataframe thead th {\n",
              "        text-align: right;\n",
              "    }\n",
              "</style>\n",
              "<table border=\"1\" class=\"dataframe\">\n",
              "  <thead>\n",
              "    <tr style=\"text-align: right;\">\n",
              "      <th></th>\n",
              "      <th>Review ID</th>\n",
              "      <th>Restaurant_ID</th>\n",
              "      <th>Restaurant</th>\n",
              "      <th>User</th>\n",
              "      <th>Headline</th>\n",
              "      <th>Review</th>\n",
              "      <th>Rating</th>\n",
              "      <th>Review_tokenized</th>\n",
              "      <th>topics</th>\n",
              "      <th>score</th>\n",
              "    </tr>\n",
              "  </thead>\n",
              "  <tbody>\n",
              "    <tr>\n",
              "      <th>16</th>\n",
              "      <td>17</td>\n",
              "      <td>436045MJ-ข้าน้อยขอชาบู</td>\n",
              "      <td>ข้าน้อยขอชาบู</td>\n",
              "      <td>ployynp</td>\n",
              "      <td>บุฟเฟ่ต์ชาบูและพิซซ่าไม่อั้นในราคา 199 บาท เน้...</td>\n",
              "      <td>หลังจากที่เคยลองสาขายูเนี่ยนมอลล์ไป รอบนี้มาที...</td>\n",
              "      <td>4.0</td>\n",
              "      <td>หลังจากที่,ลอง,สาขา,ยู,นม,อลล์,รอบ,สาขา,เดอะ,ม...</td>\n",
              "      <td>3</td>\n",
              "      <td>0.994562</td>\n",
              "    </tr>\n",
              "    <tr>\n",
              "      <th>17</th>\n",
              "      <td>18</td>\n",
              "      <td>436045MJ-ข้าน้อยขอชาบู</td>\n",
              "      <td>ข้าน้อยขอชาบู</td>\n",
              "      <td>27a91236fe5e4559a4f097c97a480781</td>\n",
              "      <td>ร้านบุฟเฟ่ต์ ราคามิตรภาพ อยู่ชั้น4 ติดโรงหนัง ...</td>\n",
              "      <td>ร้านบุฟเฟ่ต์ที่มีโปรโมชั่นหัวละ199บาท ไม่รวมน้...</td>\n",
              "      <td>4.0</td>\n",
              "      <td>บุฟเฟ่ต์,โปรโมชั่น,หัว,199,บาท,VAT,ธรรมดา,ชอบ,...</td>\n",
              "      <td>3</td>\n",
              "      <td>0.993499</td>\n",
              "    </tr>\n",
              "    <tr>\n",
              "      <th>18</th>\n",
              "      <td>19</td>\n",
              "      <td>436045MJ-ข้าน้อยขอชาบู</td>\n",
              "      <td>ข้าน้อยขอชาบู</td>\n",
              "      <td>0b81d251e4db486f9bcdba73b374ed99</td>\n",
              "      <td>ของหลากหลาย ปนๆ งงๆ นิดหน่อย</td>\n",
              "      <td>เคยรู้จักร้านนี้จากที่ union mall ไม่เคยได้ลอง...</td>\n",
              "      <td>3.0</td>\n",
              "      <td>รู้จัก,union,mall,ลอง,จำได้,ขึ้นใจ,ชื่อ,😆,ชื่อ...</td>\n",
              "      <td>13</td>\n",
              "      <td>0.991070</td>\n",
              "    </tr>\n",
              "    <tr>\n",
              "      <th>19</th>\n",
              "      <td>20</td>\n",
              "      <td>436045MJ-ข้าน้อยขอชาบู</td>\n",
              "      <td>ข้าน้อยขอชาบู</td>\n",
              "      <td>40e0e087f3914fd49a8933b5a29936ca</td>\n",
              "      <td>อร่อยมากค่ะ คุ้มค่าสมราคา บุฟเฟ่หมูผักต่างๆ รว...</td>\n",
              "      <td>อร่อยมากค่ะ คุ้มค่าสมราคา บุฟเฟ่หมูผักต่างๆ รว...</td>\n",
              "      <td>5.0</td>\n",
              "      <td>อร่อย,คุ้มค่า,สมราคา,หมู,ผัก,จบ,255,ท่าน,เด็ด,...</td>\n",
              "      <td>10</td>\n",
              "      <td>0.991269</td>\n",
              "    </tr>\n",
              "    <tr>\n",
              "      <th>20</th>\n",
              "      <td>21</td>\n",
              "      <td>436045MJ-ข้าน้อยขอชาบู</td>\n",
              "      <td>ข้าน้อยขอชาบู</td>\n",
              "      <td>41841cb99ea243a3a8d4b006e946c586</td>\n",
              "      <td>แม้จะแปลกบ้าง แต่ก็ถือว่าอยู่ในเกณฑ์ที่ดี มีอา...</td>\n",
              "      <td>ก็ตามที่เขียนเลยครับ ว่า ถ้าจะจ่ายในราคา 199 บ...</td>\n",
              "      <td>NaN</td>\n",
              "      <td>จ่าย,ราคา,199,บาท,จ่าย,เงินสด,ราคา,VAT,7,%,สั่...</td>\n",
              "      <td>4</td>\n",
              "      <td>0.987554</td>\n",
              "    </tr>\n",
              "  </tbody>\n",
              "</table>\n",
              "</div>"
            ],
            "text/plain": [
              "    Review ID           Restaurant_ID  ... topics     score\n",
              "16         17  436045MJ-ข้าน้อยขอชาบู  ...      3  0.994562\n",
              "17         18  436045MJ-ข้าน้อยขอชาบู  ...      3  0.993499\n",
              "18         19  436045MJ-ข้าน้อยขอชาบู  ...     13  0.991070\n",
              "19         20  436045MJ-ข้าน้อยขอชาบู  ...     10  0.991269\n",
              "20         21  436045MJ-ข้าน้อยขอชาบู  ...      4  0.987554\n",
              "\n",
              "[5 rows x 10 columns]"
            ]
          },
          "metadata": {
            "tags": []
          },
          "execution_count": 179
        }
      ]
    },
    {
      "cell_type": "markdown",
      "metadata": {
        "id": "EVpTvYlrBYal"
      },
      "source": [
        "**Data dict.**"
      ]
    },
    {
      "cell_type": "code",
      "metadata": {
        "id": "GnRBcUgkBfOv"
      },
      "source": [
        "documents = df['Review_tokenized'].to_list()\n",
        "texts = [[text for text in doc.split(',')] for doc in documents]\n",
        "dictionary = gensim.corpora.Dictionary(texts)"
      ],
      "execution_count": null,
      "outputs": []
    },
    {
      "cell_type": "code",
      "metadata": {
        "colab": {
          "base_uri": "https://localhost:8080/"
        },
        "id": "a8lkY0IqBpS7",
        "outputId": "fd0b20bf-c5a7-4f6d-e048-c3b37d45736b"
      },
      "source": [
        "print(dictionary.token2id.keys())"
      ],
      "execution_count": null,
      "outputs": [
        {
          "output_type": "stream",
          "text": [
            "dict_keys(['ข้างนอก', 'ความต้องการ', 'คอ', 'คุณภาพ', 'คุ้ม', 'จำกัด', 'ซุป', 'ดำ', 'ดี', 'ดีมาก', 'ถาด', 'ถาม', 'น่ารัก', 'น้ำจิ้ม', 'บริการ', 'บาท', 'ประทับใจ', 'พนักงาน', 'พอกับ', 'ภาพ', 'รสชาติ', 'ราคา', 'สรุป', 'สะอาดสะอ้าน', 'สัน', 'หลากหลาย', 'อร่อย', 'อันนี้', 'อาหาร', 'เคลม', 'เซ็ท', 'เต้าเจี้ยว', 'เนื้อ', 'เป็ด', 'เผ็ด', 'แบบนี้', 'แปลก', 'แฟน', 'โดยรวม', 'โมจิ', 'ใส่ใจ', 'ไม่ต้อง', 'ไอติม', '\\u200b', '21', '30', '9', 'CTW', 'Terminal', 'กา', 'การงด', 'คิดถึง', 'ญี่ปุ่น', 'ฐาน', 'ทะยอย', 'ทำงาน', 'ที่ทาง', 'นาที', 'นึกถึง', 'พนักงานบริการ', 'พระราม', 'พรีเมียม', 'พาราไดซ์', 'มาตรา', 'มีโอ', 'รายละเอียด', 'ลูกค้า', 'สมาทาน', 'สาขา', 'สู้', 'ออร์เดอร์', 'เครื่องดื่ม', 'เค้า', 'เจอ', 'เป็นกันเอง', 'เหวี่ยง', 'แจ้ง', 'โม่', 'โอเค', '', '++', '555', '600', '::', 'กก', 'กรุบ', 'กั้น', 'ของหวาน', 'คนละ', 'คาว', 'คุ', 'คุ้มค่า', 'จาน', 'จิ้ม', 'จืด', 'ฉาก', 'ชอบ', 'ชาเขียว', 'ชิ้น', 'ซอย', 'ซอส', 'ตก', 'ตะ', 'ตัก', 'ตามน้ำ', 'ต่างกัน', 'ถั่ว', 'ถ่ายรูป', 'นั่ง', 'นุ่ม', 'บด', 'บาร์', 'บู', 'ผัก', 'ภาษา', 'มีชื่อ', 'ยังมี', 'รส', 'รี่', 'รู้สึก', 'ลอง', 'ลิ้น', 'ลืม', 'ววว', 'สด', 'สตอ', 'สั่ง', 'สามรส', 'ส่วนตัว', 'หนึบ', 'หม้อ', 'หวาน', 'อยากได้', 'เข้มข้น', 'เข้ากัน', 'เค็ม', 'เนื้อวัว', 'เนื้อสัตว์', 'เนื้อหมู', 'เบอ', 'เป็นผู้ใหญ่', 'เลือก', 'เสิร์ฟ', 'เหนียว', 'เห็ด', 'แดง', 'แตก', 'แตา', 'แนว', 'แย้', 'โควิด', 'โต๊ะ', 'โร', 'ใส', 'ไก่', 'ไข่', 'ไดฟูกุ', 'ไผ่', 'ไม้', 'ไหว', 'ข้าว', 'จ่าย', 'ถ้วย', 'ธรรมดา', 'ส', 'ออ', 'เกินไป', 'เลี่ยน', 'โปร', 'โหด', 'ไว', 'ไอศกรีม', 'ขนม', 'คุณภาพดี', 'ตัดสินใจ', 'ต่าง ๆ', 'ที่จะ', 'ที่นั่ง', 'บัตรเครดิต', 'มมาก', 'ลูกชิ้น', 'สบายดี', 'หน้า', 'หอ', 'เดิน', 'เด็ก', 'เส้น', 'เหมือนกับ', 'แคบ', 'ได้กลิ่น', 'คามี', 'ซึ', 'นะคะ', 'บ๋วย', 'พอน', 'รา', 'สาย', 'หยิบ', 'โซน', 'โปรโมชั่น', '20', '4.0', '5', 'Menu', 'Number', 'กรรมวิธี', 'กะปิ', 'ก์', 'คน', 'คะแนน', 'ชุด', 'ดังเดิม', 'บุฟเฟ่ต์', 'ประ', 'พารา', 'มอ', 'ยุค', 'ร้านอาหาร', 'ล', 'สุกี้', 'สไตล์', 'ส์', 'หมู', 'หลาก', 'หลายชนิด', 'เดอะ', 'เมนู', 'แบบฉบับ', 'แบ่ง', 'ได', 'ไทย', '–', '!!!!', '500', 'กาแฟ', 'งวด', 'ตอนที่', 'ตำ', 'ติด', 'ทั่วไป', 'น', 'บ๊วย', 'ยุ', 'ร้อน', 'ลุย', 'สุกี้ยากี้', 'อยู่แล้ว', 'ออสเตรเลีย', 'เป็นปกติ', 'เฟรนไชส์', 'เรื่อง', 'เหมาะสม', 'แนะนำ', 'โช', 'ไข่ไก่', 'ไอศครีม', '..', '399', 'กุ้ง', 'ของกิน', 'ขา', 'ชิ', 'ซูชิ', 'ซ่า', 'ตอน', 'ตอนนี้', 'นิดนึง', 'ปุระ', 'ปูอัด', 'ม', 'ละลานตา', 'สายพาน', 'หิว', 'ฮ่า', 'าน', 'เกี๊ยว', 'เท', 'เทียบ', 'เล่น', 'แพง', 'แล้วก็', 'ไม่งั้น', 'กลาย', 'กี่', 'ชั่วคราว', 'ชื่นใจ', 'ซะงั้น', 'ญี่', 'ดึก', 'ตบท้าย', 'ตัว', 'ทอด', 'ทานอาหาร', 'นพ', 'นึก', 'น้ะ', 'ปลา', 'ปุ', 'ผิดหวัง', 'วก', 'สมใจ', 'อย่า', 'อาหารเสริม', 'เติม', 'เป็นมา', 'เป็นหลัก', 'เย็น', '1.15', 'net', 'กลับมา', 'ของคาว', 'ชม.', 'ตรงนั้น', 'ยืน', 'ลายตา', 'สไลด์', 'อัพเดท', 'อิ่ม', 'เบ', 'เพลิน', 'ไลน์', '\"', '/คน', '15', '359', 'G', 'Net', 'Shabushi', 'กด', 'กรอ', 'ขาดสารอาหาร', 'ขึ้นราคา', 'ข่าว', 'คนเดียว', 'ครึ่ง', 'คิว', 'งาน', 'จุ', 'ชั่วโมง', 'ชั้น', 'ชื่น', 'ดู', 'ตลับ', 'ตับ', 'ตั้งอยู่', 'ติง', 'ถนนใหญ่', 'ถูกใจ', 'ทำ', 'ทิ้ง', 'น้ำมัน', 'บดี', 'ปลาดิบ', 'ปอกเปลือก', 'ฝรั่ง', 'ฝั่ง', 'มอลล์', 'มื้อ', 'รอ', 'ระดับ', 'รายการ', 'ลด', 'ลา', 'ลูก', 'วันหยุด', 'วาง', 'วานิลา', 'สะอาด', 'สาเหตุ', 'สำหรับ', 'สไปรท์', 'หนา', 'หอม', 'หอย', 'หาไม่', 'ห่างหาย', 'ห้าง', 'อม', 'ออกมา', 'อาทิตย์', 'อีกครั้ง', 'เช็คบิล', 'เด่น', 'เด้ง', 'เบคอน', 'เปรี้ยวหวาน', 'เพื่อน', 'เลิก', 'เวลา', 'เสาร์', 'เหมือน', 'เหมือนกัน', 'แก้ว', 'แถม', 'แน่น', 'แป้ง', 'แย่', 'แออัด', 'โดน', 'โดยประมาณ', 'โฟลต', 'โอ', 'ใจดี', 'ใจมา', 'ใช้ได้', 'ใส่', 'ได้ยิน', 'ชอค', 'ต', 'นัด', 'นิ', 'มะนาว', 'มุ', 'ลงเอย', 'ว', 'วันก่อน', 'ห', 'หา', 'อยุ่', 'อาหารสด', 'เบอร์', 'แกงค์', 'แล', 'โก', 'กินที่', 'ขยัน', 'จอง', 'ชู', 'ณ์', 'บุฟเฟต์', 'ป', 'ประตู', 'พลาด', 'พอได้', 'พี่', 'รอบ', 'ร้อย', 'สาม', 'สุดท้าย', 'หลายครั้ง', 'หล่ะ', 'อาราม', 'เข้าหน้า', 'เต็ม', 'โชคดี', 'ขวัญใจ', 'ข้อดี', 'ต้องการ', 'ทั่วถึง', 'นํ้า', 'บ', 'ฟเฟ', 'มี่', 'ระบบ', 'รีวิว', 'สวัสดี', 'เก้', 'ใช้แล้ว', '^^', 'xx', 'กลยุทธ์', 'ขนาด', 'ข้น', 'ข้าวปั้น', 'ค่า', 'ชอป', 'ซุ้ม', 'ดีขึ้น', 'ตรงข้าม', 'ตรงนี้', 'ต้ม', 'ต้มยำ', 'ท่าน', 'นัล', 'บริเวณ', 'บัตรสมาชิก', 'ปรับปรุง', 'มันดี', 'มากขึ้น', 'ยอด', 'ลาน', 'สลัด', 'หมู่คณะ', 'ออกร้าน', 'อิอิ', 'เครือ', 'เคลื่อนตัว', 'เคาน์เตอร์', 'เบา', 'เป็นแนว', 'แมค', 'โชคชะตา', 'โด', 'โน้น', 'โออิชิ', '199', '39', '40', '49', 'HALL', 'MCC', 'ค่ายมวย', 'ด้านใน', 'ตอนแรก', 'ตัวเลือก', 'ติดกับ', 'ที่ไหนได้', 'นม', 'นา', 'น้ำดื่ม', 'พิซ', 'พิซซ่า', 'ฟี', 'ยู', 'รี', 'หลังจากที่', 'อลล์', 'อเรีย', 'เซ', 'แกงเขียวหวาน', 'แน่นอน', 'แวะ', '10', '300', '6', 'VAT', 'กำ', 'ค่าน้ำ', 'ช่อง', 'ซี', 'ซึป', 'ถูกหวย', 'ทอน', 'นึง', 'ฟรี', 'ฟู้ด', 'รับประกัน', 'ลอตเตอรี่', 'สัปดาห์', 'หวย', 'หัว', 'ฮัน', 'เงิน', 'แลก', 'โทส', 'ได้เวลา', 'Narai', 'mall', 'pizza', 'pizzeria', 'union', 'ของสด', 'ขึ้นใจ', 'ข้าวมันไก่', 'จำได้', 'ชื่อ', 'ตตี้', 'ตัดกำลัง', 'ตู้', 'นิว', 'บางส่วน', 'ปรุง', 'รู้จัก', 'ลี', 'สปา', 'สุก', 'เก', '😆', '🤣', '128', '255', '29', 'ครีม', 'จบ', 'จุก', 'ชาต', 'บรา', 'บุพ', 'ปิดท้าย', 'ย', 'วิป', 'สมราคา', 'สวย', 'เ', 'เซต', 'เด็ด', 'เป้ง', 'เฟ่', 'เรย', 'เริส', 'เเบบ', 'โชค', '%', '7', 'ทดแทน', 'ปรกติ', 'สดๆ ร้อนๆ', 'เงินสด', 'โดยเฉพาะ'])\n"
          ],
          "name": "stdout"
        }
      ]
    },
    {
      "cell_type": "code",
      "metadata": {
        "id": "tve6eIzgBt57"
      },
      "source": [
        "gensim_corpus = [dictionary.doc2bow(text, allow_update=True) for text in texts]"
      ],
      "execution_count": null,
      "outputs": []
    },
    {
      "cell_type": "code",
      "metadata": {
        "colab": {
          "base_uri": "https://localhost:8080/"
        },
        "id": "xqYL5CcuUPJg",
        "outputId": "9703b9c5-3be3-49d5-a983-4f8cab69b525"
      },
      "source": [
        "print(word_frequencies)"
      ],
      "execution_count": null,
      "outputs": [
        {
          "output_type": "stream",
          "text": [
            "[[('ข้างนอก', 1), ('ความต้องการ', 1), ('คอ', 1), ('คุณภาพ', 1), ('คุ้ม', 1), ('จำกัด', 1), ('ซุป', 1), ('ดำ', 1), ('ดี', 2), ('ดีมาก', 1), ('ถาด', 1), ('ถาม', 1), ('น่ารัก', 1), ('น้ำ', 1), ('น้ำจิ้ม', 1), ('บริการ', 3), ('บาท', 1), ('ประทับใจ', 2), ('พนักงาน', 1), ('พอกับ', 1), ('ภาพ', 1), ('รสชาติ', 3), ('ราคา', 1), ('สรุป', 1), ('สะอาดสะอ้าน', 1), ('สัน', 1), ('หลากหลาย', 1), ('อร่อย', 3), ('อันนี้', 1), ('อาหาร', 3), ('เคลม', 1), ('เซ็ท', 1), ('เต้าเจี้ยว', 1), ('เนื้อ', 2), ('เป็ด', 1), ('เผ็ด', 1), ('แบบนี้', 1), ('แปลก', 1), ('แฟน', 1), ('โดยรวม', 1), ('โมจิ', 1), ('ใส่ใจ', 1), ('ไม่ต้อง', 1), ('ไอติม', 1), ('\\u200b', 12)], [('คุณภาพ', 1), ('ดี', 2), ('น่ารัก', 1), ('บริการ', 2), ('พนักงาน', 1), ('อาหาร', 1), ('21', 1), ('30', 1), ('9', 1), ('CTW', 1), ('Terminal', 1), ('กา', 1), ('การงด', 1), ('คิดถึง', 1), ('ชาบู', 1), ('ญี่ปุ่น', 1), ('ฐาน', 1), ('ทะยอย', 1), ('ทำงาน', 1), ('ที่ทาง', 1), ('นาที', 1), ('นึกถึง', 1), ('พนักงานบริการ', 1), ('พระราม', 1), ('พรีเมียม', 1), ('พาราไดซ์', 1), ('มาตรา', 1), ('มีโอ', 1), ('รายละเอียด', 1), ('ลูกค้า', 1), ('สมาทาน', 1), ('สาขา', 3), ('สู้', 1), ('ออร์เดอร์', 1), ('เครื่องดื่ม', 1), ('เค้า', 1), ('เจอ', 1), ('เป็นกันเอง', 1), ('เหวี่ยง', 1), ('แจ้ง', 1), ('โม่', 1), ('โอเค', 1)], [('คุ้ม', 1), ('ซุป', 5), ('ดำ', 3), ('น้ำ', 8), ('น้ำจิ้ม', 2), ('พนักงาน', 1), ('รสชาติ', 3), ('ราคา', 1), ('สรุป', 1), ('อร่อย', 4), ('เนื้อ', 3), ('เป็ด', 2), ('ไอติม', 2), ('ชาบู', 3), ('ญี่ปุ่น', 1), ('', 6), ('++', 1), ('555', 1), ('600', 1), ('::', 2), ('กก', 1), ('กรุบ', 1), ('กั้น', 1), ('ของหวาน', 1), ('คนละ', 1), ('คาว', 1), ('คุ', 1), ('คุ้มค่า', 1), ('จาน', 1), ('จิ้ม', 1), ('จืด', 1), ('ฉาก', 1), ('ชอบ', 2), ('ชาเขียว', 1), ('ชิ้น', 1), ('ซอย', 1), ('ซอส', 1), ('ตก', 1), ('ตะ', 1), ('ตัก', 1), ('ตามน้ำ', 1), ('ต่างกัน', 1), ('ถั่ว', 1), ('ถ่ายรูป', 1), ('ทาน', 4), ('นั่ง', 1), ('นุ่ม', 2), ('บด', 1), ('บาร์', 1), ('บู', 1), ('ผัก', 1), ('ภาษา', 1), ('มีชื่อ', 1), ('ยังมี', 1), ('รส', 1), ('รี่', 1), ('รู้สึก', 1), ('ลอง', 2), ('ลิ้น', 1), ('ลืม', 1), ('ววว', 1), ('สด', 1), ('สตอ', 1), ('สั่ง', 3), ('สามรส', 1), ('ส่วนตัว', 1), ('หนึบ', 1), ('หม้อ', 1), ('หวาน', 2), ('อยากได้', 1), ('เข้มข้น', 1), ('เข้ากัน', 1), ('เค็ม', 1), ('เนื้อวัว', 3), ('เนื้อสัตว์', 1), ('เนื้อหมู', 2), ('เบอ', 1), ('เป็นผู้ใหญ่', 1), ('เลือก', 4), ('เสิร์ฟ', 2), ('เหนียว', 1), ('เห็ด', 3), ('แดง', 1), ('แตก', 1), ('แตา', 1), ('แนว', 1), ('แย้', 1), ('โควิด', 1), ('โต๊ะ', 2), ('โร', 1), ('ใส', 1), ('ไก่', 3), ('ไข่', 1), ('ไดฟูกุ', 2), ('ไผ่', 2), ('ไม้', 2), ('ไหว', 1)], [('ราคา', 1), ('อร่อย', 1), ('เนื้อ', 2), ('ชาบู', 1), ('นึกถึง', 2), ('โม่', 1), ('ชอบ', 2), ('ชาเขียว', 1), ('ทาน', 1), ('รส', 2), ('สั่ง', 1), ('ส่วนตัว', 1), ('ข้าว', 1), ('จ่าย', 1), ('ถ้วย', 1), ('ธรรมดา', 1), ('ส', 1), ('ออ', 1), ('เกินไป', 2), ('เลี่ยน', 1), ('โปร', 1), ('โหด', 1), ('ไว', 1), ('ไอศกรีม', 1)], [('น้ำ', 1), ('บริการ', 1), ('หลากหลาย', 1), ('อร่อย', 1), ('เนื้อ', 2), ('CTW', 1), ('ชาบู', 2), ('สาขา', 2), ('ตัก', 1), ('นั่ง', 2), ('ผัก', 1), ('สั่ง', 1), ('เลือก', 2), ('โปร', 1), ('ขนม', 1), ('คุณภาพดี', 1), ('ตัดสินใจ', 1), ('ต่าง ๆ', 2), ('ที่จะ', 1), ('ที่นั่ง', 1), ('บัตรเครดิต', 1), ('มมาก', 1), ('ลูกชิ้น', 1), ('สบายดี', 1), ('หน้า', 1), ('หอ', 1), ('เดิน', 1), ('เด็ก', 1), ('เส้น', 1), ('เหมือนกับ', 1), ('แคบ', 1), ('ได้กลิ่น', 1)], [('คุ้ม', 1), ('ดี', 1), ('น้ำจิ้ม', 1), ('พนักงาน', 1), ('อร่อย', 1), ('เนื้อ', 1), ('ไอติม', 1), ('ชาบู', 1), ('ญี่ปุ่น', 1), ('ของหวาน', 1), ('ชอบ', 2), ('ผัก', 1), ('ลอง', 1), ('สั่ง', 1), ('เนื้อวัว', 1), ('เนื้อหมู', 1), ('เลือก', 1), ('แนว', 1), ('คามี', 1), ('ซึ', 1), ('นะคะ', 1), ('บ๋วย', 1), ('พอน', 1), ('รา', 1), ('สาย', 1), ('หยิบ', 1), ('โซน', 1), ('โปรโมชั่น', 1)], [('ดำ', 2), ('น้ำ', 3), ('น้ำจิ้ม', 2), ('บาท', 1), ('รสชาติ', 1), ('ราคา', 1), ('อาหาร', 1), ('เซ็ท', 1), ('เนื้อ', 1), ('ชาบู', 2), ('ญี่ปุ่น', 1), ('รายละเอียด', 1), ('สาขา', 1), ('600', 1), ('ทาน', 1), ('ผัก', 1), ('เลือก', 2), ('ซึ', 1), ('พอน', 1), ('20', 1), ('4.0', 1), ('5', 1), ('Menu', 1), ('Number', 1), ('กรรมวิธี', 1), ('กะปิ', 1), ('ก์', 1), ('คน', 1), ('คะแนน', 1), ('ชุด', 1), ('ดังเดิม', 1), ('บุฟเฟ่ต์', 1), ('ประ', 1), ('พารา', 1), ('มอ', 1), ('ยุค', 1), ('ร้านอาหาร', 1), ('ล', 1), ('สุกี้', 2), ('สไตล์', 1), ('ส์', 1), ('หมู', 1), ('หลาก', 1), ('หลายชนิด', 1), ('เดอะ', 1), ('เมนู', 1), ('แบบฉบับ', 1), ('แบ่ง', 1), ('ได', 1), ('ไทย', 1), ('–', 1)], [('คอ', 1), ('ซุป', 2), ('ดี', 1), ('ดีมาก', 3), ('น้ำ', 3), ('น้ำจิ้ม', 1), ('บาท', 1), ('รสชาติ', 2), ('ราคา', 1), ('สัน', 1), ('เนื้อ', 1), ('ชาบู', 2), ('คุ้มค่า', 1), ('ชอบ', 1), ('ชาเขียว', 1), ('หวาน', 1), ('เค็ม', 1), ('เสิร์ฟ', 1), ('หมู', 1), ('!!!!', 1), ('500', 1), ('กาแฟ', 1), ('งวด', 1), ('ตอนที่', 1), ('ตำ', 1), ('ติด', 1), ('ทั่วไป', 1), ('น', 1), ('บ๊วย', 1), ('ยุ', 1), ('ร้อน', 1), ('ลุย', 1), ('สุกี้ยากี้', 1), ('อยู่แล้ว', 1), ('ออสเตรเลีย', 1), ('เป็นปกติ', 1), ('เฟรนไชส์', 1), ('เรื่อง', 1), ('เหมาะสม', 1), ('แนะนำ', 2), ('โช', 1), ('ไข่ไก่', 1), ('ไอศครีม', 1)], [('คุ้ม', 2), ('บาท', 1), ('ราคา', 1), ('อาหาร', 3), ('ทาน', 1), ('บู', 1), ('เมนู', 1), ('..', 1), ('399', 1), ('กุ้ง', 1), ('ของกิน', 1), ('ขา', 1), ('ชิ', 1), ('ซูชิ', 1), ('ซ่า', 1), ('ตอน', 1), ('ตอนนี้', 1), ('นิดนึง', 1), ('ปุระ', 1), ('ปูอัด', 1), ('ม', 1), ('ละลานตา', 1), ('สายพาน', 1), ('หิว', 1), ('ฮ่า', 1), ('าน', 1), ('เกี๊ยว', 1), ('เท', 1), ('เทียบ', 1), ('เล่น', 1), ('แพง', 1), ('แล้วก็', 1), ('ไม่งั้น', 1)], [('คุ้ม', 1), ('ไอติม', 1), ('ชาบู', 2), ('ชอบ', 1), ('ทาน', 3), ('ลืม', 1), ('ไข่', 1), ('เมนู', 1), ('กุ้ง', 4), ('ชิ', 1), ('ซูชิ', 1), ('ปุระ', 4), ('ม', 4), ('เท', 4), ('กลาย', 1), ('กี่', 1), ('ชั่วคราว', 1), ('ชื่นใจ', 1), ('ซะงั้น', 1), ('ญี่', 1), ('ดึก', 1), ('ตบท้าย', 1), ('ตัว', 1), ('ทอด', 2), ('ทานอาหาร', 1), ('นพ', 1), ('นึก', 1), ('น้ะ', 1), ('ปลา', 1), ('ปุ', 1), ('ผิดหวัง', 1), ('วก', 1), ('สมใจ', 1), ('อย่า', 1), ('อาหารเสริม', 1), ('เติม', 1), ('เป็นมา', 1), ('เป็นหลัก', 1), ('เย็น', 1)], [('คุ้ม', 1), ('ซุป', 1), ('ดี', 1), ('น้ำ', 1), ('บาท', 1), ('ราคา', 1), ('เนื้อ', 1), ('ชาบู', 1), ('ทาน', 3), ('รส', 1), ('สด', 1), ('เลือก', 1), ('บุฟเฟ่ต์', 1), ('399', 1), ('กุ้ง', 1), ('ชิ', 1), ('ซูชิ', 1), ('ตอนนี้', 1), ('ปุระ', 1), ('ม', 1), ('เท', 1), ('เป็นหลัก', 1), ('1.15', 1), ('net', 1), ('กลับมา', 1), ('ของคาว', 1), ('ชม.', 1), ('ตรงนั้น', 1), ('ยืน', 1), ('ลายตา', 1), ('สไลด์', 1), ('อัพเดท', 1), ('อิ่ม', 1), ('เบ', 1), ('เพลิน', 1), ('ไลน์', 1)], [('คุณภาพ', 1), ('คุ้ม', 1), ('ดี', 5), ('น้ำ', 1), ('พนักงาน', 1), ('รสชาติ', 2), ('ราคา', 1), ('อร่อย', 1), ('อาหาร', 3), ('เนื้อ', 3), ('โดยรวม', 1), ('ไอติม', 1), ('ชาบู', 1), ('นาที', 2), ('สาขา', 3), ('โอเค', 1), ('ของหวาน', 1), ('จาน', 1), ('จืด', 1), ('ตัก', 1), ('ทาน', 1), ('นุ่ม', 3), ('รู้สึก', 2), ('สด', 7), ('ส่วนตัว', 1), ('หวาน', 2), ('ธรรมดา', 2), ('ไอศกรีม', 1), ('ลูกชิ้น', 1), ('หน้า', 1), ('นะคะ', 2), ('โซน', 1), ('5', 1), ('กะปิ', 1), ('คน', 5), ('บุฟเฟ่ต์', 1), ('หมู', 1), ('เดอะ', 1), ('เมนู', 1), ('ติด', 2), ('เรื่อง', 1), ('กุ้ง', 7), ('ชิ', 1), ('ซูชิ', 1), ('ตอน', 1), ('นิดนึง', 1), ('ปุระ', 1), ('ม', 1), ('สายพาน', 1), ('เท', 1), ('เทียบ', 1), ('ตัว', 3), ('ทอด', 1), ('ผิดหวัง', 1), ('อย่า', 1), ('กลับมา', 3), ('สไลด์', 2), ('เพลิน', 1), ('\"', 2), ('/คน', 1), ('15', 2), ('359', 1), ('G', 1), ('Net', 1), ('Shabushi', 1), ('กด', 1), ('กรอ', 1), ('ขาดสารอาหาร', 1), ('ขึ้นราคา', 1), ('ข่าว', 1), ('คนเดียว', 1), ('ครึ่ง', 1), ('คิว', 2), ('งาน', 1), ('จุ', 1), ('ชั่วโมง', 2), ('ชั้น', 1), ('ชื่น', 2), ('ดู', 2), ('ตลับ', 1), ('ตับ', 1), ('ตั้งอยู่', 2), ('ติง', 1), ('ถนนใหญ่', 1), ('ถูกใจ', 1), ('ทำ', 1), ('ทิ้ง', 1), ('น้ำมัน', 1), ('บดี', 1), ('ปลาดิบ', 1), ('ปอกเปลือก', 2), ('ฝรั่ง', 1), ('ฝั่ง', 1), ('มอลล์', 1), ('มื้อ', 1), ('รอ', 2), ('ระดับ', 1), ('รายการ', 1), ('ลด', 1), ('ลา', 1), ('ลูก', 1), ('วันหยุด', 1), ('วาง', 1), ('วานิลา', 2), ('สะอาด', 1), ('สาเหตุ', 1), ('สำหรับ', 4), ('สไปรท์', 1), ('หนา', 1), ('หอม', 2), ('หอย', 1), ('หาไม่', 1), ('ห่างหาย', 1), ('ห้าง', 2), ('อม', 1), ('ออกมา', 1), ('อาทิตย์', 1), ('อีกครั้ง', 2), ('เช็คบิล', 2), ('เด่น', 1), ('เด้ง', 2), ('เบคอน', 1), ('เปรี้ยวหวาน', 1), ('เพื่อน', 1), ('เลิก', 1), ('เวลา', 5), ('เสาร์', 1), ('เหมือน', 1), ('เหมือนกัน', 1), ('แก้ว', 1), ('แถม', 1), ('แน่น', 1), ('แป้ง', 1), ('แย่', 1), ('แออัด', 1), ('โดน', 2), ('โดยประมาณ', 1), ('โฟลต', 1), ('โอ', 1), ('ใจดี', 2), ('ใจมา', 1), ('ใช้ได้', 3), ('ใส่', 1), ('ได้ยิน', 1)], [('ดี', 1), ('บาท', 1), ('รสชาติ', 2), ('ราคา', 1), ('อร่อย', 1), ('อาหาร', 1), ('ทาน', 2), ('นุ่ม', 1), ('รส', 1), ('รี่', 1), ('สตอ', 1), ('ข้าว', 1), ('ไอศกรีม', 1), ('คน', 1), ('บุฟเฟ่ต์', 1), ('หลาก', 1), ('เดอะ', 1), ('ซูชิ', 1), ('ชม.', 1), ('สไลด์', 1), ('15', 1), ('359', 1), ('G', 1), ('ชั้น', 1), ('ลา', 1), ('เวลา', 1), ('ชอค', 1), ('ต', 1), ('นัด', 1), ('นิ', 1), ('มะนาว', 1), ('มุ', 1), ('ลงเอย', 1), ('ว', 1), ('วันก่อน', 1), ('ห', 1), ('หา', 1), ('อยุ่', 1), ('อาหารสด', 1), ('เบอร์', 1), ('แกงค์', 1), ('แล', 1), ('โก', 1)], [('ดี', 1), ('บาท', 1), ('พนักงาน', 1), ('ราคา', 1), ('เนื้อ', 1), ('สาขา', 1), ('โอเค', 1), ('ผัก', 2), ('สด', 1), ('เลือก', 1), ('ที่นั่ง', 1), ('เดิน', 1), ('หยิบ', 1), ('กะปิ', 1), ('คน', 3), ('เดอะ', 1), ('ชิ', 1), ('สายพาน', 1), ('แพง', 1), ('แล้วก็', 1), ('G', 1), ('Shabushi', 1), ('ครึ่ง', 1), ('คิว', 2), ('ชั่วโมง', 1), ('ชั้น', 1), ('ดู', 2), ('มอลล์', 1), ('รอ', 3), ('ห้าง', 1), ('เลิก', 1), ('กินที่', 1), ('ขยัน', 1), ('จอง', 1), ('ชู', 1), ('ณ์', 1), ('บุฟเฟต์', 2), ('ป', 1), ('ประตู', 1), ('พลาด', 1), ('พอได้', 1), ('พี่', 1), ('รอบ', 1), ('ร้อย', 1), ('สาม', 1), ('สุดท้าย', 1), ('หลายครั้ง', 1), ('หล่ะ', 1), ('อาราม', 1), ('เข้าหน้า', 1), ('เต็ม', 1), ('โชคดี', 1)], [('คุ้ม', 1), ('ซุป', 1), ('บริการ', 1), ('อร่อย', 2), ('ชาบู', 1), ('ลูกค้า', 1), ('555', 1), ('จาน', 1), ('จิ้ม', 1), ('ทาน', 2), ('ลอง', 1), ('เลือก', 2), ('หยิบ', 1), ('คน', 1), ('เมนู', 1), ('ชิ', 1), ('สายพาน', 1), ('ดู', 1), ('ขวัญใจ', 1), ('ข้อดี', 1), ('ต้องการ', 1), ('ทั่วถึง', 1), ('นํ้า', 2), ('บ', 1), ('ฟเฟ', 1), ('มี่', 1), ('ระบบ', 1), ('รีวิว', 1), ('สวัสดี', 1), ('เก้', 1), ('ใช้แล้ว', 1)], [('คอ', 1), ('คุณภาพ', 1), ('ซุป', 1), ('ดำ', 1), ('ดี', 1), ('ดีมาก', 1), ('น้ำ', 1), ('บาท', 1), ('ราคา', 1), ('อาหาร', 2), ('เนื้อ', 1), ('ไอติม', 1), ('ชาบู', 1), ('สาขา', 1), ('555', 1), ('ของหวาน', 1), ('คุ้มค่า', 1), ('จาน', 1), ('ทาน', 2), ('หม้อ', 3), ('เลือก', 3), ('โต๊ะ', 1), ('ใส', 1), ('หน้า', 3), ('หยิบ', 1), ('กะปิ', 1), ('เดอะ', 1), ('เมนู', 1), ('ชิ', 2), ('สายพาน', 2), ('เล่น', 1), ('ทอด', 1), ('เติม', 1), ('คิว', 1), ('ตั้งอยู่', 1), ('มอลล์', 1), ('รอ', 1), ('ลด', 1), ('วาง', 1), ('ห้าง', 2), ('แถม', 1), ('แน่น', 1), ('ชู', 1), ('ประตู', 1), ('^^', 1), ('xx', 1), ('กลยุทธ์', 1), ('ขนาด', 1), ('ข้น', 1), ('ข้าวปั้น', 1), ('ค่า', 2), ('ชอป', 1), ('ซุ้ม', 1), ('ดีขึ้น', 1), ('ตรงข้าม', 1), ('ตรงนี้', 1), ('ต้ม', 1), ('ต้มยำ', 1), ('ท่าน', 1), ('นัล', 1), ('บริเวณ', 1), ('บัตรสมาชิก', 1), ('ปรับปรุง', 1), ('มันดี', 1), ('มากขึ้น', 1), ('ยอด', 1), ('ลาน', 1), ('สลัด', 1), ('หมู่คณะ', 1), ('ออกร้าน', 1), ('อิอิ', 1), ('เครือ', 1), ('เคลื่อนตัว', 1), ('เคาน์เตอร์', 1), ('เบา', 1), ('เป็นแนว', 1), ('แมค', 1), ('โชคชะตา', 1), ('โด', 1), ('โน้น', 1), ('โออิชิ', 1)], [('คุ้ม', 1), ('ซุป', 4), ('ดี', 1), ('น้ำ', 3), ('บาท', 4), ('รสชาติ', 2), ('ราคา', 3), ('เนื้อ', 1), ('ชาบู', 1), ('สาขา', 2), ('ของหวาน', 1), ('คนละ', 2), ('ทาน', 2), ('ลอง', 1), ('สั่ง', 1), ('อยากได้', 1), ('เข้มข้น', 1), ('จ่าย', 2), ('ธรรมดา', 1), ('โซน', 1), ('กะปิ', 1), ('ล', 1), ('หมู', 1), ('เดอะ', 1), ('เมนู', 1), ('ซูชิ', 1), ('หิว', 1), ('ทอด', 1), ('นึก', 1), ('อิ่ม', 1), ('เบ', 1), ('ชั้น', 1), ('มอลล์', 1), ('สำหรับ', 1), ('รอบ', 1), ('199', 2), ('39', 1), ('40', 1), ('49', 1), ('HALL', 1), ('MCC', 1), ('ค่ายมวย', 1), ('ด้านใน', 1), ('ตอนแรก', 1), ('ตัวเลือก', 1), ('ติดกับ', 1), ('ที่ไหนได้', 1), ('นม', 1), ('นา', 1), ('น้ำดื่ม', 1), ('พิซ', 1), ('พิซซ่า', 2), ('ฟี', 1), ('ยู', 1), ('รี', 1), ('หลังจากที่', 1), ('อลล์', 1), ('อเรีย', 1), ('เซ', 1), ('แกงเขียวหวาน', 1), ('แน่นอน', 1), ('แวะ', 1)], [('ซุป', 2), ('ดี', 1), ('น้ำ', 3), ('บาท', 2), ('อร่อย', 2), ('อันนี้', 1), ('อาหาร', 1), ('คนละ', 2), ('ชอบ', 1), ('ทาน', 3), ('หม้อ', 1), ('เลือก', 3), ('ธรรมดา', 1), ('โปรโมชั่น', 1), ('ชุด', 2), ('บุฟเฟ่ต์', 4), ('แบ่ง', 1), ('แนะนำ', 2), ('ชม.', 1), ('ต้มยำ', 1), ('199', 1), ('นา', 1), ('พิซ', 1), ('พิซซ่า', 1), ('อเรีย', 1), ('เซ', 1), ('แน่นอน', 1), ('10', 1), ('300', 1), ('6', 1), ('VAT', 1), ('กำ', 1), ('ค่าน้ำ', 1), ('ช่อง', 1), ('ซี', 1), ('ซึป', 1), ('ถูกหวย', 1), ('ทอน', 1), ('นึง', 1), ('ฟรี', 1), ('ฟู้ด', 1), ('รับประกัน', 1), ('ลอตเตอรี่', 1), ('สัปดาห์', 1), ('หวย', 1), ('หัว', 1), ('ฮัน', 1), ('เงิน', 1), ('แลก', 1), ('โทส', 1), ('ได้เวลา', 1)], [('คุณภาพ', 1), ('ดี', 1), ('บริการ', 1), ('พนักงาน', 1), ('ราคา', 1), ('หลากหลาย', 1), ('อร่อย', 1), ('อาหาร', 2), ('ชาบู', 1), ('ยังมี', 1), ('รู้สึก', 1), ('ลอง', 1), ('สั่ง', 1), ('ไก่', 1), ('ออ', 1), ('หยิบ', 1), ('น', 1), ('อยู่แล้ว', 1), ('เหมาะสม', 1), ('ไลน์', 1), ('\"', 2), ('ขยัน', 1), ('Narai', 1), ('mall', 1), ('pizza', 1), ('pizzeria', 1), ('union', 1), ('ของสด', 1), ('ขึ้นใจ', 1), ('ข้าวมันไก่', 1), ('จำได้', 1), ('ชื่อ', 2), ('ตตี้', 1), ('ตัดกำลัง', 1), ('ตู้', 1), ('นิว', 1), ('บางส่วน', 2), ('ปรุง', 1), ('รู้จัก', 1), ('ลี', 1), ('สปา', 1), ('สุก', 1), ('เก', 1), ('😆', 1), ('🤣', 1)], [('ดี', 2), ('ดีมาก', 1), ('น้ำ', 1), ('ราคา', 1), ('อร่อย', 3), ('ไอติม', 1), ('กา', 1), ('กก', 1), ('ของหวาน', 3), ('คุ้มค่า', 1), ('นุ่ม', 1), ('ผัก', 1), ('รส', 1), ('ไก่', 1), ('มมาก', 1), ('หอ', 1), ('โปรโมชั่น', 1), ('หมู', 1), ('ตบท้าย', 1), ('งาน', 1), ('ว', 1), ('ท่าน', 1), ('พิซซ่า', 1), ('128', 1), ('255', 1), ('29', 1), ('ครีม', 1), ('จบ', 1), ('จุก', 1), ('ชาต', 1), ('บรา', 1), ('บุพ', 1), ('ปิดท้าย', 1), ('ย', 1), ('วิป', 1), ('สมราคา', 1), ('สวย', 1), ('เ', 1), ('เซต', 1), ('เด็ด', 1), ('เป้ง', 1), ('เฟ่', 1), ('เรย', 1), ('เริส', 1), ('เเบบ', 1), ('โชค', 1)], [('น้ำ', 1), ('บาท', 1), ('ราคา', 2), ('อร่อย', 2), ('อาหาร', 1), ('แปลก', 1), ('โอเค', 1), ('', 4), ('ของหวาน', 1), ('ลอง', 1), ('สั่ง', 2), ('เนื้อวัว', 1), ('จ่าย', 2), ('หน้า', 1), ('ซูชิ', 2), ('ตอน', 1), ('ดู', 1), ('199', 1), ('พิซซ่า', 1), ('VAT', 1), ('%', 1), ('7', 1), ('ทดแทน', 1), ('ปรกติ', 1), ('สดๆ ร้อนๆ', 1), ('เงินสด', 1), ('โดยเฉพาะ', 1)]]\n"
          ],
          "name": "stdout"
        }
      ]
    },
    {
      "cell_type": "code",
      "metadata": {
        "id": "rebEGkkWBwkM"
      },
      "source": [
        "word_frequencies = [[(dictionary[id], frequence) for id, frequence in couple] for couple in gensim_corpus]"
      ],
      "execution_count": null,
      "outputs": []
    },
    {
      "cell_type": "code",
      "metadata": {
        "colab": {
          "base_uri": "https://localhost:8080/"
        },
        "id": "4J7-fkO5B3lJ",
        "outputId": "0b302db2-b9da-4cd1-f073-161128e16932"
      },
      "source": [
        "num_topics = 20\n",
        "chunksize = 1000 # size of the doc looked at every pass\n",
        "passes = 20 # number of passes through documents\n",
        "iterations = 50\n",
        "eval_every = 1  # Don't evaluate model perplexity, takes too much time.\n",
        "\n",
        "temp = dictionary[0]  # This is only to \"load\" the dictionary.\n",
        "id2word = dictionary.id2token\n",
        "\n",
        "%time model = gensim.models.LdaModel(corpus=gensim_corpus, id2word=id2word, chunksize=chunksize, \\\n",
        "                       alpha='auto', eta='auto', \\\n",
        "                       iterations=iterations, num_topics=num_topics, \\\n",
        "                       passes=passes, eval_every=eval_every)"
      ],
      "execution_count": null,
      "outputs": [
        {
          "output_type": "stream",
          "text": [
            "CPU times: user 387 ms, sys: 879 µs, total: 388 ms\n",
            "Wall time: 389 ms\n"
          ],
          "name": "stdout"
        }
      ]
    },
    {
      "cell_type": "code",
      "metadata": {
        "colab": {
          "base_uri": "https://localhost:8080/",
          "height": 861
        },
        "id": "ODPBvRAbTIF8",
        "outputId": "90cb70fb-8cca-4f7e-bd18-5f4e82cae3a7"
      },
      "source": [
        "#pyLDAvis.gensim_models.prepare(model, gensim_corpus, dictionary)\n",
        "#TypeError: Object of type complex is not JSON serializable\n",
        "#fix by these link https://stackoverflow.com/questions/46379763/typeerror-object-of-type-complex-is-not-json-serializable-while-using-pyldavi\n",
        "\n",
        "pyLDAvis.gensim_models.prepare(model, gensim_corpus, dictionary, mds='mmds') "
      ],
      "execution_count": null,
      "outputs": [
        {
          "output_type": "execute_result",
          "data": {
            "text/html": [
              "\n",
              "<link rel=\"stylesheet\" type=\"text/css\" href=\"https://cdn.jsdelivr.net/gh/bmabey/pyLDAvis@3.3.1/pyLDAvis/js/ldavis.v1.0.0.css\">\n",
              "\n",
              "\n",
              "<div id=\"ldavis_el6381402650170091041227325069\"></div>\n",
              "<script type=\"text/javascript\">\n",
              "\n",
              "var ldavis_el6381402650170091041227325069_data = {\"mdsDat\": {\"x\": [0.14982424521558688, 0.015935621588417104, -0.1448238635090344, -0.1412732220455108, 0.14386954331420818, 0.07235442583651532, 0.037596791305130696, -0.055549530579404316, -0.13341567431794873, 0.08910843667832041, 0.1295256661844461, -0.052831194891922, -0.07817519742412737, -0.04155960651109771, -0.00440361766706172, 0.005957568257421342, 0.0019563546439953744, 0.0019682585864715524, 0.001966556653005593, 0.0019684386825883833], \"y\": [0.14608927841771122, -0.2055688315193737, -0.10105930155262277, 0.13784126036271252, -0.08684949110227812, -0.10034753071746672, 0.15381506086019942, -0.12398774353102698, 0.008157220148931733, 0.060368246257265445, 0.008202490511824631, 0.11377544990947858, -0.018407737541348706, 0.04101342432192204, -0.05682077345467407, 0.0377762088759395, -0.003499348021165794, -0.0034965574400905664, -0.0035057712666417295, -0.003495553519295829], \"topics\": [1, 2, 3, 4, 5, 6, 7, 8, 9, 10, 11, 12, 13, 14, 15, 16, 17, 18, 19, 20], \"cluster\": [1, 1, 1, 1, 1, 1, 1, 1, 1, 1, 1, 1, 1, 1, 1, 1, 1, 1, 1, 1], \"Freq\": [18.308492091723306, 16.561536599137263, 8.212191252379016, 7.223226164088413, 7.118697557242261, 5.840721329443701, 5.81307849787742, 4.8044478262926935, 4.159360887245036, 3.999493820777997, 3.8401595514195144, 3.6002317295739448, 2.8005602406348333, 2.720886977061543, 2.639526827179594, 2.2447902402319793, 0.029832446357553118, 0.027663823642488976, 0.02759675926290406, 0.027505378428542213]}, \"tinfo\": {\"Term\": [\"\\u0e14\\u0e35\", \"\\u0e2d\\u0e23\\u0e48\\u0e2d\\u0e22\", \"\\u0e23\\u0e32\\u0e04\\u0e32\", \"\\u0e40\\u0e19\\u0e37\\u0e49\\u0e2d\", \"\\u0e40\\u0e25\\u0e37\\u0e2d\\u0e01\", \"\\u0e2d\\u0e32\\u0e2b\\u0e32\\u0e23\", \"\\u0e1a\\u0e32\\u0e17\", \"\\u0e0b\\u0e38\\u0e1b\", \"\\u0e2a\\u0e32\\u0e02\\u0e32\", \"\", \"\\u200b\", \"\\u0e01\\u0e38\\u0e49\\u0e07\", \"\\u0e23\\u0e2a\\u0e0a\\u0e32\\u0e15\\u0e34\", \"\\u0e2a\\u0e31\\u0e48\\u0e07\", \"\\u0e02\\u0e2d\\u0e07\\u0e2b\\u0e27\\u0e32\\u0e19\", \"\\u0e04\\u0e38\\u0e49\\u0e21\", \"\\u0e2a\\u0e14\", \"\\u0e04\\u0e19\", \"\\u0e0b\\u0e39\\u0e0a\\u0e34\", \"\\u0e0a\\u0e2d\\u0e1a\", \"\\u0e44\\u0e2d\\u0e15\\u0e34\\u0e21\", \"\\u0e1a\\u0e38\\u0e1f\\u0e40\\u0e1f\\u0e48\\u0e15\\u0e4c\", \"\\u0e0a\\u0e34\", \"\\u0e1e\\u0e19\\u0e31\\u0e01\\u0e07\\u0e32\\u0e19\", \"\\u0e21\", \"\\u0e40\\u0e17\", \"\\u0e1b\\u0e38\\u0e23\\u0e30\", \"\\u0e1a\\u0e23\\u0e34\\u0e01\\u0e32\\u0e23\", \"\\u0e25\\u0e2d\\u0e07\", \"\\u0e40\\u0e21\\u0e19\\u0e39\", \"\\u200b\", \"\\u0e40\\u0e1b\\u0e47\\u0e14\", \"\\u0e40\\u0e2b\\u0e47\\u0e14\", \"\\u0e1b\\u0e23\\u0e30\\u0e17\\u0e31\\u0e1a\\u0e43\\u0e08\", \"\\u0e2a\\u0e23\\u0e38\\u0e1b\", \"\\u0e1a\\u0e39\", \"\\u0e44\\u0e14\\u0e1f\\u0e39\\u0e01\\u0e38\", \"::\", \"\\u0e44\\u0e21\\u0e49\", \"\\u0e44\\u0e1c\\u0e48\", \"\\u0e08\\u0e33\\u0e01\\u0e31\\u0e14\", \"\\u0e04\\u0e27\\u0e32\\u0e21\\u0e15\\u0e49\\u0e2d\\u0e07\\u0e01\\u0e32\\u0e23\", \"\\u0e41\\u0e1a\\u0e1a\\u0e19\\u0e35\\u0e49\", \"\\u0e40\\u0e1c\\u0e47\\u0e14\", \"\", \"\\u0e16\\u0e32\\u0e21\", \"\\u0e40\\u0e15\\u0e49\\u0e32\\u0e40\\u0e08\\u0e35\\u0e49\\u0e22\\u0e27\", \"\\u0e41\\u0e1f\\u0e19\", \"\\u0e1e\\u0e2d\\u0e01\\u0e31\\u0e1a\", \"\\u0e16\\u0e32\\u0e14\", \"\\u0e40\\u0e04\\u0e25\\u0e21\", \"\\u0e32\\u0e19\", \"\\u0e20\\u0e32\\u0e1e\", \"\\u0e02\\u0e32\", \"\\u0e44\\u0e21\\u0e48\\u0e15\\u0e49\\u0e2d\\u0e07\", \"\\u0e0b\\u0e48\\u0e32\", \"\\u0e2a\\u0e30\\u0e2d\\u0e32\\u0e14\\u0e2a\\u0e30\\u0e2d\\u0e49\\u0e32\\u0e19\", \"\\u0e42\\u0e21\\u0e08\\u0e34\", \"\\u0e02\\u0e49\\u0e32\\u0e07\\u0e19\\u0e2d\\u0e01\", \"\\u0e1b\\u0e39\\u0e2d\\u0e31\\u0e14\", \"\\u0e40\\u0e19\\u0e37\\u0e49\\u0e2d\\u0e27\\u0e31\\u0e27\", \"\\u0e40\\u0e19\\u0e37\\u0e49\\u0e2d\\u0e2b\\u0e21\\u0e39\", \"\\u0e14\\u0e33\", \"\\u0e44\\u0e01\\u0e48\", \"\\u0e40\\u0e2a\\u0e34\\u0e23\\u0e4c\\u0e1f\", \"\\u0e42\\u0e15\\u0e4a\\u0e30\", \"\\u0e23\\u0e2a\\u0e0a\\u0e32\\u0e15\\u0e34\", \"\\u0e0b\\u0e38\\u0e1b\", \"\\u0e2d\\u0e23\\u0e48\\u0e2d\\u0e22\", \"\\u0e19\\u0e49\\u0e33\\u0e08\\u0e34\\u0e49\\u0e21\", \"\\u0e2d\\u0e32\\u0e2b\\u0e32\\u0e23\", \"\\u0e1a\\u0e23\\u0e34\\u0e01\\u0e32\\u0e23\", \"\\u0e04\\u0e38\\u0e49\\u0e21\", \"\\u0e40\\u0e19\\u0e37\\u0e49\\u0e2d\", \"\\u0e44\\u0e2d\\u0e15\\u0e34\\u0e21\", \"\\u0e2a\\u0e31\\u0e48\\u0e07\", \"\\u0e40\\u0e25\\u0e37\\u0e2d\\u0e01\", \"\\u0e2b\\u0e27\\u0e32\\u0e19\", \"\\u0e23\\u0e32\\u0e04\\u0e32\", \"\\u0e25\\u0e2d\\u0e07\", \"\\u0e14\\u0e35\", \"\\u0e1a\\u0e32\\u0e17\", \"\\u0e1e\\u0e19\\u0e31\\u0e01\\u0e07\\u0e32\\u0e19\", \"\\u0e0a\\u0e2d\\u0e1a\", \"\\u0e19\\u0e38\\u0e48\\u0e21\", \"\\u0e43\\u0e0a\\u0e49\\u0e44\\u0e14\\u0e49\", \"\\u0e1b\\u0e2d\\u0e01\\u0e40\\u0e1b\\u0e25\\u0e37\\u0e2d\\u0e01\", \"\\u0e0a\\u0e37\\u0e48\\u0e19\", \"\\u0e2b\\u0e2d\\u0e21\", \"\\u0e40\\u0e0a\\u0e47\\u0e04\\u0e1a\\u0e34\\u0e25\", \"\\u0e27\\u0e32\\u0e19\\u0e34\\u0e25\\u0e32\", \"\\u0e42\\u0e14\\u0e19\", \"\\u0e40\\u0e14\\u0e49\\u0e07\", \"\\u0e2d\\u0e35\\u0e01\\u0e04\\u0e23\\u0e31\\u0e49\\u0e07\", \"\\u0e43\\u0e08\\u0e14\\u0e35\", \"\\u0e40\\u0e27\\u0e25\\u0e32\", \"\\u0e2a\\u0e33\\u0e2b\\u0e23\\u0e31\\u0e1a\", \"\\u0e01\\u0e25\\u0e31\\u0e1a\\u0e21\\u0e32\", \"\\u0e2a\\u0e14\", \"\\u0e15\\u0e31\\u0e27\", \"\\u0e19\\u0e49\\u0e33\\u0e21\\u0e31\\u0e19\", \"\\u0e1d\\u0e23\\u0e31\\u0e48\\u0e07\", \"\\u0e15\\u0e31\\u0e1a\", \"\\u0e1a\\u0e14\\u0e35\", \"\\u0e01\\u0e14\", \"\\u0e2b\\u0e19\\u0e32\", \"\\u0e04\\u0e19\\u0e40\\u0e14\\u0e35\\u0e22\\u0e27\", \"\\u0e41\\u0e01\\u0e49\\u0e27\", \"\\u0e23\\u0e32\\u0e22\\u0e01\\u0e32\\u0e23\", \"\\u0e15\\u0e25\\u0e31\\u0e1a\", \"\\u0e40\\u0e1b\\u0e23\\u0e35\\u0e49\\u0e22\\u0e27\\u0e2b\\u0e27\\u0e32\\u0e19\", \"\\u0e40\\u0e2b\\u0e21\\u0e37\\u0e2d\\u0e19\\u0e01\\u0e31\\u0e19\", \"\\u0e1d\\u0e31\\u0e48\\u0e07\", \"\\u0e2a\\u0e30\\u0e2d\\u0e32\\u0e14\", \"\\u0e42\\u0e2d\", \"\\u0e19\\u0e30\\u0e04\\u0e30\", \"\\u0e01\\u0e38\\u0e49\\u0e07\", \"\\u0e19\\u0e32\\u0e17\\u0e35\", \"\\u0e15\\u0e34\\u0e14\", \"15\", \"\\u0e0a\\u0e31\\u0e48\\u0e27\\u0e42\\u0e21\\u0e07\", \"\\u0e15\\u0e31\\u0e49\\u0e07\\u0e2d\\u0e22\\u0e39\\u0e48\", \"\\u0e04\\u0e19\", \"\\\"\", \"\\u0e2a\\u0e44\\u0e25\\u0e14\\u0e4c\", \"\\u0e19\\u0e38\\u0e48\\u0e21\", \"\\u0e14\\u0e35\", \"\\u0e23\\u0e39\\u0e49\\u0e2a\\u0e36\\u0e01\", \"\\u0e18\\u0e23\\u0e23\\u0e21\\u0e14\\u0e32\", \"\\u0e2a\\u0e32\\u0e02\\u0e32\", \"\\u0e40\\u0e19\\u0e37\\u0e49\\u0e2d\", \"\\u0e2d\\u0e32\\u0e2b\\u0e32\\u0e23\", \"\\u0e23\\u0e2a\\u0e0a\\u0e32\\u0e15\\u0e34\", \"\\u0e14\\u0e39\", \"\\u0e2b\\u0e49\\u0e32\\u0e07\", \"\\u0e04\\u0e34\\u0e27\", \"\\u0e2b\\u0e27\\u0e32\\u0e19\", \"\\u0e23\\u0e2d\", \"\\u0e1a\\u0e38\\u0e1f\\u0e40\\u0e1f\\u0e15\\u0e4c\", \"\\u0e2d\\u0e22\\u0e38\\u0e48\", \"\\u0e2b\\u0e32\", \"\\u0e40\\u0e1a\\u0e2d\\u0e23\\u0e4c\", \"\\u0e0a\\u0e2d\\u0e04\", \"\\u0e42\\u0e01\", \"\\u0e2d\\u0e32\\u0e2b\\u0e32\\u0e23\\u0e2a\\u0e14\", \"\\u0e1e\\u0e35\\u0e48\", \"\\u0e2b\\u0e25\\u0e48\\u0e30\", \"\\u0e15\", \"\\u0e2a\\u0e38\\u0e14\\u0e17\\u0e49\\u0e32\\u0e22\", \"\\u0e1e\\u0e25\\u0e32\\u0e14\", \"\\u0e27\\u0e31\\u0e19\\u0e01\\u0e48\\u0e2d\\u0e19\", \"\\u0e40\\u0e15\\u0e47\\u0e21\", \"\\u0e21\\u0e30\\u0e19\\u0e32\\u0e27\", \"\\u0e08\\u0e2d\\u0e07\", \"\\u0e41\\u0e01\\u0e07\\u0e04\\u0e4c\", \"\\u0e42\\u0e0a\\u0e04\\u0e14\\u0e35\", \"\\u0e01\\u0e34\\u0e19\\u0e17\\u0e35\\u0e48\", \"\\u0e1e\\u0e2d\\u0e44\\u0e14\\u0e49\", \"\\u0e41\\u0e25\", \"\\u0e2a\\u0e32\\u0e21\", \"\\u0e25\\u0e07\\u0e40\\u0e2d\\u0e22\", \"\\u0e2b\\u0e25\\u0e32\\u0e22\\u0e04\\u0e23\\u0e31\\u0e49\\u0e07\", \"\\u0e21\\u0e38\", \"\\u0e40\\u0e02\\u0e49\\u0e32\\u0e2b\\u0e19\\u0e49\\u0e32\", \"\\u0e19\\u0e34\", \"\\u0e23\\u0e49\\u0e2d\\u0e22\", \"\\u0e2b\", \"\\u0e13\\u0e4c\", \"G\", \"\\u0e23\\u0e2d\", \"\\u0e04\\u0e19\", \"\\u0e0a\\u0e31\\u0e49\\u0e19\", \"\\u0e04\\u0e34\\u0e27\", \"\\u0e14\\u0e39\", \"\\u0e40\\u0e14\\u0e2d\\u0e30\", \"\\u0e1c\\u0e31\\u0e01\", \"\\u0e1a\\u0e32\\u0e17\", \"\\u0e23\\u0e32\\u0e04\\u0e32\", \"\\u0e14\\u0e35\", \"\\u0e23\\u0e2a\\u0e0a\\u0e32\\u0e15\\u0e34\", \"\\u0e2d\\u0e23\\u0e48\\u0e2d\\u0e22\", \"\\u0e40\\u0e19\\u0e37\\u0e49\\u0e2d\", \"\\u0e40\\u0e25\\u0e37\\u0e2d\\u0e01\", \"\\u0e2d\\u0e32\\u0e2b\\u0e32\\u0e23\", \"\\u0e2a\\u0e32\\u0e02\\u0e32\", \"\\u0e0b\\u0e39\\u0e0a\\u0e34\", \"\\u0e2d\\u0e32\\u0e23\\u0e32\\u0e21\", \"\\u0e1b\", \"\\u0e1e\\u0e19\\u0e31\\u0e01\\u0e07\\u0e32\\u0e19\", \"\\u0e0a\\u0e34\", \"\\u0e01\\u0e30\\u0e1b\\u0e34\", \"\\u0e2b\\u0e22\\u0e34\\u0e1a\", \"\\u0e23\\u0e2a\", \"\\u0e2a\\u0e32\\u0e22\\u0e1e\\u0e32\\u0e19\", \"\\u0e1a\\u0e38\\u0e1f\\u0e40\\u0e1f\\u0e48\\u0e15\\u0e4c\", \"\\u0e21\\u0e2d\\u0e25\\u0e25\\u0e4c\", \"\\u0e42\\u0e2d\\u0e40\\u0e04\", \"\\u0e19\\u0e38\\u0e48\\u0e21\", \"\\u0e2a\\u0e14\", \"\\u0e19\\u0e4d\\u0e49\\u0e32\", \"\\u0e02\\u0e27\\u0e31\\u0e0d\\u0e43\\u0e08\", \"\\u0e02\\u0e49\\u0e2d\\u0e14\\u0e35\", \"\\u0e15\\u0e49\\u0e2d\\u0e07\\u0e01\\u0e32\\u0e23\", \"\\u0e17\\u0e31\\u0e48\\u0e27\\u0e16\\u0e36\\u0e07\", \"\\u0e1a\", \"\\u0e1f\\u0e40\\u0e1f\", \"\\u0e21\\u0e35\\u0e48\", \"\\u0e23\\u0e30\\u0e1a\\u0e1a\", \"\\u0e23\\u0e35\\u0e27\\u0e34\\u0e27\", \"\\u0e2a\\u0e27\\u0e31\\u0e2a\\u0e14\\u0e35\", \"\\u0e40\\u0e01\\u0e49\", \"\\u0e43\\u0e0a\\u0e49\\u0e41\\u0e25\\u0e49\\u0e27\", \"\\u0e19\\u0e1e\", \"\\u0e0a\\u0e31\\u0e48\\u0e27\\u0e04\\u0e23\\u0e32\\u0e27\", \"\\u0e0d\\u0e35\\u0e48\", \"\\u0e0b\\u0e30\\u0e07\\u0e31\\u0e49\\u0e19\", \"\\u0e01\\u0e35\\u0e48\", \"\\u0e2a\\u0e21\\u0e43\\u0e08\", \"\\u0e40\\u0e1b\\u0e47\\u0e19\\u0e21\\u0e32\", \"\\u0e27\\u0e01\", \"\\u0e17\\u0e32\\u0e19\\u0e2d\\u0e32\\u0e2b\\u0e32\\u0e23\", \"\\u0e40\\u0e22\\u0e47\\u0e19\", \"\\u0e0a\\u0e37\\u0e48\\u0e19\\u0e43\\u0e08\", \"\\u0e01\\u0e25\\u0e32\\u0e22\", \"\\u0e1b\\u0e25\\u0e32\", \"\\u0e1b\\u0e38\", \"\\u0e2d\\u0e32\\u0e2b\\u0e32\\u0e23\\u0e40\\u0e2a\\u0e23\\u0e34\\u0e21\", \"\\u0e14\\u0e36\\u0e01\", \"\\u0e19\\u0e49\\u0e30\", \"\\u0e1b\\u0e38\\u0e23\\u0e30\", \"\\u0e40\\u0e17\", \"\\u0e21\", \"\\u0e01\\u0e38\\u0e49\\u0e07\", \"\\u0e40\\u0e21\\u0e19\\u0e39\", \"\\u0e0a\\u0e34\", \"\\u0e17\\u0e2d\\u0e14\", \"\\u0e04\\u0e38\\u0e49\\u0e21\", \"\\u0e2a\\u0e32\\u0e22\\u0e1e\\u0e32\\u0e19\", \"\\u0e0b\\u0e39\\u0e0a\\u0e34\", \"\\u0e40\\u0e25\\u0e37\\u0e2d\\u0e01\", \"\\u0e2d\\u0e23\\u0e48\\u0e2d\\u0e22\", \"\\u0e0b\\u0e38\\u0e1b\", \"\\u0e44\\u0e2d\\u0e15\\u0e34\\u0e21\", \"\\u0e25\\u0e2d\\u0e07\", \"\\u0e2b\\u0e22\\u0e34\\u0e1a\", \"\\u0e0a\\u0e2d\\u0e1a\", \"\\u0e08\\u0e32\\u0e19\", \"\\u0e1a\\u0e23\\u0e34\\u0e01\\u0e32\\u0e23\", \"\\u0e04\\u0e19\", \"\\u0e14\\u0e39\", \"555\", \"\\u0e1c\\u0e34\\u0e14\\u0e2b\\u0e27\\u0e31\\u0e07\", \"\\u0e2d\\u0e22\\u0e48\\u0e32\", \"\\u0e44\\u0e02\\u0e48\", \"\\u0e40\\u0e15\\u0e34\\u0e21\", \"\\u0e25\\u0e37\\u0e21\", \"\\u0e15\\u0e1a\\u0e17\\u0e49\\u0e32\\u0e22\", \"\\u0e15\\u0e31\\u0e27\", \"\\u0e08\\u0e34\\u0e49\\u0e21\", \"\\u0e04\\u0e48\\u0e32\", \"\\u0e40\\u0e1a\\u0e32\", \"\\u0e1a\\u0e31\\u0e15\\u0e23\\u0e2a\\u0e21\\u0e32\\u0e0a\\u0e34\\u0e01\", \"\\u0e40\\u0e1b\\u0e47\\u0e19\\u0e41\\u0e19\\u0e27\", \"\\u0e01\\u0e25\\u0e22\\u0e38\\u0e17\\u0e18\\u0e4c\", \"\\u0e15\\u0e23\\u0e07\\u0e19\\u0e35\\u0e49\", \"\\u0e41\\u0e21\\u0e04\", \"\\u0e42\\u0e0a\\u0e04\\u0e0a\\u0e30\\u0e15\\u0e32\", \"\\u0e21\\u0e32\\u0e01\\u0e02\\u0e36\\u0e49\\u0e19\", \"\\u0e2d\\u0e34\\u0e2d\\u0e34\", \"^^\", \"\\u0e0a\\u0e2d\\u0e1b\", \"\\u0e40\\u0e04\\u0e25\\u0e37\\u0e48\\u0e2d\\u0e19\\u0e15\\u0e31\\u0e27\", \"\\u0e2d\\u0e2d\\u0e01\\u0e23\\u0e49\\u0e32\\u0e19\", \"\\u0e15\\u0e49\\u0e21\", \"\\u0e0b\\u0e38\\u0e49\\u0e21\", \"\\u0e1b\\u0e23\\u0e31\\u0e1a\\u0e1b\\u0e23\\u0e38\\u0e07\", \"\\u0e40\\u0e04\\u0e23\\u0e37\\u0e2d\", \"\\u0e22\\u0e2d\\u0e14\", \"\\u0e42\\u0e14\", \"\\u0e02\\u0e19\\u0e32\\u0e14\", \"\\u0e14\\u0e35\\u0e02\\u0e36\\u0e49\\u0e19\", \"\\u0e2a\\u0e25\\u0e31\\u0e14\", \"\\u0e42\\u0e2d\\u0e2d\\u0e34\\u0e0a\\u0e34\", \"\\u0e25\\u0e32\\u0e19\", \"\\u0e2b\\u0e21\\u0e39\\u0e48\\u0e04\\u0e13\\u0e30\", \"\\u0e02\\u0e49\\u0e19\", \"\\u0e21\\u0e31\\u0e19\\u0e14\\u0e35\", \"\\u0e1a\\u0e23\\u0e34\\u0e40\\u0e27\\u0e13\", \"\\u0e19\\u0e31\\u0e25\", \"\\u0e2b\\u0e21\\u0e49\\u0e2d\", \"\\u0e2b\\u0e19\\u0e49\\u0e32\", \"\\u0e2b\\u0e49\\u0e32\\u0e07\", \"\\u0e40\\u0e25\\u0e37\\u0e2d\\u0e01\", \"\\u0e2a\\u0e32\\u0e22\\u0e1e\\u0e32\\u0e19\", \"\\u0e0a\\u0e34\", \"\\u0e2d\\u0e32\\u0e2b\\u0e32\\u0e23\", \"\\u0e14\\u0e35\", \"\\u0e23\\u0e32\\u0e04\\u0e32\", \"\\u0e40\\u0e19\\u0e37\\u0e49\\u0e2d\", \"\\u0e1a\\u0e32\\u0e17\", \"\\u0e2a\\u0e32\\u0e02\\u0e32\", \"\\u0e02\\u0e2d\\u0e07\\u0e2b\\u0e27\\u0e32\\u0e19\", \"xx\", \"\\u0e02\\u0e49\\u0e32\\u0e27\\u0e1b\\u0e31\\u0e49\\u0e19\", \"\\u0e42\\u0e19\\u0e49\\u0e19\", \"\\u0e15\\u0e23\\u0e07\\u0e02\\u0e49\\u0e32\\u0e21\", \"\\u0e40\\u0e04\\u0e32\\u0e19\\u0e4c\\u0e40\\u0e15\\u0e2d\\u0e23\\u0e4c\", \"\\u0e0b\\u0e38\\u0e1b\", \"\\u0e44\\u0e2d\\u0e15\\u0e34\\u0e21\", \"\\u0e40\\u0e21\\u0e19\\u0e39\", \"\\u0e01\\u0e30\\u0e1b\\u0e34\", \"\\u0e40\\u0e14\\u0e2d\\u0e30\", \"\\u0e04\\u0e38\\u0e13\\u0e20\\u0e32\\u0e1e\", \"\\u0e2b\\u0e22\\u0e34\\u0e1a\", \"\\u0e21\\u0e2d\\u0e25\\u0e25\\u0e4c\", \"\\u0e04\\u0e38\\u0e49\\u0e21\\u0e04\\u0e48\\u0e32\", \"\\u0e08\\u0e32\\u0e19\", \"\\u0e17\\u0e2d\\u0e14\", \"\\u0e14\\u0e35\\u0e21\\u0e32\\u0e01\", \"\\u0e04\\u0e34\\u0e27\", \"\\u0e23\\u0e2d\", \"555\", \"\\u0e27\\u0e32\\u0e07\", \"\\u0e14\\u0e33\", \"HALL\", \"\\u0e19\\u0e49\\u0e33\\u0e14\\u0e37\\u0e48\\u0e21\", \"\\u0e2b\\u0e25\\u0e31\\u0e07\\u0e08\\u0e32\\u0e01\\u0e17\\u0e35\\u0e48\", \"\\u0e15\\u0e31\\u0e27\\u0e40\\u0e25\\u0e37\\u0e2d\\u0e01\", \"\\u0e22\\u0e39\", \"\\u0e19\\u0e21\", \"40\", \"49\", \"\\u0e23\\u0e35\", \"\\u0e1f\\u0e35\", \"MCC\", \"\\u0e14\\u0e49\\u0e32\\u0e19\\u0e43\\u0e19\", \"39\", \"\\u0e41\\u0e01\\u0e07\\u0e40\\u0e02\\u0e35\\u0e22\\u0e27\\u0e2b\\u0e27\\u0e32\\u0e19\", \"\\u0e2d\\u0e25\\u0e25\\u0e4c\", \"\\u0e15\\u0e2d\\u0e19\\u0e41\\u0e23\\u0e01\", \"\\u0e15\\u0e34\\u0e14\\u0e01\\u0e31\\u0e1a\", \"\\u0e41\\u0e27\\u0e30\", \"\\u0e17\\u0e35\\u0e48\\u0e44\\u0e2b\\u0e19\\u0e44\\u0e14\\u0e49\", \"\\u0e04\\u0e48\\u0e32\\u0e22\\u0e21\\u0e27\\u0e22\", \"199\", \"\\u0e2d\\u0e34\\u0e48\\u0e21\", \"\\u0e40\\u0e1a\", \"\\u0e08\\u0e48\\u0e32\\u0e22\", \"\\u0e40\\u0e0b\", \"\\u0e19\\u0e32\", \"\\u0e1e\\u0e34\\u0e0b\", \"\\u0e41\\u0e19\\u0e48\\u0e19\\u0e2d\\u0e19\", \"\\u0e25\", \"\\u0e2d\\u0e40\\u0e23\\u0e35\\u0e22\", \"\\u0e1e\\u0e34\\u0e0b\\u0e0b\\u0e48\\u0e32\", \"\\u0e04\\u0e19\\u0e25\\u0e30\", \"\\u0e1a\\u0e32\\u0e17\", \"\\u0e0b\\u0e38\\u0e1b\", \"\\u0e23\\u0e32\\u0e04\\u0e32\", \"\\u0e2a\\u0e32\\u0e02\\u0e32\", \"\\u0e23\\u0e2a\\u0e0a\\u0e32\\u0e15\\u0e34\", \"\\u0e14\\u0e35\", \"\\u0e40\\u0e19\\u0e37\\u0e49\\u0e2d\", \"\\u0e02\\u0e2d\\u0e07\\u0e2b\\u0e27\\u0e32\\u0e19\", \"\\u0e0b\\u0e39\\u0e0a\\u0e34\", \"\\u0e2a\\u0e31\\u0e48\\u0e07\", \"\\u0e25\\u0e2d\\u0e07\", \"\\u0e40\\u0e21\\u0e19\\u0e39\", \"\\u0e04\\u0e38\\u0e49\\u0e21\", \"\\u0e01\\u0e30\\u0e1b\\u0e34\", \"\\u0e2b\\u0e21\\u0e39\", \"\\u0e40\\u0e14\\u0e2d\\u0e30\", \"\\u0e21\\u0e2d\\u0e25\\u0e25\\u0e4c\", \"\\u0e17\\u0e2d\\u0e14\", \"\\u0e18\\u0e23\\u0e23\\u0e21\\u0e14\\u0e32\", \"\\u0e42\\u0e0b\\u0e19\", \"\\u0e0a\\u0e31\\u0e49\\u0e19\", \"\\u0e2d\\u0e22\\u0e32\\u0e01\\u0e44\\u0e14\\u0e49\", \"\\u0e40\\u0e02\\u0e49\\u0e21\\u0e02\\u0e49\\u0e19\", \"\\u0e2a\\u0e33\\u0e2b\\u0e23\\u0e31\\u0e1a\", \"\\u0e23\\u0e2d\\u0e1a\", \"\\u0e40\\u0e01\\u0e34\\u0e19\\u0e44\\u0e1b\", \"!!!!\", \"500\", \"\\u0e01\\u0e32\\u0e41\\u0e1f\", \"\\u0e07\\u0e27\\u0e14\", \"\\u0e15\\u0e2d\\u0e19\\u0e17\\u0e35\\u0e48\", \"\\u0e15\\u0e33\", \"\\u0e17\\u0e31\\u0e48\\u0e27\\u0e44\\u0e1b\", \"\\u0e1a\\u0e4a\\u0e27\\u0e22\", \"\\u0e22\\u0e38\", \"\\u0e23\\u0e49\\u0e2d\\u0e19\", \"\\u0e25\\u0e38\\u0e22\", \"\\u0e2a\\u0e38\\u0e01\\u0e35\\u0e49\\u0e22\\u0e32\\u0e01\\u0e35\\u0e49\", \"\\u0e2d\\u0e2d\\u0e2a\\u0e40\\u0e15\\u0e23\\u0e40\\u0e25\\u0e35\\u0e22\", \"\\u0e40\\u0e1b\\u0e47\\u0e19\\u0e1b\\u0e01\\u0e15\\u0e34\", \"\\u0e40\\u0e1f\\u0e23\\u0e19\\u0e44\\u0e0a\\u0e2a\\u0e4c\", \"\\u0e42\\u0e0a\", \"\\u0e44\\u0e02\\u0e48\\u0e44\\u0e01\\u0e48\", \"\\u0e44\\u0e2d\\u0e28\\u0e04\\u0e23\\u0e35\\u0e21\", \"\\u0e44\\u0e27\", \"\\u0e16\\u0e49\\u0e27\\u0e22\", \"\\u0e2a\", \"\\u0e40\\u0e25\\u0e35\\u0e48\\u0e22\\u0e19\", \"\\u0e42\\u0e2b\\u0e14\", \"\\u0e19\\u0e36\\u0e01\\u0e16\\u0e36\\u0e07\", \"\\u0e0a\\u0e32\\u0e40\\u0e02\\u0e35\\u0e22\\u0e27\", \"\\u0e41\\u0e19\\u0e30\\u0e19\\u0e33\", \"\\u0e42\\u0e1b\\u0e23\", \"\\u0e19\", \"\\u0e2d\\u0e22\\u0e39\\u0e48\\u0e41\\u0e25\\u0e49\\u0e27\", \"\\u0e14\\u0e35\\u0e21\\u0e32\\u0e01\", \"\\u0e0a\\u0e2d\\u0e1a\", \"\\u0e23\\u0e2a\", \"\\u0e40\\u0e19\\u0e37\\u0e49\\u0e2d\", \"\\u0e23\\u0e32\\u0e04\\u0e32\", \"\\u0e23\\u0e2a\\u0e0a\\u0e32\\u0e15\\u0e34\", \"\\u0e0b\\u0e38\\u0e1b\", \"\\u0e14\\u0e35\", \"\\u0e2d\\u0e23\\u0e48\\u0e2d\\u0e22\", \"\\u0e1a\\u0e32\\u0e17\", \"\\u0e2a\\u0e31\\u0e48\\u0e07\", \"\\u0e2b\\u0e21\\u0e39\", \"\\u0e04\\u0e38\\u0e49\\u0e21\\u0e04\\u0e48\\u0e32\", \"\\u0e18\\u0e23\\u0e23\\u0e21\\u0e14\\u0e32\", \"\\u0e19\\u0e49\\u0e33\\u0e08\\u0e34\\u0e49\\u0e21\", \"\\u0e2a\\u0e48\\u0e27\\u0e19\\u0e15\\u0e31\\u0e27\", \"\\u0e44\\u0e2d\\u0e28\\u0e01\\u0e23\\u0e35\\u0e21\", \"\\u0e2b\\u0e27\\u0e32\\u0e19\", \"\\u0e04\\u0e2d\", \"\\u0e08\\u0e48\\u0e32\\u0e22\", \"\\u0e40\\u0e23\\u0e37\\u0e48\\u0e2d\\u0e07\", \"\\u0e42\\u0e21\\u0e48\", \"\\u0e15\\u0e34\\u0e14\", \"\\u0e40\\u0e04\\u0e47\\u0e21\", \"\\u0e2d\\u0e2d\", \"\\u0e40\\u0e2a\\u0e34\\u0e23\\u0e4c\\u0e1f\", \"\\u0e41\\u0e25\\u0e01\", \"\\u0e2e\\u0e31\\u0e19\", \"\\u0e2b\\u0e27\\u0e22\", \"\\u0e16\\u0e39\\u0e01\\u0e2b\\u0e27\\u0e22\", \"\\u0e1f\\u0e23\\u0e35\", \"\\u0e44\\u0e14\\u0e49\\u0e40\\u0e27\\u0e25\\u0e32\", \"\\u0e0a\\u0e48\\u0e2d\\u0e07\", \"\\u0e40\\u0e07\\u0e34\\u0e19\", \"\\u0e42\\u0e17\\u0e2a\", \"\\u0e23\\u0e31\\u0e1a\\u0e1b\\u0e23\\u0e30\\u0e01\\u0e31\\u0e19\", \"\\u0e04\\u0e48\\u0e32\\u0e19\\u0e49\\u0e33\", \"\\u0e25\\u0e2d\\u0e15\\u0e40\\u0e15\\u0e2d\\u0e23\\u0e35\\u0e48\", \"\\u0e2b\\u0e31\\u0e27\", \"300\", \"\\u0e0b\\u0e36\\u0e1b\", \"10\", \"\\u0e01\\u0e33\", \"\\u0e17\\u0e2d\\u0e19\", \"6\", \"\\u0e0b\\u0e35\", \"\\u0e2a\\u0e31\\u0e1b\\u0e14\\u0e32\\u0e2b\\u0e4c\", \"\\u0e1f\\u0e39\\u0e49\\u0e14\", \"\\u0e19\\u0e36\\u0e07\", \"\\u0e0a\\u0e38\\u0e14\", \"\\u0e41\\u0e19\\u0e30\\u0e19\\u0e33\", \"\\u0e1a\\u0e38\\u0e1f\\u0e40\\u0e1f\\u0e48\\u0e15\\u0e4c\", \"VAT\", \"\\u0e41\\u0e1a\\u0e48\\u0e07\", \"\\u0e40\\u0e0b\", \"\\u0e19\\u0e32\", \"\\u0e04\\u0e19\\u0e25\\u0e30\", \"\\u0e40\\u0e25\\u0e37\\u0e2d\\u0e01\", \"\\u0e1a\\u0e32\\u0e17\", \"\\u0e2d\\u0e23\\u0e48\\u0e2d\\u0e22\", \"\\u0e0b\\u0e38\\u0e1b\", \"\\u0e14\\u0e35\", \"\\u0e2d\\u0e32\\u0e2b\\u0e32\\u0e23\", \"\\u0e0a\\u0e2d\\u0e1a\", \"\\u0e18\\u0e23\\u0e23\\u0e21\\u0e14\\u0e32\", \"\\u0e1e\\u0e34\\u0e0b\\u0e0b\\u0e48\\u0e32\", \"\\u0e42\\u0e1b\\u0e23\\u0e42\\u0e21\\u0e0a\\u0e31\\u0e48\\u0e19\", \"\\u0e0a\\u0e21.\", \"199\", \"\\u0e2b\\u0e21\\u0e49\\u0e2d\", \"\\u0e15\\u0e49\\u0e21\\u0e22\\u0e33\", \"\\u0e2d\\u0e40\\u0e23\\u0e35\\u0e22\", \"\\u0e41\\u0e19\\u0e48\\u0e19\\u0e2d\\u0e19\", \"\\u0e1e\\u0e34\\u0e0b\", \"\\u0e2d\\u0e31\\u0e19\\u0e19\\u0e35\\u0e49\", \"\\u0e2a\\u0e38\\u0e01\\u0e35\\u0e49\", \"\\u0e41\\u0e1a\\u0e1a\\u0e09\\u0e1a\\u0e31\\u0e1a\", \"\\u0e1e\\u0e32\\u0e23\\u0e32\", \"\\u0e44\\u0e17\\u0e22\", \"\\u0e1b\\u0e23\\u0e30\", \"\\u0e21\\u0e2d\", \"\\u0e44\\u0e14\", \"\\u0e14\\u0e31\\u0e07\\u0e40\\u0e14\\u0e34\\u0e21\", \"\\u0e2b\\u0e25\\u0e32\\u0e22\\u0e0a\\u0e19\\u0e34\\u0e14\", \"\\u0e2a\\u0e4c\", \"\\u0e04\\u0e30\\u0e41\\u0e19\\u0e19\", \"20\", \"\\u0e01\\u0e4c\", \"Menu\", \"\\u0e01\\u0e23\\u0e23\\u0e21\\u0e27\\u0e34\\u0e18\\u0e35\", \"\\u0e23\\u0e49\\u0e32\\u0e19\\u0e2d\\u0e32\\u0e2b\\u0e32\\u0e23\", \"Number\", \"\\u2013\", \"\\u0e2a\\u0e44\\u0e15\\u0e25\\u0e4c\", \"\\u0e22\\u0e38\\u0e04\", \"4.0\", \"\\u0e0b\\u0e36\", \"\\u0e1e\\u0e2d\\u0e19\", \"\\u0e23\\u0e32\\u0e22\\u0e25\\u0e30\\u0e40\\u0e2d\\u0e35\\u0e22\\u0e14\", \"\\u0e41\\u0e1a\\u0e48\\u0e07\", \"\\u0e25\", \"\\u0e2b\\u0e25\\u0e32\\u0e01\", \"\\u0e40\\u0e0b\\u0e47\\u0e17\", \"600\", \"5\", \"\\u0e19\\u0e49\\u0e33\\u0e08\\u0e34\\u0e49\\u0e21\", \"\\u0e14\\u0e33\", \"\\u0e40\\u0e25\\u0e37\\u0e2d\\u0e01\", \"\\u0e23\\u0e32\\u0e04\\u0e32\", \"\\u0e40\\u0e19\\u0e37\\u0e49\\u0e2d\", \"\\u0e1a\\u0e32\\u0e17\", \"\\u0e2d\\u0e32\\u0e2b\\u0e32\\u0e23\", \"\\u0e2a\\u0e32\\u0e02\\u0e32\", \"\\u0e23\\u0e2a\\u0e0a\\u0e32\\u0e15\\u0e34\", \"\\u0e1c\\u0e31\\u0e01\", \"\\u0e40\\u0e21\\u0e19\\u0e39\", \"\\u0e01\\u0e30\\u0e1b\\u0e34\", \"\\u0e2b\\u0e21\\u0e39\", \"\\u0e40\\u0e14\\u0e2d\\u0e30\", \"\\u0e1a\\u0e38\\u0e1f\\u0e40\\u0e1f\\u0e48\\u0e15\\u0e4c\", \"\\u0e0d\\u0e35\\u0e48\\u0e1b\\u0e38\\u0e48\\u0e19\", \"\\u0e04\\u0e19\", \"\\u0e0a\\u0e38\\u0e14\", \"\\u0e2a\\u0e21\\u0e23\\u0e32\\u0e04\\u0e32\", \"\\u0e42\\u0e0a\\u0e04\", \"\\u0e40\\u0e1f\\u0e48\", \"\\u0e22\", \"\\u0e04\\u0e23\\u0e35\\u0e21\", \"\\u0e2a\\u0e27\\u0e22\", \"255\", \"\\u0e40\", \"\\u0e1b\\u0e34\\u0e14\\u0e17\\u0e49\\u0e32\\u0e22\", \"\\u0e40\\u0e23\\u0e22\", \"\\u0e40\\u0e0b\\u0e15\", \"\\u0e40\\u0e40\\u0e1a\\u0e1a\", \"\\u0e27\\u0e34\\u0e1b\", \"\\u0e40\\u0e14\\u0e47\\u0e14\", \"\\u0e40\\u0e23\\u0e34\\u0e2a\", \"\\u0e1a\\u0e38\\u0e1e\", \"\\u0e40\\u0e1b\\u0e49\\u0e07\", \"\\u0e08\\u0e1a\", \"128\", \"\\u0e0a\\u0e32\\u0e15\", \"29\", \"\\u0e1a\\u0e23\\u0e32\", \"\\u0e08\\u0e38\\u0e01\", \"\\u0e2b\\u0e2d\", \"\\u0e21\\u0e21\\u0e32\\u0e01\", \"\\u0e01\\u0e32\", \"\\u0e15\\u0e1a\\u0e17\\u0e49\\u0e32\\u0e22\", \"\\u0e27\", \"\\u0e17\\u0e48\\u0e32\\u0e19\", \"\\u0e07\\u0e32\\u0e19\", \"\\u0e02\\u0e2d\\u0e07\\u0e2b\\u0e27\\u0e32\\u0e19\", \"\\u0e2d\\u0e23\\u0e48\\u0e2d\\u0e22\", \"\\u0e14\\u0e35\", \"\\u0e23\\u0e32\\u0e04\\u0e32\", \"\\u0e44\\u0e2d\\u0e15\\u0e34\\u0e21\", \"\\u0e1c\\u0e31\\u0e01\", \"\\u0e2b\\u0e21\\u0e39\", \"\\u0e23\\u0e2a\", \"\\u0e19\\u0e38\\u0e48\\u0e21\", \"\\u0e04\\u0e38\\u0e49\\u0e21\\u0e04\\u0e48\\u0e32\", \"\\u0e1e\\u0e34\\u0e0b\\u0e0b\\u0e48\\u0e32\", \"\\u0e42\\u0e1b\\u0e23\\u0e42\\u0e21\\u0e0a\\u0e31\\u0e48\\u0e19\", \"\\u0e14\\u0e35\\u0e21\\u0e32\\u0e01\", \"\\u0e44\\u0e01\\u0e48\", \"\\u0e01\\u0e01\", \"\\u0e0a\\u0e37\\u0e48\\u0e2d\", \"\\u0e1a\\u0e32\\u0e07\\u0e2a\\u0e48\\u0e27\\u0e19\", \"\\ud83d\\ude06\", \"\\u0e02\\u0e36\\u0e49\\u0e19\\u0e43\\u0e08\", \"\\u0e1b\\u0e23\\u0e38\\u0e07\", \"\\u0e08\\u0e33\\u0e44\\u0e14\\u0e49\", \"\\u0e19\\u0e34\\u0e27\", \"\\u0e23\\u0e39\\u0e49\\u0e08\\u0e31\\u0e01\", \"pizza\", \"\\u0e15\\u0e31\\u0e14\\u0e01\\u0e33\\u0e25\\u0e31\\u0e07\", \"\\u0e2a\\u0e38\\u0e01\", \"\\ud83e\\udd23\", \"\\u0e02\\u0e2d\\u0e07\\u0e2a\\u0e14\", \"Narai\", \"mall\", \"\\u0e15\\u0e15\\u0e35\\u0e49\", \"\\u0e02\\u0e49\\u0e32\\u0e27\\u0e21\\u0e31\\u0e19\\u0e44\\u0e01\\u0e48\", \"pizzeria\", \"\\u0e15\\u0e39\\u0e49\", \"union\", \"\\u0e25\\u0e35\", \"\\u0e40\\u0e01\", \"\\u0e2a\\u0e1b\\u0e32\", \"\\u0e44\\u0e25\\u0e19\\u0e4c\", \"\\u0e19\", \"\\u0e2d\\u0e22\\u0e39\\u0e48\\u0e41\\u0e25\\u0e49\\u0e27\", \"\\u0e40\\u0e2b\\u0e21\\u0e32\\u0e30\\u0e2a\\u0e21\", \"\\u0e2d\\u0e2d\", \"\\\"\", \"\\u0e02\\u0e22\\u0e31\\u0e19\", \"\\u0e2d\\u0e32\\u0e2b\\u0e32\\u0e23\", \"\\u0e14\\u0e35\", \"\\u0e23\\u0e32\\u0e04\\u0e32\", \"\\u0e2d\\u0e23\\u0e48\\u0e2d\\u0e22\", \"\\u0e2a\\u0e31\\u0e48\\u0e07\", \"\\u0e1e\\u0e19\\u0e31\\u0e01\\u0e07\\u0e32\\u0e19\", \"\\u0e25\\u0e2d\\u0e07\", \"\\u0e04\\u0e38\\u0e13\\u0e20\\u0e32\\u0e1e\", \"\\u0e2b\\u0e22\\u0e34\\u0e1a\", \"\\u0e1a\\u0e23\\u0e34\\u0e01\\u0e32\\u0e23\", \"\\u0e23\\u0e39\\u0e49\\u0e2a\\u0e36\\u0e01\", \"\\u0e44\\u0e01\\u0e48\", \"\\u0e2b\\u0e25\\u0e32\\u0e01\\u0e2b\\u0e25\\u0e32\\u0e22\", \"\\u0e22\\u0e31\\u0e07\\u0e21\\u0e35\", \"\\u0e1e\\u0e23\\u0e35\\u0e40\\u0e21\\u0e35\\u0e22\\u0e21\", \"\\u0e40\\u0e04\\u0e49\\u0e32\", \"\\u0e04\\u0e34\\u0e14\\u0e16\\u0e36\\u0e07\", \"\\u0e2a\\u0e39\\u0e49\", \"30\", \"\\u0e2a\\u0e21\\u0e32\\u0e17\\u0e32\\u0e19\", \"9\", \"\\u0e21\\u0e35\\u0e42\\u0e2d\", \"\\u0e40\\u0e04\\u0e23\\u0e37\\u0e48\\u0e2d\\u0e07\\u0e14\\u0e37\\u0e48\\u0e21\", \"\\u0e41\\u0e08\\u0e49\\u0e07\", \"\\u0e40\\u0e2b\\u0e27\\u0e35\\u0e48\\u0e22\\u0e07\", \"\\u0e17\\u0e33\\u0e07\\u0e32\\u0e19\", \"\\u0e01\\u0e32\\u0e23\\u0e07\\u0e14\", \"\\u0e10\\u0e32\\u0e19\", \"\\u0e1e\\u0e23\\u0e30\\u0e23\\u0e32\\u0e21\", \"\\u0e21\\u0e32\\u0e15\\u0e23\\u0e32\", \"\\u0e1e\\u0e19\\u0e31\\u0e01\\u0e07\\u0e32\\u0e19\\u0e1a\\u0e23\\u0e34\\u0e01\\u0e32\\u0e23\", \"21\", \"Terminal\", \"\\u0e40\\u0e08\\u0e2d\", \"\\u0e17\\u0e30\\u0e22\\u0e2d\\u0e22\", \"\\u0e1e\\u0e32\\u0e23\\u0e32\\u0e44\\u0e14\\u0e0b\\u0e4c\", \"\\u0e17\\u0e35\\u0e48\\u0e17\\u0e32\\u0e07\", \"\\u0e40\\u0e1b\\u0e47\\u0e19\\u0e01\\u0e31\\u0e19\\u0e40\\u0e2d\\u0e07\", \"\\u0e2d\\u0e2d\\u0e23\\u0e4c\\u0e40\\u0e14\\u0e2d\\u0e23\\u0e4c\", \"CTW\", \"\\u0e01\\u0e32\", \"\\u0e23\\u0e32\\u0e22\\u0e25\\u0e30\\u0e40\\u0e2d\\u0e35\\u0e22\\u0e14\", \"\\u0e42\\u0e21\\u0e48\", \"\\u0e25\\u0e39\\u0e01\\u0e04\\u0e49\\u0e32\", \"\\u0e2a\\u0e32\\u0e02\\u0e32\", \"\\u0e1a\\u0e23\\u0e34\\u0e01\\u0e32\\u0e23\", \"\\u0e14\\u0e35\", \"\\u0e2d\\u0e32\\u0e2b\\u0e32\\u0e23\", \"\\u0e1e\\u0e19\\u0e31\\u0e01\\u0e07\\u0e32\\u0e19\", \"\\u0e04\\u0e38\\u0e13\\u0e20\\u0e32\\u0e1e\", \"\\u0e42\\u0e2d\\u0e40\\u0e04\", \"\\u0e0d\\u0e35\\u0e48\\u0e1b\\u0e38\\u0e48\\u0e19\", \"\\u0e19\\u0e32\\u0e17\\u0e35\", \"\\u0e19\\u0e48\\u0e32\\u0e23\\u0e31\\u0e01\", \"\\u0e19\\u0e36\\u0e01\\u0e16\\u0e36\\u0e07\", \"\\u0e15\\u0e48\\u0e32\\u0e07 \\u0e46\", \"\\u0e15\\u0e31\\u0e14\\u0e2a\\u0e34\\u0e19\\u0e43\\u0e08\", \"\\u0e41\\u0e04\\u0e1a\", \"\\u0e02\\u0e19\\u0e21\", \"\\u0e2a\\u0e1a\\u0e32\\u0e22\\u0e14\\u0e35\", \"\\u0e04\\u0e38\\u0e13\\u0e20\\u0e32\\u0e1e\\u0e14\\u0e35\", \"\\u0e40\\u0e2b\\u0e21\\u0e37\\u0e2d\\u0e19\\u0e01\\u0e31\\u0e1a\", \"\\u0e17\\u0e35\\u0e48\\u0e08\\u0e30\", \"\\u0e44\\u0e14\\u0e49\\u0e01\\u0e25\\u0e34\\u0e48\\u0e19\", \"\\u0e40\\u0e2a\\u0e49\\u0e19\", \"\\u0e40\\u0e14\\u0e47\\u0e01\", \"\\u0e1a\\u0e31\\u0e15\\u0e23\\u0e40\\u0e04\\u0e23\\u0e14\\u0e34\\u0e15\", \"\\u0e19\\u0e31\\u0e48\\u0e07\", \"CTW\", \"\\u0e2b\\u0e2d\", \"\\u0e21\\u0e21\\u0e32\\u0e01\", \"\\u0e42\\u0e1b\\u0e23\", \"\\u0e40\\u0e14\\u0e34\\u0e19\", \"\\u0e17\\u0e35\\u0e48\\u0e19\\u0e31\\u0e48\\u0e07\", \"\\u0e25\\u0e39\\u0e01\\u0e0a\\u0e34\\u0e49\\u0e19\", \"\\u0e2b\\u0e25\\u0e32\\u0e01\\u0e2b\\u0e25\\u0e32\\u0e22\", \"\\u0e15\\u0e31\\u0e01\", \"\\u0e2b\\u0e19\\u0e49\\u0e32\", \"\\u0e2a\\u0e32\\u0e02\\u0e32\", \"\\u0e1c\\u0e31\\u0e01\", \"\\u0e1a\\u0e23\\u0e34\\u0e01\\u0e32\\u0e23\", \"\\u0e40\\u0e25\\u0e37\\u0e2d\\u0e01\", \"\\u0e2a\\u0e31\\u0e48\\u0e07\", \"\\u0e40\\u0e19\\u0e37\\u0e49\\u0e2d\", \"\\u0e2d\\u0e23\\u0e48\\u0e2d\\u0e22\", \"7\", \"%\", \"\\u0e2a\\u0e14\\u0e46 \\u0e23\\u0e49\\u0e2d\\u0e19\\u0e46\", \"\\u0e42\\u0e14\\u0e22\\u0e40\\u0e09\\u0e1e\\u0e32\\u0e30\", \"\\u0e17\\u0e14\\u0e41\\u0e17\\u0e19\", \"\\u0e1b\\u0e23\\u0e01\\u0e15\\u0e34\", \"\\u0e40\\u0e07\\u0e34\\u0e19\\u0e2a\\u0e14\", \"VAT\", \"\\u0e08\\u0e48\\u0e32\\u0e22\", \"\\u0e41\\u0e1b\\u0e25\\u0e01\", \"\", \"\\u0e15\\u0e2d\\u0e19\", \"199\", \"\\u0e0b\\u0e39\\u0e0a\\u0e34\", \"\\u0e42\\u0e2d\\u0e40\\u0e04\", \"\\u0e1e\\u0e34\\u0e0b\\u0e0b\\u0e48\\u0e32\", \"\\u0e2a\\u0e31\\u0e48\\u0e07\", \"\\u0e40\\u0e19\\u0e37\\u0e49\\u0e2d\\u0e27\\u0e31\\u0e27\", \"\\u0e2b\\u0e19\\u0e49\\u0e32\", \"\\u0e14\\u0e39\", \"\\u0e25\\u0e2d\\u0e07\", \"\\u0e02\\u0e2d\\u0e07\\u0e2b\\u0e27\\u0e32\\u0e19\", \"\\u0e23\\u0e32\\u0e04\\u0e32\", \"\\u0e2d\\u0e23\\u0e48\\u0e2d\\u0e22\", \"\\u0e1a\\u0e32\\u0e17\", \"\\u0e2d\\u0e32\\u0e2b\\u0e32\\u0e23\", \"\\u0e2a\\u0e32\\u0e22\", \"\\u0e23\\u0e32\", \"\\u0e1a\\u0e4b\\u0e27\\u0e22\", \"\\u0e04\\u0e32\\u0e21\\u0e35\", \"\\u0e14\\u0e35\", \"\\u0e40\\u0e19\\u0e37\\u0e49\\u0e2d\", \"\\u0e40\\u0e25\\u0e37\\u0e2d\\u0e01\", \"\\u0e2a\\u0e32\\u0e02\\u0e32\", \"1.15\", \"net\", \"\\u0e02\\u0e2d\\u0e07\\u0e04\\u0e32\\u0e27\", \"\\u0e15\\u0e23\\u0e07\\u0e19\\u0e31\\u0e49\\u0e19\", \"\\u0e22\\u0e37\\u0e19\", \"\\u0e25\\u0e32\\u0e22\\u0e15\\u0e32\", \"\\u0e2d\\u0e31\\u0e1e\\u0e40\\u0e14\\u0e17\", \"\\u0e44\\u0e25\\u0e19\\u0e4c\", \"\\u0e2d\\u0e34\\u0e48\\u0e21\", \"\\u0e40\\u0e1a\", \"\\u0e40\\u0e1b\\u0e47\\u0e19\\u0e2b\\u0e25\\u0e31\\u0e01\", \"399\", \"\\u0e15\\u0e2d\\u0e19\\u0e19\\u0e35\\u0e49\", \"\\u0e40\\u0e1e\\u0e25\\u0e34\\u0e19\", \"\\u0e0a\\u0e21.\", \"\\u0e01\\u0e25\\u0e31\\u0e1a\\u0e21\\u0e32\", \"\\u0e2a\\u0e44\\u0e25\\u0e14\\u0e4c\", \"\\u0e23\\u0e2a\", \"\\u0e1b\\u0e38\\u0e23\\u0e30\", \"\\u0e40\\u0e17\", \"\\u0e21\", \"\\u0e1a\\u0e38\\u0e1f\\u0e40\\u0e1f\\u0e48\\u0e15\\u0e4c\", \"\\u0e0b\\u0e39\\u0e0a\\u0e34\", \"\\u0e0a\\u0e34\", \"\\u0e04\\u0e38\\u0e49\\u0e21\", \"\\u0e2a\\u0e14\", \"\\u0e1a\\u0e32\\u0e17\", \"\\u0e01\\u0e38\\u0e49\\u0e07\", \"\\u0e23\\u0e32\\u0e04\\u0e32\", \"\\u0e40\\u0e25\\u0e37\\u0e2d\\u0e01\", \"\\u0e14\\u0e35\", \"\\u0e40\\u0e19\\u0e37\\u0e49\\u0e2d\", \"\\u0e0b\\u0e38\\u0e1b\", \"\\u0e04\\u0e32\\u0e21\\u0e35\", \"\\u0e1a\\u0e4b\\u0e27\\u0e22\", \"\\u0e23\\u0e32\", \"\\u0e2a\\u0e32\\u0e22\", \"\\u0e0b\\u0e36\", \"\\u0e1e\\u0e2d\\u0e19\", \"\\u0e41\\u0e19\\u0e27\", \"\\u0e42\\u0e1b\\u0e23\\u0e42\\u0e21\\u0e0a\\u0e31\\u0e48\\u0e19\", \"\\u0e42\\u0e0b\\u0e19\", \"\\u0e40\\u0e19\\u0e37\\u0e49\\u0e2d\\u0e2b\\u0e21\\u0e39\", \"\\u0e19\\u0e30\\u0e04\\u0e30\", \"\\u0e0d\\u0e35\\u0e48\\u0e1b\\u0e38\\u0e48\\u0e19\", \"\\u0e0a\\u0e2d\\u0e1a\", \"\\u0e2b\\u0e22\\u0e34\\u0e1a\", \"\\u0e40\\u0e19\\u0e37\\u0e49\\u0e2d\\u0e27\\u0e31\\u0e27\", \"\\u0e1c\\u0e31\\u0e01\", \"\\u0e19\\u0e49\\u0e33\\u0e08\\u0e34\\u0e49\\u0e21\", \"\\u0e25\\u0e2d\\u0e07\", \"\\u0e1e\\u0e19\\u0e31\\u0e01\\u0e07\\u0e32\\u0e19\", \"\\u0e02\\u0e2d\\u0e07\\u0e2b\\u0e27\\u0e32\\u0e19\", \"\\u0e44\\u0e2d\\u0e15\\u0e34\\u0e21\", \"\\u0e2a\\u0e31\\u0e48\\u0e07\", \"\\u0e04\\u0e38\\u0e49\\u0e21\", \"\\u0e40\\u0e25\\u0e37\\u0e2d\\u0e01\", \"\\u0e14\\u0e35\", \"\\u0e40\\u0e19\\u0e37\\u0e49\\u0e2d\", \"\\u0e2d\\u0e23\\u0e48\\u0e2d\\u0e22\", \"\\u0e1a\\u0e31\\u0e15\\u0e23\\u0e40\\u0e04\\u0e23\\u0e14\\u0e34\\u0e15\", \"\\u0e40\\u0e14\\u0e47\\u0e01\", \"\\u0e40\\u0e2a\\u0e49\\u0e19\", \"\\u0e23\\u0e32\\u0e04\\u0e32\", \"\\u0e1a\\u0e32\\u0e17\", \"\\u0e0b\\u0e39\\u0e0a\\u0e34\", \"\\u0e2d\\u0e32\\u0e2b\\u0e32\\u0e23\", \"\\u0e2a\\u0e32\\u0e22\", \"\\u0e23\\u0e32\", \"\\u0e1a\\u0e4b\\u0e27\\u0e22\", \"\\u0e04\\u0e32\\u0e21\\u0e35\", \"\\u0e1a\\u0e31\\u0e15\\u0e23\\u0e40\\u0e04\\u0e23\\u0e14\\u0e34\\u0e15\", \"\\u0e40\\u0e14\\u0e47\\u0e01\", \"\\u0e40\\u0e2a\\u0e49\\u0e19\", \"\\u0e44\\u0e14\\u0e49\\u0e01\\u0e25\\u0e34\\u0e48\\u0e19\", \"\\u0e17\\u0e35\\u0e48\\u0e08\\u0e30\", \"\\u0e40\\u0e2b\\u0e21\\u0e37\\u0e2d\\u0e19\\u0e01\\u0e31\\u0e1a\", \"\\u0e04\\u0e38\\u0e13\\u0e20\\u0e32\\u0e1e\\u0e14\\u0e35\", \"\\u0e2a\\u0e1a\\u0e32\\u0e22\\u0e14\\u0e35\", \"\\u0e02\\u0e19\\u0e21\", \"\\u0e41\\u0e04\\u0e1a\", \"\\u0e15\\u0e31\\u0e14\\u0e2a\\u0e34\\u0e19\\u0e43\\u0e08\", \"\\u0e40\\u0e07\\u0e34\\u0e19\\u0e2a\\u0e14\", \"\\u0e1b\\u0e23\\u0e01\\u0e15\\u0e34\", \"\\u0e17\\u0e14\\u0e41\\u0e17\\u0e19\", \"\\u0e42\\u0e14\\u0e22\\u0e40\\u0e09\\u0e1e\\u0e32\\u0e30\", \"\\u0e2a\\u0e14\\u0e46 \\u0e23\\u0e49\\u0e2d\\u0e19\\u0e46\", \"%\", \"7\", \"1.15\", \"net\", \"\\u0e02\\u0e2d\\u0e07\\u0e04\\u0e32\\u0e27\", \"\\u0e15\\u0e23\\u0e07\\u0e19\\u0e31\\u0e49\\u0e19\", \"\\u0e22\\u0e37\\u0e19\", \"\\u0e25\\u0e32\\u0e22\\u0e15\\u0e32\", \"\\u0e2d\\u0e31\\u0e1e\\u0e40\\u0e14\\u0e17\", \"\\u0e2d\\u0e2d\\u0e23\\u0e4c\\u0e40\\u0e14\\u0e2d\\u0e23\\u0e4c\", \"\\u0e40\\u0e1b\\u0e47\\u0e19\\u0e01\\u0e31\\u0e19\\u0e40\\u0e2d\\u0e07\", \"\\u0e17\\u0e35\\u0e48\\u0e17\\u0e32\\u0e07\", \"\\u0e23\\u0e32\\u0e04\\u0e32\", \"\\u0e14\\u0e35\", \"\\u0e1e\\u0e32\\u0e23\\u0e32\\u0e44\\u0e14\\u0e0b\\u0e4c\", \"\\u0e17\\u0e30\\u0e22\\u0e2d\\u0e22\", \"\\u0e40\\u0e08\\u0e2d\", \"\\u0e2d\\u0e23\\u0e48\\u0e2d\\u0e22\", \"\\u0e0b\\u0e39\\u0e0a\\u0e34\", \"\\u0e40\\u0e19\\u0e37\\u0e49\\u0e2d\", \"\\u0e1a\\u0e32\\u0e17\", \"\\u0e02\\u0e2d\\u0e07\\u0e2b\\u0e27\\u0e32\\u0e19\", \"\\u0e40\\u0e25\\u0e37\\u0e2d\\u0e01\", \"\\u0e2a\\u0e32\\u0e02\\u0e32\", \"\\u0e2d\\u0e32\\u0e2b\\u0e32\\u0e23\", \"\\u0e2b\\u0e21\\u0e39\", \"\\u0e01\\u0e30\\u0e1b\\u0e34\", \"\\u0e2a\\u0e31\\u0e48\\u0e07\", \"\\u0e2b\\u0e22\\u0e34\\u0e1a\", \"\\u0e1c\\u0e31\\u0e01\", \"\\u0e25\\u0e2d\\u0e07\", \"\\u0e1e\\u0e19\\u0e31\\u0e01\\u0e07\\u0e32\\u0e19\", \"\\u0e04\\u0e38\\u0e13\\u0e20\\u0e32\\u0e1e\", \"\\u0e40\\u0e21\\u0e19\\u0e39\", \"\\u0e44\\u0e2d\\u0e15\\u0e34\\u0e21\", \"\\u0e40\\u0e14\\u0e2d\\u0e30\", \"\\u0e0a\\u0e34\", \"\\u0e23\\u0e2a\", \"\\u0e0d\\u0e35\\u0e48\\u0e1b\\u0e38\\u0e48\\u0e19\", \"\\u0e42\\u0e2d\\u0e40\\u0e04\", \"\\u0e21\\u0e2d\\u0e25\\u0e25\\u0e4c\", \"\\u0e04\\u0e38\\u0e49\\u0e21\\u0e04\\u0e48\\u0e32\", \"\\u0e0b\\u0e38\\u0e1b\", \"\\u0e2a\\u0e32\\u0e22\\u0e1e\\u0e32\\u0e19\", \"\\u0e08\\u0e32\\u0e19\", \"\\u0e04\\u0e38\\u0e49\\u0e21\", \"\\u0e23\\u0e2a\\u0e0a\\u0e32\\u0e15\\u0e34\", \"\\u0e1a\\u0e38\\u0e1f\\u0e40\\u0e1f\\u0e48\\u0e15\\u0e4c\", \"\\u0e0a\\u0e2d\\u0e1a\", \"\\u0e19\\u0e38\\u0e48\\u0e21\", \"\\u0e04\\u0e19\", \"\\u0e2a\\u0e14\", \"\\u0e2a\\u0e32\\u0e22\", \"\\u0e23\\u0e32\", \"\\u0e1a\\u0e4b\\u0e27\\u0e22\", \"\\u0e04\\u0e32\\u0e21\\u0e35\", \"\\u0e1a\\u0e31\\u0e15\\u0e23\\u0e40\\u0e04\\u0e23\\u0e14\\u0e34\\u0e15\", \"\\u0e40\\u0e14\\u0e47\\u0e01\", \"\\u0e40\\u0e2a\\u0e49\\u0e19\", \"\\u0e44\\u0e14\\u0e49\\u0e01\\u0e25\\u0e34\\u0e48\\u0e19\", \"\\u0e17\\u0e35\\u0e48\\u0e08\\u0e30\", \"\\u0e40\\u0e2b\\u0e21\\u0e37\\u0e2d\\u0e19\\u0e01\\u0e31\\u0e1a\", \"\\u0e04\\u0e38\\u0e13\\u0e20\\u0e32\\u0e1e\\u0e14\\u0e35\", \"\\u0e2a\\u0e1a\\u0e32\\u0e22\\u0e14\\u0e35\", \"\\u0e02\\u0e19\\u0e21\", \"\\u0e41\\u0e04\\u0e1a\", \"\\u0e15\\u0e31\\u0e14\\u0e2a\\u0e34\\u0e19\\u0e43\\u0e08\", \"\\u0e40\\u0e07\\u0e34\\u0e19\\u0e2a\\u0e14\", \"\\u0e1b\\u0e23\\u0e01\\u0e15\\u0e34\", \"\\u0e17\\u0e14\\u0e41\\u0e17\\u0e19\", \"\\u0e42\\u0e14\\u0e22\\u0e40\\u0e09\\u0e1e\\u0e32\\u0e30\", \"\\u0e2a\\u0e14\\u0e46 \\u0e23\\u0e49\\u0e2d\\u0e19\\u0e46\", \"%\", \"7\", \"1.15\", \"net\", \"\\u0e02\\u0e2d\\u0e07\\u0e04\\u0e32\\u0e27\", \"\\u0e15\\u0e23\\u0e07\\u0e19\\u0e31\\u0e49\\u0e19\", \"\\u0e22\\u0e37\\u0e19\", \"\\u0e25\\u0e32\\u0e22\\u0e15\\u0e32\", \"\\u0e2d\\u0e31\\u0e1e\\u0e40\\u0e14\\u0e17\", \"\\u0e2d\\u0e2d\\u0e23\\u0e4c\\u0e40\\u0e14\\u0e2d\\u0e23\\u0e4c\", \"\\u0e40\\u0e1b\\u0e47\\u0e19\\u0e01\\u0e31\\u0e19\\u0e40\\u0e2d\\u0e07\", \"\\u0e17\\u0e35\\u0e48\\u0e17\\u0e32\\u0e07\", \"\\u0e23\\u0e32\\u0e04\\u0e32\", \"\\u0e14\\u0e35\", \"\\u0e1e\\u0e32\\u0e23\\u0e32\\u0e44\\u0e14\\u0e0b\\u0e4c\", \"\\u0e17\\u0e30\\u0e22\\u0e2d\\u0e22\", \"\\u0e40\\u0e08\\u0e2d\", \"\\u0e2d\\u0e23\\u0e48\\u0e2d\\u0e22\", \"\\u0e0b\\u0e39\\u0e0a\\u0e34\", \"\\u0e40\\u0e19\\u0e37\\u0e49\\u0e2d\", \"\\u0e1a\\u0e32\\u0e17\", \"\\u0e02\\u0e2d\\u0e07\\u0e2b\\u0e27\\u0e32\\u0e19\", \"\\u0e40\\u0e25\\u0e37\\u0e2d\\u0e01\", \"\\u0e2a\\u0e32\\u0e02\\u0e32\", \"\\u0e2d\\u0e32\\u0e2b\\u0e32\\u0e23\", \"\\u0e2b\\u0e21\\u0e39\", \"\\u0e01\\u0e30\\u0e1b\\u0e34\", \"\\u0e2a\\u0e31\\u0e48\\u0e07\", \"\\u0e2b\\u0e22\\u0e34\\u0e1a\", \"\\u0e1c\\u0e31\\u0e01\", \"\\u0e25\\u0e2d\\u0e07\", \"\\u0e1e\\u0e19\\u0e31\\u0e01\\u0e07\\u0e32\\u0e19\", \"\\u0e04\\u0e38\\u0e13\\u0e20\\u0e32\\u0e1e\", \"\\u0e40\\u0e21\\u0e19\\u0e39\", \"\\u0e44\\u0e2d\\u0e15\\u0e34\\u0e21\", \"\\u0e40\\u0e14\\u0e2d\\u0e30\", \"\\u0e0a\\u0e34\", \"\\u0e23\\u0e2a\", \"\\u0e0d\\u0e35\\u0e48\\u0e1b\\u0e38\\u0e48\\u0e19\", \"\\u0e42\\u0e2d\\u0e40\\u0e04\", \"\\u0e04\\u0e38\\u0e49\\u0e21\\u0e04\\u0e48\\u0e32\", \"\\u0e21\\u0e2d\\u0e25\\u0e25\\u0e4c\", \"\\u0e0b\\u0e38\\u0e1b\", \"\\u0e2a\\u0e32\\u0e22\\u0e1e\\u0e32\\u0e19\", \"\\u0e08\\u0e32\\u0e19\", \"\\u0e04\\u0e38\\u0e49\\u0e21\", \"\\u0e23\\u0e2a\\u0e0a\\u0e32\\u0e15\\u0e34\", \"\\u0e1a\\u0e38\\u0e1f\\u0e40\\u0e1f\\u0e48\\u0e15\\u0e4c\", \"\\u0e0a\\u0e2d\\u0e1a\", \"\\u0e19\\u0e38\\u0e48\\u0e21\", \"\\u0e04\\u0e19\", \"\\u0e2a\\u0e14\", \"\\u0e2a\\u0e32\\u0e22\", \"\\u0e23\\u0e32\", \"\\u0e1a\\u0e4b\\u0e27\\u0e22\", \"\\u0e04\\u0e32\\u0e21\\u0e35\", \"\\u0e1a\\u0e31\\u0e15\\u0e23\\u0e40\\u0e04\\u0e23\\u0e14\\u0e34\\u0e15\", \"\\u0e40\\u0e14\\u0e47\\u0e01\", \"\\u0e40\\u0e2a\\u0e49\\u0e19\", \"\\u0e44\\u0e14\\u0e49\\u0e01\\u0e25\\u0e34\\u0e48\\u0e19\", \"\\u0e17\\u0e35\\u0e48\\u0e08\\u0e30\", \"\\u0e40\\u0e2b\\u0e21\\u0e37\\u0e2d\\u0e19\\u0e01\\u0e31\\u0e1a\", \"\\u0e04\\u0e38\\u0e13\\u0e20\\u0e32\\u0e1e\\u0e14\\u0e35\", \"\\u0e2a\\u0e1a\\u0e32\\u0e22\\u0e14\\u0e35\", \"\\u0e02\\u0e19\\u0e21\", \"\\u0e41\\u0e04\\u0e1a\", \"\\u0e15\\u0e31\\u0e14\\u0e2a\\u0e34\\u0e19\\u0e43\\u0e08\", \"\\u0e40\\u0e07\\u0e34\\u0e19\\u0e2a\\u0e14\", \"\\u0e1b\\u0e23\\u0e01\\u0e15\\u0e34\", \"\\u0e17\\u0e14\\u0e41\\u0e17\\u0e19\", \"\\u0e42\\u0e14\\u0e22\\u0e40\\u0e09\\u0e1e\\u0e32\\u0e30\", \"\\u0e2a\\u0e14\\u0e46 \\u0e23\\u0e49\\u0e2d\\u0e19\\u0e46\", \"%\", \"7\", \"1.15\", \"net\", \"\\u0e02\\u0e2d\\u0e07\\u0e04\\u0e32\\u0e27\", \"\\u0e15\\u0e23\\u0e07\\u0e19\\u0e31\\u0e49\\u0e19\", \"\\u0e22\\u0e37\\u0e19\", \"\\u0e25\\u0e32\\u0e22\\u0e15\\u0e32\", \"\\u0e2d\\u0e31\\u0e1e\\u0e40\\u0e14\\u0e17\", \"\\u0e2d\\u0e2d\\u0e23\\u0e4c\\u0e40\\u0e14\\u0e2d\\u0e23\\u0e4c\", \"\\u0e40\\u0e1b\\u0e47\\u0e19\\u0e01\\u0e31\\u0e19\\u0e40\\u0e2d\\u0e07\", \"\\u0e17\\u0e35\\u0e48\\u0e17\\u0e32\\u0e07\", \"\\u0e23\\u0e32\\u0e04\\u0e32\", \"\\u0e14\\u0e35\", \"\\u0e1e\\u0e32\\u0e23\\u0e32\\u0e44\\u0e14\\u0e0b\\u0e4c\", \"\\u0e17\\u0e30\\u0e22\\u0e2d\\u0e22\", \"\\u0e40\\u0e08\\u0e2d\", \"\\u0e2d\\u0e23\\u0e48\\u0e2d\\u0e22\", \"\\u0e0b\\u0e39\\u0e0a\\u0e34\", \"\\u0e40\\u0e19\\u0e37\\u0e49\\u0e2d\", \"\\u0e1a\\u0e32\\u0e17\", \"\\u0e02\\u0e2d\\u0e07\\u0e2b\\u0e27\\u0e32\\u0e19\", \"\\u0e40\\u0e25\\u0e37\\u0e2d\\u0e01\", \"\\u0e2a\\u0e32\\u0e02\\u0e32\", \"\\u0e2d\\u0e32\\u0e2b\\u0e32\\u0e23\", \"\\u0e2b\\u0e21\\u0e39\", \"\\u0e01\\u0e30\\u0e1b\\u0e34\", \"\\u0e2a\\u0e31\\u0e48\\u0e07\", \"\\u0e2b\\u0e22\\u0e34\\u0e1a\", \"\\u0e1c\\u0e31\\u0e01\", \"\\u0e25\\u0e2d\\u0e07\", \"\\u0e1e\\u0e19\\u0e31\\u0e01\\u0e07\\u0e32\\u0e19\", \"\\u0e04\\u0e38\\u0e13\\u0e20\\u0e32\\u0e1e\", \"\\u0e40\\u0e21\\u0e19\\u0e39\", \"\\u0e44\\u0e2d\\u0e15\\u0e34\\u0e21\", \"\\u0e40\\u0e14\\u0e2d\\u0e30\", \"\\u0e0a\\u0e34\", \"\\u0e23\\u0e2a\", \"\\u0e0d\\u0e35\\u0e48\\u0e1b\\u0e38\\u0e48\\u0e19\", \"\\u0e42\\u0e2d\\u0e40\\u0e04\", \"\\u0e21\\u0e2d\\u0e25\\u0e25\\u0e4c\", \"\\u0e04\\u0e38\\u0e49\\u0e21\\u0e04\\u0e48\\u0e32\", \"\\u0e0b\\u0e38\\u0e1b\", \"\\u0e2a\\u0e32\\u0e22\\u0e1e\\u0e32\\u0e19\", \"\\u0e08\\u0e32\\u0e19\", \"\\u0e04\\u0e38\\u0e49\\u0e21\", \"\\u0e23\\u0e2a\\u0e0a\\u0e32\\u0e15\\u0e34\", \"\\u0e1a\\u0e38\\u0e1f\\u0e40\\u0e1f\\u0e48\\u0e15\\u0e4c\", \"\\u0e0a\\u0e2d\\u0e1a\", \"\\u0e19\\u0e38\\u0e48\\u0e21\", \"\\u0e04\\u0e19\", \"\\u0e2a\\u0e14\", \"\\u0e2a\\u0e32\\u0e22\", \"\\u0e23\\u0e32\", \"\\u0e1a\\u0e4b\\u0e27\\u0e22\", \"\\u0e04\\u0e32\\u0e21\\u0e35\", \"\\u0e1a\\u0e31\\u0e15\\u0e23\\u0e40\\u0e04\\u0e23\\u0e14\\u0e34\\u0e15\", \"\\u0e40\\u0e14\\u0e47\\u0e01\", \"\\u0e40\\u0e2a\\u0e49\\u0e19\", \"\\u0e44\\u0e14\\u0e49\\u0e01\\u0e25\\u0e34\\u0e48\\u0e19\", \"\\u0e17\\u0e35\\u0e48\\u0e08\\u0e30\", \"\\u0e40\\u0e2b\\u0e21\\u0e37\\u0e2d\\u0e19\\u0e01\\u0e31\\u0e1a\", \"\\u0e04\\u0e38\\u0e13\\u0e20\\u0e32\\u0e1e\\u0e14\\u0e35\", \"\\u0e2a\\u0e1a\\u0e32\\u0e22\\u0e14\\u0e35\", \"\\u0e02\\u0e19\\u0e21\", \"\\u0e41\\u0e04\\u0e1a\", \"\\u0e15\\u0e31\\u0e14\\u0e2a\\u0e34\\u0e19\\u0e43\\u0e08\", \"\\u0e40\\u0e07\\u0e34\\u0e19\\u0e2a\\u0e14\", \"\\u0e1b\\u0e23\\u0e01\\u0e15\\u0e34\", \"\\u0e17\\u0e14\\u0e41\\u0e17\\u0e19\", \"\\u0e42\\u0e14\\u0e22\\u0e40\\u0e09\\u0e1e\\u0e32\\u0e30\", \"\\u0e2a\\u0e14\\u0e46 \\u0e23\\u0e49\\u0e2d\\u0e19\\u0e46\", \"%\", \"7\", \"1.15\", \"net\", \"\\u0e02\\u0e2d\\u0e07\\u0e04\\u0e32\\u0e27\", \"\\u0e15\\u0e23\\u0e07\\u0e19\\u0e31\\u0e49\\u0e19\", \"\\u0e22\\u0e37\\u0e19\", \"\\u0e25\\u0e32\\u0e22\\u0e15\\u0e32\", \"\\u0e2d\\u0e31\\u0e1e\\u0e40\\u0e14\\u0e17\", \"\\u0e2d\\u0e2d\\u0e23\\u0e4c\\u0e40\\u0e14\\u0e2d\\u0e23\\u0e4c\", \"\\u0e40\\u0e1b\\u0e47\\u0e19\\u0e01\\u0e31\\u0e19\\u0e40\\u0e2d\\u0e07\", \"\\u0e17\\u0e35\\u0e48\\u0e17\\u0e32\\u0e07\", \"\\u0e23\\u0e32\\u0e04\\u0e32\", \"\\u0e14\\u0e35\", \"\\u0e1e\\u0e32\\u0e23\\u0e32\\u0e44\\u0e14\\u0e0b\\u0e4c\", \"\\u0e17\\u0e30\\u0e22\\u0e2d\\u0e22\", \"\\u0e40\\u0e08\\u0e2d\", \"\\u0e2d\\u0e23\\u0e48\\u0e2d\\u0e22\", \"\\u0e0b\\u0e39\\u0e0a\\u0e34\", \"\\u0e40\\u0e19\\u0e37\\u0e49\\u0e2d\", \"\\u0e1a\\u0e32\\u0e17\", \"\\u0e02\\u0e2d\\u0e07\\u0e2b\\u0e27\\u0e32\\u0e19\", \"\\u0e40\\u0e25\\u0e37\\u0e2d\\u0e01\", \"\\u0e2a\\u0e32\\u0e02\\u0e32\", \"\\u0e2d\\u0e32\\u0e2b\\u0e32\\u0e23\", \"\\u0e2b\\u0e21\\u0e39\", \"\\u0e01\\u0e30\\u0e1b\\u0e34\", \"\\u0e2a\\u0e31\\u0e48\\u0e07\", \"\\u0e2b\\u0e22\\u0e34\\u0e1a\", \"\\u0e1c\\u0e31\\u0e01\", \"\\u0e25\\u0e2d\\u0e07\", \"\\u0e1e\\u0e19\\u0e31\\u0e01\\u0e07\\u0e32\\u0e19\", \"\\u0e04\\u0e38\\u0e13\\u0e20\\u0e32\\u0e1e\", \"\\u0e40\\u0e21\\u0e19\\u0e39\", \"\\u0e44\\u0e2d\\u0e15\\u0e34\\u0e21\", \"\\u0e40\\u0e14\\u0e2d\\u0e30\", \"\\u0e0a\\u0e34\", \"\\u0e23\\u0e2a\", \"\\u0e0d\\u0e35\\u0e48\\u0e1b\\u0e38\\u0e48\\u0e19\", \"\\u0e42\\u0e2d\\u0e40\\u0e04\", \"\\u0e04\\u0e38\\u0e49\\u0e21\\u0e04\\u0e48\\u0e32\", \"\\u0e21\\u0e2d\\u0e25\\u0e25\\u0e4c\", \"\\u0e0b\\u0e38\\u0e1b\", \"\\u0e2a\\u0e32\\u0e22\\u0e1e\\u0e32\\u0e19\", \"\\u0e08\\u0e32\\u0e19\", \"\\u0e04\\u0e38\\u0e49\\u0e21\", \"\\u0e23\\u0e2a\\u0e0a\\u0e32\\u0e15\\u0e34\", \"\\u0e1a\\u0e38\\u0e1f\\u0e40\\u0e1f\\u0e48\\u0e15\\u0e4c\", \"\\u0e0a\\u0e2d\\u0e1a\", \"\\u0e19\\u0e38\\u0e48\\u0e21\", \"\\u0e04\\u0e19\", \"\\u0e2a\\u0e14\"], \"Freq\": [19.0, 19.0, 17.0, 17.0, 16.0, 16.0, 13.0, 14.0, 11.0, 7.0, 10.0, 10.0, 13.0, 8.0, 7.0, 8.0, 9.0, 9.0, 7.0, 7.0, 7.0, 6.0, 7.0, 6.0, 5.0, 5.0, 5.0, 6.0, 6.0, 6.0, 9.682506525292592, 2.474515392961874, 2.4745978777176987, 1.6520928225942568, 1.6640193296725667, 1.6645645389888448, 1.6682882887795778, 1.6685917985787881, 1.6688313667068164, 1.669091822447431, 0.8476140968409791, 0.8477431524473147, 0.8477516780034723, 0.8478026714862399, 4.918376296203504, 0.8479984395695086, 0.848028971717498, 0.8481230192588615, 0.8482582558934113, 0.8482612931227924, 0.8482692325469642, 0.8482708843734698, 0.8482892143192086, 0.848301842799267, 0.8483137252931616, 0.8483293377178752, 0.8483460691218345, 0.8483495326290235, 0.8483823560202303, 0.8483947713613847, 2.5144910863681194, 1.6838260083073404, 3.339220991940337, 2.5255093020072894, 1.6893308533488467, 1.6928839854469757, 5.129487822889072, 5.160397653016235, 6.235713689117103, 2.5542632321211016, 5.262035497026797, 2.5826439560141154, 2.9665561439576793, 4.571300052472248, 2.6495972799087384, 2.6848334035080734, 3.689107898397848, 1.7376827991104757, 2.9946096996331453, 1.822261111819144, 2.300197822124538, 2.0116235184688818, 1.831646470315231, 1.7913683328042953, 1.785778232201213, 2.438959377977115, 1.6433982045965871, 1.6440383061242738, 1.644292997123694, 1.6444838707720102, 1.6444975596902227, 1.6445712099262397, 1.6446570066671495, 1.6447863765843418, 1.6457044981129094, 4.051382645485272, 3.253934136606392, 2.461207726105858, 5.701663869521142, 2.461805604068917, 0.8470815378918899, 0.8471715762694291, 0.8471871932042913, 0.8471974116925345, 0.8472126430240667, 0.8471976044941995, 0.847225078731457, 0.8472908240992104, 0.8472876428717385, 0.8473548342519791, 0.8473713187943337, 0.8474100719289919, 0.8474163379831032, 0.8474326297237929, 0.8474423662078737, 1.6651003456084814, 5.691246409959703, 1.6667754064737053, 1.6650617852754883, 1.6681471903199379, 1.668243012747426, 1.6727148545646455, 4.134703427413616, 1.6716525173906833, 1.6954124305727591, 2.543199718959257, 4.625206672823454, 1.6989171792385096, 1.7234245844756582, 2.7086034961268632, 2.9143857259882835, 2.8392858142524218, 1.8861140998038746, 1.7299085044684623, 1.7079312354806615, 1.7055850320196912, 1.7074436400699626, 1.7090849606438177, 1.3371734886632949, 0.6869353479360152, 0.6869685220002415, 0.6869762658019773, 0.6871193827303547, 0.6871637900872226, 0.6871703866590716, 0.6873157502459772, 0.687355759888279, 0.6872294211969961, 0.6873717255042036, 0.6873687140257507, 0.6872915150146187, 0.6874127867739017, 0.6872975379715244, 0.6874374522164677, 0.687304230145864, 0.6874400812849583, 0.6874305688371469, 0.6874778442687318, 0.6873360657752224, 0.6874886473501658, 0.6873611614289961, 0.687517567103562, 0.6873663239634866, 0.6875186665322035, 0.6873966777542413, 0.6875683798272978, 0.687414364214996, 0.6876038483512978, 1.3646164703877333, 2.051197706698692, 2.7479863253248906, 1.3865869743471935, 1.4007783992517897, 1.4207174458892131, 1.4522956177405928, 1.4651540571192274, 1.643942760391435, 1.7996098101152775, 1.8553305745117763, 1.5485348208937495, 1.145212578638415, 1.0983444136633453, 1.0344511659633036, 1.0364956252240571, 0.929227527554227, 0.8624085568353943, 0.6877209614022411, 0.6876985904194487, 0.8303305751633357, 0.8316107881145048, 0.7986382539382204, 0.7829409942047192, 0.7921139575720352, 0.797175583633806, 0.7953956086632032, 0.7659748982164263, 0.758946394314996, 0.7932148202509025, 0.7975165499164096, 1.2725047809977996, 0.6530213347446191, 0.6530213347446191, 0.6530213347446191, 0.6530213347446191, 0.6530213347446191, 0.6530213347446191, 0.6530213347446191, 0.6530213347446191, 0.6530213347446191, 0.6530213347446191, 0.6530213347446191, 0.6530213347446191, 0.6559756483882464, 0.6559939798821214, 0.656008275083767, 0.6560563742328336, 0.6561207867296605, 0.656141767040311, 0.6561471487632835, 0.6561497134906376, 0.6561567349573282, 0.6561886048480559, 0.6562127385120106, 0.6562185406820903, 0.6562655046239673, 0.6562658409816531, 0.6562802623174309, 0.6562911518975081, 0.6563619131456541, 3.1893129680166186, 3.189910339266564, 3.1900633820135935, 3.222771812451899, 2.0058450095745375, 2.010517690545393, 1.3548083953995738, 1.7969362781557472, 1.3174609197589908, 1.3405663382682766, 1.6076338362410736, 1.7145750625002831, 0.8857546594496037, 0.8054179807048496, 0.7865986840960367, 0.7483620469130943, 0.7626619575663455, 0.7335975422063594, 0.753713077246747, 0.7699911074500704, 0.7390849655815959, 0.6991639752423993, 0.6823571907570297, 0.6819297642278247, 0.6816709790333277, 0.6772921905904221, 0.681030343776049, 0.6740089611748128, 0.6945342639659018, 0.6778394025004755, 1.2746372232429537, 0.6553563604264742, 0.6555487076110351, 0.6556469944532968, 0.6557252261388744, 0.655749549231795, 0.6557356680799579, 0.6557534442415641, 0.6557558475454643, 0.6557797977119176, 0.6557887893834061, 0.6558161787606132, 0.6558584023239625, 0.655879451951226, 0.6558964408236236, 0.6559347279409296, 0.6559426837055646, 0.6559397417301006, 0.6559309158037087, 0.6560259291803132, 0.6560304457341946, 0.6560755284004596, 0.6561008459639596, 0.6561320474783875, 0.656212889649236, 0.6562128067766876, 0.6562487734626418, 0.6562369641245116, 0.6562868119623029, 0.6563225714668862, 1.9328964432906266, 1.9632907790982905, 1.3335736105316454, 2.2147797919951597, 1.3735330958619414, 1.4062516751587038, 1.6012917203035455, 1.1485756464247947, 1.0954223541728199, 1.0442389423934924, 0.9473696350701766, 0.8834488783651038, 0.8282729158272262, 0.6563915628633304, 0.6564893524703025, 0.656484794480147, 0.6563309830305368, 0.6562975025210311, 0.8810739997490055, 0.8012956638028468, 0.7846837786273041, 0.7593038120984992, 0.7651941442126918, 0.75471474473742, 0.7443886594764686, 0.728227186600835, 0.724070879686881, 0.7296979257151839, 0.7321802900264031, 0.7196135796775691, 0.7161628496396825, 0.7189012072525427, 0.6954414805399647, 0.6823427284311645, 0.7148674688374969, 0.6027322969296044, 0.6027439920604222, 0.6027603788425564, 0.6028372131322312, 0.6028955527964267, 0.6028807978930113, 0.6028782140850399, 0.6028869854331533, 0.602960827945177, 0.6029572242130065, 0.6029380496380611, 0.6030029168171317, 0.6029935335144988, 0.6030220233971304, 0.603041333961969, 0.6030603045520746, 0.6030819269450981, 0.6031160604082988, 0.603099605631218, 0.6031264636351309, 1.207607250616937, 0.6149750590474001, 0.6149698234365109, 1.208434613127347, 0.6174145817420489, 0.6174642860480244, 0.6174801968655322, 0.617546627928375, 0.6205410573823477, 0.6180015141212285, 1.2292841755876542, 1.215434284911669, 2.5779990270862685, 2.5168324049902404, 2.146528797958055, 1.3830483558322253, 1.358649865128301, 1.0596434472882947, 0.9634227104144312, 0.7641738545914084, 0.7565822867968036, 0.7643949061628533, 0.7218714105094798, 0.7239588553705567, 0.7383245557115622, 0.7005209972724072, 0.6940932989790094, 0.7059372707349089, 0.6718651389760852, 0.6755214992353539, 0.6732557716242528, 0.6420671695614731, 0.6483776445669069, 0.6244556624488596, 0.6243127370710752, 0.6398943910423947, 0.6188879642402467, 1.1646826499136804, 0.596487380131156, 0.596487380131156, 0.596487380131156, 0.596487380131156, 0.596487380131156, 0.596487380131156, 0.596487380131156, 0.596487380131156, 0.596487380131156, 0.596487380131156, 0.596487380131156, 0.596487380131156, 0.596487380131156, 0.596487380131156, 0.596487380131156, 0.596487380131156, 0.596487380131156, 0.596487380131156, 0.5979847837374519, 0.5982024205611446, 0.5982595366927356, 0.5982951327652675, 0.5985498544706093, 1.1802419233060228, 1.1854043012471214, 1.1832690782803454, 0.6141164365622549, 0.6100781095047185, 0.6101801606023953, 1.791543969251446, 1.8273865073653262, 1.2572163322887024, 2.089549009982835, 1.5712114536324675, 1.3522877574773053, 1.3744505760362935, 1.0546810408579361, 1.000732959722279, 0.86996923079436, 0.7607742179144842, 0.6908788255920025, 0.6649142652788456, 0.6701577833168368, 0.66876412263676, 0.6459467694512933, 0.6412579004826382, 0.6589906321668146, 0.632570631610047, 0.6375395997121797, 0.6213950889904546, 0.6134815271468679, 0.6285866460852921, 0.6187927183265547, 0.6125529839696642, 0.6249475228906174, 0.5521921559687726, 0.552233433146439, 0.5522502684180888, 0.5522718019050828, 0.5522896439371636, 0.5523093316967009, 0.5523576561973835, 0.5523685627687182, 0.5523700729093646, 0.5524401546215814, 0.5524471460134626, 0.5525304274735511, 0.5525514016491946, 0.5525993905630668, 0.5526316068968553, 0.552629034064643, 0.5526423456747848, 0.5526643825419942, 0.5527210407817992, 0.5527594095404431, 0.5527875988325079, 0.5529720037847656, 0.553298753475724, 1.0884881240451685, 1.0869531499748741, 2.204215829482073, 0.5653825633408666, 0.5643835214066151, 0.5645367167855152, 0.5645941021300759, 1.1112693227998502, 1.8722163303257506, 1.321033899138024, 1.4388622315501742, 1.2629762623340948, 0.9690032232751264, 0.8340926273207431, 0.6401782634819354, 0.6156368000449803, 0.6047118832980604, 0.5806598732239221, 0.5803136035668316, 0.5848587913254821, 0.5921714516463747, 0.5676731670456778, 0.5650732082329086, 0.5646597093514888, 0.5645956682018572, 0.5645201611695406, 0.9985009881116436, 0.513223922778973, 0.5133167948986312, 0.5133420708352641, 0.5133641025424823, 0.5133650225478387, 0.5133902500631369, 0.5133985301113442, 0.5134173175891479, 0.5134248713173369, 0.5134992949085334, 0.5135104802368134, 0.5135324635226971, 0.5136365209706355, 0.5136405883627373, 0.5136831507158028, 0.5136842644064974, 0.5137745701954248, 0.5137995071827157, 0.5138197957218903, 0.5138728655045522, 0.5263648434972827, 0.5268926360438291, 0.5287701248694977, 0.5233079078047539, 0.5281037020421475, 0.5276664573912013, 0.5248779695773929, 0.5320959926540926, 0.5347228984745225, 1.0555343475341121, 1.0448924034703628, 1.2537207392902767, 0.8604089588625781, 0.8198468911271268, 0.7422194539090958, 0.772350210386071, 0.6937438390475328, 0.67294256636145, 0.6104948301527685, 0.6157643303060212, 0.596378025858028, 0.5910036935154842, 0.6009898674454832, 0.5872098819538414, 0.5626798275584103, 0.6016556607954843, 0.5259623653645402, 0.5022832221526231, 0.5023461250326899, 0.5024141029785801, 0.5024304456217359, 0.5024429703254649, 0.5024717911121129, 0.5024776111417267, 0.5024935347427504, 0.502499494453075, 0.5025059663260056, 0.5025232401738996, 0.5025421901903224, 0.5025567635444755, 0.5025932202099769, 0.5027050113388004, 0.5027362066975307, 0.5027342977278174, 0.502749197003629, 0.5028019497520492, 0.5028076301009523, 0.5028195495216016, 0.502874816522815, 0.5030774466738519, 0.5166408627281741, 0.5167730006805277, 0.5161103553888096, 0.5159637837630136, 0.515209228563633, 0.5182646044302103, 0.5214077463433647, 1.5846858578694227, 1.7860542264860406, 1.3574736710324813, 0.8428876046796658, 0.616559782982613, 0.598081421759723, 0.578897393586209, 0.5797535432225295, 0.5805723981090841, 0.5571241040778344, 0.5515710508624005, 0.5296205996525795, 0.5536933595812803, 0.5436482678291418, 0.521395594121531, 0.9556683280239228, 0.9556959559251869, 0.49069066033760517, 0.49070814012626907, 0.49085092898814237, 0.49085638303984824, 0.4909249163289064, 0.49093037038061227, 0.4909325162370211, 0.4909473137051739, 0.4909743157316522, 0.49102156927798907, 0.49102563746409755, 0.49105675238202606, 0.49107369570658777, 0.4910812956147025, 0.4910936789943953, 0.4911057494366952, 0.49113172324031085, 0.4911391443270582, 0.49114889009158175, 0.49119144957702426, 0.4912473759596803, 0.5003000288632162, 0.5003095958063725, 0.5003900207163631, 0.5007028239932971, 0.502353032277057, 0.9829921435527991, 0.5038459224628418, 1.2059321399032135, 0.8649687893155988, 0.8248866056864426, 0.8207354464634913, 0.6239221012925151, 0.5944831866299667, 0.5892463134748129, 0.5683416485716918, 0.5605732013181784, 0.5645598001777747, 0.535406686765682, 0.5320471250308931, 0.5168077445738873, 0.5080740195791191, 0.4752128407168996, 0.47541615686865774, 0.4754270959566002, 0.47542994598717525, 0.4754366519414695, 0.4754698045030116, 0.47555107228661475, 0.4755482222560397, 0.47556922027542353, 0.47557839905036375, 0.47561012659661833, 0.47561473694019557, 0.47564503947116266, 0.4756709412196241, 0.475682550902996, 0.4756782758571334, 0.4757152424301803, 0.4757571965567336, 0.47578008062576266, 0.4758138618705198, 0.47582639362260715, 0.47582748334018, 0.4759060687420655, 0.47596566791085543, 0.4760208662971398, 0.48924144562713884, 0.4875887631913263, 0.48946290976770573, 0.48566101089280744, 0.483644278963247, 1.5374778293125468, 0.992517196225667, 1.2825515635884648, 0.716705403501069, 0.5738829110113136, 0.5487002504112704, 0.5245430559594576, 0.5207917451272664, 0.4986633114105294, 0.48648031085870475, 0.48676338595434987, 0.7987549593146762, 0.4105304454729091, 0.41055173510966, 0.41062851473377693, 0.4107023601047429, 0.41079045290489746, 0.41078412795921654, 0.41084493220506707, 0.41093247075740424, 0.4109441099615697, 0.4110022081739589, 0.41105753514726096, 0.8103933158070425, 0.42266403869153296, 0.4216453638059559, 0.4217651791429537, 0.42000247546673, 0.42156170498834056, 0.4222822597537795, 0.42672282806120043, 0.4309665731878171, 0.440035632415572, 0.45972955709734953, 0.9414274763022288, 0.48812018428202436, 0.47077962843576, 1.004270636858972, 0.5203030728418205, 1.0424818507089897, 0.6845235060631822, 0.4019270125283658, 0.40199365734675024, 0.4019958746173239, 0.40203993495115126, 0.4021561516045032, 0.40218811197605736, 0.40221782340174395, 0.4134997078591777, 0.8081921466093264, 0.4106310348663133, 1.5687170303232976, 0.4283229535262203, 0.4277520063535114, 0.88578508687928, 0.44517617375400603, 0.4422745584554763, 0.8910148679554117, 0.43074785565142026, 0.45171588660974255, 0.45356819444695035, 0.4827524482170222, 0.5110646811457805, 1.055648791811894, 1.052278730591745, 0.5844958995749185, 0.6081636791836887, 0.022791112397781442, 0.022711710354775174, 0.02263406629058085, 0.022562484085758353, 0.32880694051129544, 0.2644696039375363, 0.22698051572100458, 0.1652375440948583, 0.3932161707075816, 0.3932161707075816, 0.3932161707075816, 0.3932161707075816, 0.3932161707075816, 0.3932161707075816, 0.3932161707075816, 0.4021674306819351, 0.40353179069676925, 0.4035377212272272, 0.4029633201606455, 0.40160691873331705, 0.4016234504710703, 0.4094056277417824, 0.4164350885663925, 0.4180506511019192, 0.4287384195593769, 0.45612579358296673, 0.43249613271570353, 0.43291944353222467, 0.4331715371688928, 0.45803133754819075, 0.4964355783774483, 0.4785999228550442, 0.4844426937534616, 0.4589957708588276, 0.5734968604197844, 0.4541455495164823, 0.663086526331136, 0.5953383588054989, 0.6952721604172556, 0.6321222742379812, 0.5333640082386543, 0.355515579710934, 0.3555740126479777, 0.3556367574967442, 0.35570018179826707, 0.36519621352062676, 0.365636368242732, 0.3655873169802852, 0.37521652144288403, 0.3793888578898707, 0.36871227700340115, 0.37315414713226114, 0.3906503169355422, 0.7493553262830478, 0.4058427760357143, 0.3807530160949775, 0.42384673224315295, 0.3970490110026103, 0.42657350681826567, 0.4304372933154871, 0.45162294385119456, 0.43686779099811074, 0.45175480995151773, 0.4362471370380087, 0.5364069403465633, 0.6266549391114857, 0.5694945125491709, 0.5950911703789225, 0.021238814447289877, 0.021186006595084562, 0.021130422133057738, 0.2618027377479446, 0.1810637979053445, 0.11162316435404712, 0.20203184062944057, 0.0004027340239584664, 0.0004013309505790741, 0.0003999589167252469, 0.0003986940234995243, 0.0004247751259443906, 0.0004237189572486222, 0.00042260726470222745, 0.00042242276402579124, 0.0004207798397670319, 0.0004197585742580528, 0.00041976235109542927, 0.00041815697815081516, 0.00041684172709340647, 0.0004154024047575849, 0.00041510768120644955, 0.00039629764189012346, 0.00039571058244366547, 0.00039508145684298004, 0.00039282117161490324, 0.00039197281579868775, 0.0003919300984656023, 0.0003906562189716392, 0.00036956297293143435, 0.00036956297293143435, 0.00036956297293143435, 0.00036956297293143435, 0.00036956297293143435, 0.00036956297293143435, 0.00036956297293143435, 0.0004274826408121487, 0.0004266556002505521, 0.000425721375648927, 0.005231725144406332, 0.005811802217029505, 0.00042453349517614504, 0.00042434565178157106, 0.0004241838555413175, 0.005171022772205722, 0.0022319391519160362, 0.004673296382681932, 0.0036171235193688043, 0.002318571987185693, 0.004009953850899643, 0.0029204656353245487, 0.004036414634030654, 0.0014904933596655446, 0.0015666175573484833, 0.0023216335697045136, 0.0014035296387121705, 0.001761959059412816, 0.0018186300267154104, 0.0018945517511854317, 0.0015164642826476357, 0.0018448697563300878, 0.002026251372860249, 0.001630684527296508, 0.0019097040754443915, 0.0015026245613187286, 0.0010986352815816381, 0.0011558206801820603, 0.0012279531514653975, 0.0011820156955151546, 0.0028937047889757675, 0.0015515640386282456, 0.0012437552654008036, 0.002014906795267541, 0.002631656871992276, 0.0015372839467436286, 0.0015614364310587645, 0.0015155967387610707, 0.001639848089834121, 0.0015568476170582915, 0.0003736316135554565, 0.0003723298902875609, 0.0003710570306881179, 0.00036988352329751843, 0.00039407993253566135, 0.0003931001377986094, 0.0003920687346613397, 0.00039189760571490775, 0.0003903733866373369, 0.00038942591759870534, 0.00038942941988483556, 0.0003879400626439173, 0.0003867198178487524, 0.0003853845209414016, 0.00038511110108626966, 0.0003670694162638024, 0.00036655369456708634, 0.00036599972951607476, 0.0003639989982439814, 0.000363244235454837, 0.0003632061933813535, 0.0003620691178177408, 0.0003428575486592916, 0.0003428575486592916, 0.0003428575486592916, 0.0003428575486592916, 0.0003428575486592916, 0.0003428575486592916, 0.0003428575486592916, 0.0003965918365581177, 0.00039582455410246175, 0.00039495783892563743, 0.004852054966938647, 0.005389997421209937, 0.00039385578622332703, 0.0003936815172962266, 0.00039353144232273836, 0.004796134970701424, 0.002067626225377825, 0.00433464927443639, 0.00335498239095631, 0.0021505036802648416, 0.003720108682516437, 0.0027085357308530445, 0.003742500448249617, 0.0013825663373587304, 0.0014531305593351287, 0.0021528016630402175, 0.0013021075532220136, 0.001634609848198294, 0.0016868158108909828, 0.0017573351069901243, 0.001406445970854819, 0.0017100093183548468, 0.0018777918505174678, 0.0015125488160863336, 0.0017695858623366727, 0.001394011647407652, 0.0010192175969062605, 0.0010712604416288382, 0.0010965706181125547, 0.001138902307750783, 0.002684452401175129, 0.001438835274011778, 0.0011536024090433926, 0.0018671102803819095, 0.0024405106845588336, 0.0014259077320626858, 0.001447271677457051, 0.0014050444123041308, 0.0015199010405654088, 0.001442262844704557, 0.0003726472018381798, 0.0003713489153996229, 0.0003700793824978288, 0.00036890896094901067, 0.00039304165175151637, 0.0003920643929287169, 0.0003910357311351683, 0.00039086505720885235, 0.00038934485450751387, 0.0003883998430171454, 0.0003884033769713844, 0.00038691795159244343, 0.0003857009059428129, 0.00038436912725612715, 0.0003840964104011598, 0.00036610227842895924, 0.00036558792745289943, 0.0003650353856759158, 0.000363039946446572, 0.0003622871740350916, 0.00036224922418559314, 0.00036111518630200845, 0.0003419542068937996, 0.0003419542068937996, 0.0003419542068937996, 0.0003419542068937996, 0.0003419542068937996, 0.0003419542068937996, 0.0003419542068937996, 0.0003955469040384085, 0.00039478164231137886, 0.0003939172290728024, 0.00483965523483065, 0.0053776663557891955, 0.000392818088987328, 0.00039264428269248204, 0.00039249457154017485, 0.004783746151158082, 0.0020624783412578345, 0.0043244130597654895, 0.0033461428835165666, 0.0021452094950673672, 0.0037103069085211407, 0.002702041813765755, 0.0037335905266591527, 0.0013791977665676522, 0.0014495285962210602, 0.0021471295566591357, 0.0012986768601831958, 0.0016303030456549128, 0.0016823715242410935, 0.0017530298871987443, 0.001403103521286014, 0.0017058996277587318, 0.0018730795977722407, 0.001508925692727533, 0.001765221547420484, 0.0013903388785747037, 0.001016532218477561, 0.001068709446473733, 0.0011362511830611426, 0.001093681411249433, 0.002677379632205961, 0.0014353992046363569, 0.001150976608155112, 0.0018626219846418707, 0.0024347055647615645, 0.00142248308379562, 0.0014434583872784232, 0.0014026857115143926, 0.001517739856502479, 0.001441060117424403, 0.00037150035509982566, 0.0003702060874831931, 0.00036894047819206494, 0.0003677736520676194, 0.0003918320361493672, 0.00039085781318459615, 0.00038983231743355265, 0.0003896621286066748, 0.0003881466395304577, 0.00038720455711789336, 0.0003872080393445957, 0.00038572717240743066, 0.0003845139165936205, 0.0003831862276057643, 0.0003829143337438214, 0.00036497558284829943, 0.00036446281495998054, 0.00036391198273150156, 0.0003619227106957941, 0.0003611722308030473, 0.0003611344066164529, 0.00036000384368042485, 0.0003409018289383482, 0.0003409018289383482, 0.0003409018289383482, 0.0003409018289383482, 0.0003409018289383482, 0.0003409018289383482, 0.0003409018289383482, 0.00039432959320683414, 0.0003935667053798606, 0.00039270491430942164, 0.0048243168990231245, 0.005359083494367707, 0.0003916091736404171, 0.0003914359028427797, 0.0003912866874273045, 0.004768734476963367, 0.0020557703979415943, 0.004309831432402509, 0.0033358450989448714, 0.002138210634172625, 0.0036988884462293118, 0.002692945037889151, 0.00372105077788443, 0.001374633406363223, 0.001444786585662232, 0.0021405217119863425, 0.0012946801204071748, 0.0016252856854217913, 0.001677193918029038, 0.0017472683269585045, 0.0013983999638370764, 0.001700215359039778, 0.0018670444375337592, 0.0015038927009400087, 0.0017594591623618775, 0.0013860600731206052, 0.0010134037788579783, 0.001065103638221404, 0.0010903155999558906, 0.001132367449920541, 0.0026691398957424117, 0.0014305792608190412, 0.0011469969647321953, 0.001856416361433448, 0.0024264692004903722, 0.0014177390501740725, 0.0014390161757860977, 0.0013969038071228964, 0.0015111488608758102, 0.0014338563963762966], \"Total\": [19.0, 19.0, 17.0, 17.0, 16.0, 16.0, 13.0, 14.0, 11.0, 7.0, 10.0, 10.0, 13.0, 8.0, 7.0, 8.0, 9.0, 9.0, 7.0, 7.0, 7.0, 6.0, 7.0, 6.0, 5.0, 5.0, 5.0, 6.0, 6.0, 6.0, 10.170545534892272, 3.1189176549839766, 3.1215558847230325, 2.1009510396238382, 2.229531638948593, 2.235766822563488, 2.277507897446266, 2.2806312380811025, 2.2837397114127924, 2.2868361565763937, 1.2787030572021676, 1.280085992389764, 1.280177679898389, 1.2807243542178892, 7.436941270607183, 1.2828260966131475, 1.283153897207378, 1.2841662968828214, 1.2856230786808116, 1.2856554039207098, 1.285741339839115, 1.2857504019046104, 1.2859565617201028, 1.2860842875400436, 1.2862206619975676, 1.2863802171926189, 1.286570015704809, 1.2866072205569956, 1.2869612192438493, 1.2870864484583182, 4.2608607536545815, 2.7771109988292504, 6.163059769750921, 4.598428938848207, 3.065806540579774, 3.153824293762697, 13.76758685139821, 14.527139253898058, 19.805841180346683, 5.830282833493861, 16.915804759026972, 6.6217285105375625, 8.949444540174582, 17.78501657608411, 7.801948127054446, 8.423808745046001, 16.026068138398863, 5.154407519891456, 17.106671613019234, 6.272587468834328, 19.47957233738398, 13.200736293379771, 6.685685938163997, 7.085097084662309, 7.008231548078263, 3.1591319600865573, 2.2934291707879524, 2.300560371391482, 2.303584238133304, 2.3054013802438678, 2.306024621362324, 2.3065834110134924, 2.3075863028994754, 2.309170492063837, 2.3194600957644953, 5.767810275888827, 4.798296135554974, 3.772071928714881, 9.309736449444298, 4.023816821730048, 1.4201448453460976, 1.4212474438460347, 1.4213404146889514, 1.4215459749163417, 1.4216875161518905, 1.4216645158480432, 1.4217816326820663, 1.4224953767574597, 1.422499055244117, 1.4232693880610001, 1.4233242814759104, 1.4237966016087726, 1.4238611252827336, 1.424161136522076, 1.4241780555812056, 2.86360000625632, 10.844907370862378, 2.993907369767224, 3.092510221842902, 3.207866244197556, 3.2094978038020696, 3.226045779477274, 9.70914488916978, 3.5260042148621267, 3.8746702918783256, 7.008231548078263, 19.47957233738398, 4.158063623222247, 4.8051118017090335, 11.060299454180004, 17.78501657608411, 16.915804759026972, 13.76758685139821, 5.520043409673791, 4.8682376317463305, 4.8748313197703075, 5.154407519891456, 5.560409417585872, 1.8475025496308484, 1.1647296071625792, 1.1652488944403232, 1.1653712857909027, 1.1676647016978459, 1.1683904082809187, 1.168500172272529, 1.1693918214555452, 1.1696465557518136, 1.1694852323457123, 1.1698998340682916, 1.1701138534930966, 1.1705409517523502, 1.1708000834159187, 1.1706439380847384, 1.1709308190515197, 1.1707603078224178, 1.1710214578572307, 1.171138473346082, 1.1715319670149518, 1.1713145643000344, 1.1719483328202396, 1.1717547626162281, 1.172096454975493, 1.1718469524229738, 1.1721648531344855, 1.172387951893282, 1.172766076806103, 1.17270767430839, 1.1735531514130615, 2.9967237306683785, 5.560409417585872, 9.70914488916978, 3.8544851235592095, 4.8748313197703075, 5.520043409673791, 5.814952599987697, 6.007874163674746, 13.200736293379771, 17.106671613019234, 19.47957233738398, 13.76758685139821, 19.805841180346683, 17.78501657608411, 16.026068138398863, 16.915804759026972, 11.060299454180004, 7.225431092046899, 1.1750787296960943, 1.1748277328811583, 6.685685938163997, 7.317673116911718, 5.086270930629634, 4.458093438835011, 5.328831658055845, 5.887173386651686, 6.3160888266249, 4.173729512066557, 3.7249804938785003, 7.008231548078263, 9.309736449444298, 1.7130341016970816, 1.0866918258311036, 1.0866918258311036, 1.0866918258311036, 1.0866918258311036, 1.0866918258311036, 1.0866918258311036, 1.0866918258311036, 1.0866918258311036, 1.0866918258311036, 1.0866918258311036, 1.0866918258311036, 1.0866918258311036, 1.1286356929132915, 1.128913937229186, 1.1291305787464343, 1.1298661137887855, 1.130856107740607, 1.1311810323537106, 1.1312634444799332, 1.1313043618565781, 1.1314130099257802, 1.1319090295688903, 1.1322858496382542, 1.1323779907919063, 1.133116810922884, 1.1331226346138792, 1.1333504112402673, 1.133523641190899, 1.134659624723374, 5.619955188626593, 5.629484219728487, 5.635099853846451, 10.844907370862378, 6.652026168645305, 7.317673116911718, 4.818149379663802, 8.949444540174582, 5.887173386651686, 7.225431092046899, 16.026068138398863, 19.805841180346683, 14.527139253898058, 7.801948127054446, 6.272587468834328, 4.458093438835011, 7.085097084662309, 4.399472417027952, 6.6217285105375625, 9.70914488916978, 5.520043409673791, 3.138333791764969, 2.2797678347171457, 2.2738100485876793, 2.2843287801238032, 2.0373657079142817, 2.275442969464857, 1.8504684020677624, 4.023816821730048, 2.2298446938936283, 1.829356553708101, 1.1633314779767288, 1.1661609411726024, 1.16770521919191, 1.1689279224607578, 1.1690509937620273, 1.1691809089598397, 1.169270058741759, 1.169354560881967, 1.1696818111037275, 1.1697922264827718, 1.1704131263367732, 1.170799182456159, 1.171096037011246, 1.1711385196102824, 1.1718008921569336, 1.171821324601683, 1.1718707398115695, 1.171888985787749, 1.1730856495625352, 1.173242614148736, 1.1737996888487616, 1.1741113642495022, 1.1744193343840124, 1.1758528840657572, 1.175899445514782, 1.176175060315731, 1.1763770621241265, 1.1768804916183295, 1.1771374352736481, 4.3553620539417786, 5.008179282714046, 4.8682376317463305, 16.026068138398863, 5.887173386651686, 7.317673116911718, 16.915804759026972, 19.47957233738398, 17.106671613019234, 17.78501657608411, 13.200736293379771, 11.060299454180004, 7.845527122940106, 1.1781455434555839, 1.1796693995114582, 1.1797628497808774, 1.1775406188592954, 1.177140727913117, 14.527139253898058, 7.801948127054446, 6.652026168645305, 5.086270930629634, 5.814952599987697, 5.036899045274233, 4.458093438835011, 4.173729512066557, 3.9534049335471275, 4.399472417027952, 4.818149379663802, 5.022780473170718, 4.8748313197703075, 5.560409417585872, 3.138333791764969, 2.3245222841454956, 6.163059769750921, 1.0878002891025556, 1.0879584627777068, 1.0882416623384636, 1.0893373009376919, 1.0902658084915466, 1.090251774401135, 1.0903386218526698, 1.0904561058462798, 1.091185602193966, 1.0914378377403928, 1.0914573332133601, 1.0922052011479988, 1.092202786355256, 1.0925547581606558, 1.092766611301218, 1.0933389878513529, 1.0938492123649397, 1.0939143910730247, 1.0939314512348777, 1.094450348456061, 3.107292230503273, 1.6437447912857819, 1.6438853385245307, 3.5464299523028484, 1.8268029993825567, 1.8275208576354873, 1.82786204312453, 1.82893915987242, 1.8379376283768014, 1.8357983761678773, 3.905856548946141, 4.165196154104396, 13.200736293379771, 14.527139253898058, 17.106671613019234, 11.060299454180004, 13.76758685139821, 19.47957233738398, 17.78501657608411, 7.845527122940106, 7.225431092046899, 8.423808745046001, 6.272587468834328, 6.652026168645305, 8.949444540174582, 5.086270930629634, 4.765763475487734, 5.814952599987697, 4.173729512066557, 4.818149379663802, 4.8051118017090335, 2.801086637427144, 3.8544851235592095, 2.214759538836872, 2.2128495685498506, 4.798296135554974, 1.9776190517558676, 1.6419611743924194, 1.0331080100479961, 1.0331080100479961, 1.0331080100479961, 1.0331080100479961, 1.0331080100479961, 1.0331080100479961, 1.0331080100479961, 1.0331080100479961, 1.0331080100479961, 1.0331080100479961, 1.0331080100479961, 1.0331080100479961, 1.0331080100479961, 1.0331080100479961, 1.0331080100479961, 1.0331080100479961, 1.0331080100479961, 1.0331080100479961, 1.0559726133720468, 1.0593556672532374, 1.0602470305660432, 1.0608029989137533, 1.0648147199348363, 2.3233507550851087, 2.755345431524553, 2.959271801626547, 1.6852645151189978, 1.7010075697765226, 1.7025411892015179, 5.022780473170718, 7.085097084662309, 5.328831658055845, 17.78501657608411, 17.106671613019234, 13.76758685139821, 14.527139253898058, 19.47957233738398, 19.805841180346683, 13.200736293379771, 8.423808745046001, 4.765763475487734, 3.9534049335471275, 4.8051118017090335, 5.830282833493861, 3.3678380871899916, 3.142420923761134, 5.154407519891456, 2.9937239888178135, 3.5464299523028484, 2.1959222541009664, 1.7366556020154267, 3.092510221842902, 2.170806193150009, 1.7386856413765466, 3.065806540579774, 1.0566839185936345, 1.0573367420503543, 1.057686804990779, 1.0580423609257308, 1.0582257779818458, 1.0587075328760496, 1.0595885751177387, 1.0596297003894501, 1.059717877112341, 1.0608673985511046, 1.0609028951650343, 1.0623592521246759, 1.0628052932802219, 1.0636114863489141, 1.0640868677216782, 1.0642468569789998, 1.0643554890566067, 1.0647784666131592, 1.0656790211115748, 1.0663020351129258, 1.0669558903315826, 1.0700709288473924, 1.0756156634359648, 2.300313843787892, 2.959271801626547, 6.3160888266249, 1.6521439619239717, 1.7181899226496653, 1.8268029993825567, 1.8275208576354873, 4.165196154104396, 16.026068138398863, 13.200736293379771, 19.805841180346683, 14.527139253898058, 19.47957233738398, 16.915804759026972, 7.085097084662309, 4.8051118017090335, 3.905856548946141, 2.3318995524115924, 2.5367472313154997, 3.107292230503273, 4.3553620539417786, 1.9246080639833563, 1.8357983761678773, 1.82893915987242, 1.82786204312453, 2.060903847286038, 1.5194119228229315, 1.002673800827751, 1.0047084897478176, 1.0052729723554579, 1.0057707609905375, 1.0057922555095757, 1.0063675655572142, 1.00655927302165, 1.0069934672353222, 1.0071696371451881, 1.0089428455321292, 1.0092155320631153, 1.0097601977714197, 1.0124564755299568, 1.0125666965920124, 1.0137549066130673, 1.013786303954306, 1.0165495093621097, 1.0173947993065535, 1.0181199304282031, 1.0202570466824636, 1.5695131295244598, 1.580822957337123, 1.727281938517512, 1.7181899226496653, 1.8379376283768014, 1.9067124879199666, 2.011168719412789, 2.1420675547377974, 2.169369190320272, 5.830282833493861, 6.163059769750921, 16.026068138398863, 17.106671613019234, 17.78501657608411, 13.200736293379771, 16.915804759026972, 11.060299454180004, 13.76758685139821, 6.007874163674746, 6.652026168645305, 5.086270930629634, 4.765763475487734, 5.814952599987697, 6.3160888266249, 3.4600996122142846, 9.70914488916978, 2.300313843787892, 0.9861151121658941, 0.98733313317934, 0.9884637826148001, 0.988822106571096, 0.9889664223031103, 0.9895379390398711, 0.9896820709318697, 0.9898241075234767, 0.9901196702517951, 0.990214779906025, 0.9904998683173108, 0.9908590064957019, 0.9911948291960496, 0.991833643382345, 0.9940929832299973, 0.9943954784297999, 0.9943924087651157, 0.9947243301029232, 0.9957254872685655, 0.9958447366625551, 0.9960840249511099, 0.9971575783131518, 1.0008826201255443, 1.6303282368044925, 1.6329121645382678, 1.6816749405096225, 1.8504684020677624, 1.8656602162602764, 1.8886955380547361, 2.117723269909193, 7.845527122940106, 19.805841180346683, 19.47957233738398, 17.106671613019234, 7.801948127054446, 6.007874163674746, 4.765763475487734, 5.328831658055845, 7.008231548078263, 3.9534049335471275, 3.905856548946141, 2.3318995524115924, 5.022780473170718, 4.598428938848207, 2.1315918069303237, 1.4481081242397582, 1.4486741026315482, 0.9593329488054224, 0.9596672125498144, 0.9624109712932408, 0.9625163293745318, 0.9638422968315384, 0.9639487143979176, 0.9639905989577168, 0.9642760429267713, 0.9648024212348015, 0.9657236138048003, 0.9658031569521304, 0.96641179244728, 0.9667439450842159, 0.966891583585656, 0.9671356717977622, 0.967373953700571, 0.9678858848369778, 0.9680327565823947, 0.9682239680015757, 0.9690670884296808, 0.9701798023071648, 1.508161200100197, 1.7010075697765226, 1.7025411892015179, 1.708559080073436, 1.7386856413765466, 3.5260042148621267, 1.8481558893165841, 16.915804759026972, 19.47957233738398, 17.106671613019234, 19.805841180346683, 8.423808745046001, 6.685685938163997, 6.272587468834328, 5.036899045274233, 4.458093438835011, 6.6217285105375625, 4.158063623222247, 4.598428938848207, 2.6274523213119267, 2.0803623476669615, 0.9725050793569028, 0.9765589644809675, 0.9766622630791179, 0.9768234070404719, 0.9770199783265425, 0.9776156124988009, 0.9791536694393951, 0.9791882544554622, 0.979559906952335, 0.9799932832119415, 0.9803738766555125, 0.9805863241626379, 0.9811995123313201, 0.9817711332207029, 0.9818384608014319, 0.982115720287455, 0.9826381891638916, 0.9835663044994226, 0.9837830046677821, 0.9845037409446715, 0.9847106082290374, 0.9849408871575539, 0.9864472394728494, 0.9876308891945562, 0.9886811560512054, 1.6263169243731532, 1.6816749405096225, 1.727281938517512, 1.7366556020154267, 1.7520605860779919, 11.060299454180004, 6.6217285105375625, 19.47957233738398, 16.915804759026972, 6.685685938163997, 5.036899045274233, 3.7249804938785003, 3.4600996122142846, 2.993907369767224, 1.9899329647176562, 2.3233507550851087, 1.3345383193615303, 0.9121026988480508, 0.9124802137355466, 0.9143016453432046, 0.9159709032312343, 0.9180071663086403, 0.9179973507007116, 0.9192952705099321, 0.9213767212595937, 0.9216123981460929, 0.9230201078844987, 0.924358513111921, 2.391087933851957, 1.6263169243731532, 1.6303282368044925, 1.6329121645382678, 1.6852645151189978, 1.8018656953444137, 1.8181483666402523, 2.056679616384002, 2.6274523213119267, 3.1512075614842794, 5.008179282714046, 11.060299454180004, 6.007874163674746, 6.6217285105375625, 16.026068138398863, 8.423808745046001, 17.78501657608411, 19.805841180346683, 0.8737985615569055, 0.8753471545410522, 0.8753989564274995, 0.8764267179398318, 0.8791504911217745, 0.8799044712721397, 0.8806063184865544, 1.6521439619239717, 3.5464299523028484, 1.8712593247308114, 7.436941270607183, 3.055275386970638, 3.107292230503273, 7.225431092046899, 3.7249804938785003, 3.905856548946141, 8.423808745046001, 4.2608607536545815, 5.008179282714046, 5.520043409673791, 6.272587468834328, 7.845527122940106, 17.106671613019234, 19.805841180346683, 13.200736293379771, 16.915804759026972, 0.8454358651284868, 0.843650701002422, 0.8419060544507216, 0.8402983056406333, 19.47957233738398, 17.78501657608411, 16.026068138398863, 11.060299454180004, 0.8404441394219586, 0.8404441394219586, 0.8404441394219586, 0.8404441394219586, 0.8404441394219586, 0.8404441394219586, 0.8404441394219586, 1.508161200100197, 1.6437447912857819, 1.6438853385245307, 1.68145351632307, 1.83433466385913, 1.8347109457666853, 1.9980120183688546, 2.5367472313154997, 3.772071928714881, 3.8746702918783256, 5.328831658055845, 5.619955188626593, 5.629484219728487, 5.635099853846451, 6.3160888266249, 7.225431092046899, 7.317673116911718, 8.949444540174582, 9.309736449444298, 13.200736293379771, 10.844907370862378, 17.106671613019234, 16.026068138398863, 19.47957233738398, 17.78501657608411, 14.527139253898058, 0.8402983056406333, 0.8419060544507216, 0.843650701002422, 0.8454358651284868, 1.5695131295244598, 1.580822957337123, 1.8973250362975496, 2.3318995524115924, 2.801086637427144, 2.7771109988292504, 2.86360000625632, 3.4600996122142846, 7.085097084662309, 4.458093438835011, 4.2608607536545815, 6.007874163674746, 5.830282833493861, 6.272587468834328, 6.685685938163997, 7.845527122940106, 7.801948127054446, 8.423808745046001, 8.949444540174582, 16.026068138398863, 19.47957233738398, 17.78501657608411, 19.805841180346683, 0.924358513111921, 0.9230201078844987, 0.9216123981460929, 17.106671613019234, 13.200736293379771, 7.225431092046899, 16.915804759026972, 0.8454358651284868, 0.843650701002422, 0.8419060544507216, 0.8402983056406333, 0.924358513111921, 0.9230201078844987, 0.9216123981460929, 0.9213767212595937, 0.9192952705099321, 0.9179973507007116, 0.9180071663086403, 0.9159709032312343, 0.9143016453432046, 0.9124802137355466, 0.9121026988480508, 0.8806063184865544, 0.8799044712721397, 0.8791504911217745, 0.8764267179398318, 0.8753989564274995, 0.8753471545410522, 0.8737985615569055, 0.8404441394219586, 0.8404441394219586, 0.8404441394219586, 0.8404441394219586, 0.8404441394219586, 0.8404441394219586, 0.8404441394219586, 0.9886811560512054, 0.9876308891945562, 0.9864472394728494, 17.106671613019234, 19.47957233738398, 0.9849408871575539, 0.9847106082290374, 0.9845037409446715, 19.805841180346683, 7.225431092046899, 17.78501657608411, 13.200736293379771, 7.845527122940106, 16.026068138398863, 11.060299454180004, 16.915804759026972, 4.765763475487734, 5.086270930629634, 8.423808745046001, 4.458093438835011, 6.007874163674746, 6.272587468834328, 6.685685938163997, 5.036899045274233, 6.652026168645305, 7.801948127054446, 5.814952599987697, 7.317673116911718, 5.328831658055845, 3.4600996122142846, 3.7249804938785003, 4.173729512066557, 3.9534049335471275, 14.527139253898058, 5.887173386651686, 4.399472417027952, 8.949444540174582, 13.76758685139821, 6.3160888266249, 7.085097084662309, 7.008231548078263, 9.70914488916978, 9.309736449444298, 0.8454358651284868, 0.843650701002422, 0.8419060544507216, 0.8402983056406333, 0.924358513111921, 0.9230201078844987, 0.9216123981460929, 0.9213767212595937, 0.9192952705099321, 0.9179973507007116, 0.9180071663086403, 0.9159709032312343, 0.9143016453432046, 0.9124802137355466, 0.9121026988480508, 0.8806063184865544, 0.8799044712721397, 0.8791504911217745, 0.8764267179398318, 0.8753989564274995, 0.8753471545410522, 0.8737985615569055, 0.8404441394219586, 0.8404441394219586, 0.8404441394219586, 0.8404441394219586, 0.8404441394219586, 0.8404441394219586, 0.8404441394219586, 0.9886811560512054, 0.9876308891945562, 0.9864472394728494, 17.106671613019234, 19.47957233738398, 0.9849408871575539, 0.9847106082290374, 0.9845037409446715, 19.805841180346683, 7.225431092046899, 17.78501657608411, 13.200736293379771, 7.845527122940106, 16.026068138398863, 11.060299454180004, 16.915804759026972, 4.765763475487734, 5.086270930629634, 8.423808745046001, 4.458093438835011, 6.007874163674746, 6.272587468834328, 6.685685938163997, 5.036899045274233, 6.652026168645305, 7.801948127054446, 5.814952599987697, 7.317673116911718, 5.328831658055845, 3.4600996122142846, 3.7249804938785003, 3.9534049335471275, 4.173729512066557, 14.527139253898058, 5.887173386651686, 4.399472417027952, 8.949444540174582, 13.76758685139821, 6.3160888266249, 7.085097084662309, 7.008231548078263, 9.70914488916978, 9.309736449444298, 0.8454358651284868, 0.843650701002422, 0.8419060544507216, 0.8402983056406333, 0.924358513111921, 0.9230201078844987, 0.9216123981460929, 0.9213767212595937, 0.9192952705099321, 0.9179973507007116, 0.9180071663086403, 0.9159709032312343, 0.9143016453432046, 0.9124802137355466, 0.9121026988480508, 0.8806063184865544, 0.8799044712721397, 0.8791504911217745, 0.8764267179398318, 0.8753989564274995, 0.8753471545410522, 0.8737985615569055, 0.8404441394219586, 0.8404441394219586, 0.8404441394219586, 0.8404441394219586, 0.8404441394219586, 0.8404441394219586, 0.8404441394219586, 0.9886811560512054, 0.9876308891945562, 0.9864472394728494, 17.106671613019234, 19.47957233738398, 0.9849408871575539, 0.9847106082290374, 0.9845037409446715, 19.805841180346683, 7.225431092046899, 17.78501657608411, 13.200736293379771, 7.845527122940106, 16.026068138398863, 11.060299454180004, 16.915804759026972, 4.765763475487734, 5.086270930629634, 8.423808745046001, 4.458093438835011, 6.007874163674746, 6.272587468834328, 6.685685938163997, 5.036899045274233, 6.652026168645305, 7.801948127054446, 5.814952599987697, 7.317673116911718, 5.328831658055845, 3.4600996122142846, 3.7249804938785003, 4.173729512066557, 3.9534049335471275, 14.527139253898058, 5.887173386651686, 4.399472417027952, 8.949444540174582, 13.76758685139821, 6.3160888266249, 7.085097084662309, 7.008231548078263, 9.70914488916978, 9.309736449444298, 0.8454358651284868, 0.843650701002422, 0.8419060544507216, 0.8402983056406333, 0.924358513111921, 0.9230201078844987, 0.9216123981460929, 0.9213767212595937, 0.9192952705099321, 0.9179973507007116, 0.9180071663086403, 0.9159709032312343, 0.9143016453432046, 0.9124802137355466, 0.9121026988480508, 0.8806063184865544, 0.8799044712721397, 0.8791504911217745, 0.8764267179398318, 0.8753989564274995, 0.8753471545410522, 0.8737985615569055, 0.8404441394219586, 0.8404441394219586, 0.8404441394219586, 0.8404441394219586, 0.8404441394219586, 0.8404441394219586, 0.8404441394219586, 0.9886811560512054, 0.9876308891945562, 0.9864472394728494, 17.106671613019234, 19.47957233738398, 0.9849408871575539, 0.9847106082290374, 0.9845037409446715, 19.805841180346683, 7.225431092046899, 17.78501657608411, 13.200736293379771, 7.845527122940106, 16.026068138398863, 11.060299454180004, 16.915804759026972, 4.765763475487734, 5.086270930629634, 8.423808745046001, 4.458093438835011, 6.007874163674746, 6.272587468834328, 6.685685938163997, 5.036899045274233, 6.652026168645305, 7.801948127054446, 5.814952599987697, 7.317673116911718, 5.328831658055845, 3.4600996122142846, 3.7249804938785003, 3.9534049335471275, 4.173729512066557, 14.527139253898058, 5.887173386651686, 4.399472417027952, 8.949444540174582, 13.76758685139821, 6.3160888266249, 7.085097084662309, 7.008231548078263, 9.70914488916978, 9.309736449444298], \"Category\": [\"Default\", \"Default\", \"Default\", \"Default\", \"Default\", \"Default\", \"Default\", \"Default\", \"Default\", \"Default\", \"Default\", \"Default\", \"Default\", \"Default\", \"Default\", \"Default\", \"Default\", \"Default\", \"Default\", \"Default\", \"Default\", \"Default\", \"Default\", \"Default\", \"Default\", \"Default\", \"Default\", \"Default\", \"Default\", \"Default\", \"Topic1\", \"Topic1\", \"Topic1\", \"Topic1\", \"Topic1\", \"Topic1\", \"Topic1\", \"Topic1\", \"Topic1\", \"Topic1\", \"Topic1\", \"Topic1\", \"Topic1\", \"Topic1\", \"Topic1\", \"Topic1\", \"Topic1\", \"Topic1\", \"Topic1\", \"Topic1\", \"Topic1\", \"Topic1\", \"Topic1\", \"Topic1\", \"Topic1\", \"Topic1\", \"Topic1\", \"Topic1\", \"Topic1\", \"Topic1\", \"Topic1\", \"Topic1\", \"Topic1\", \"Topic1\", \"Topic1\", \"Topic1\", \"Topic1\", \"Topic1\", \"Topic1\", \"Topic1\", \"Topic1\", \"Topic1\", \"Topic1\", \"Topic1\", \"Topic1\", \"Topic1\", \"Topic1\", \"Topic1\", \"Topic1\", \"Topic1\", \"Topic1\", \"Topic1\", \"Topic1\", \"Topic1\", \"Topic1\", \"Topic2\", \"Topic2\", \"Topic2\", \"Topic2\", \"Topic2\", \"Topic2\", \"Topic2\", \"Topic2\", \"Topic2\", \"Topic2\", \"Topic2\", \"Topic2\", \"Topic2\", \"Topic2\", \"Topic2\", \"Topic2\", \"Topic2\", \"Topic2\", \"Topic2\", \"Topic2\", \"Topic2\", \"Topic2\", \"Topic2\", \"Topic2\", \"Topic2\", \"Topic2\", \"Topic2\", \"Topic2\", \"Topic2\", \"Topic2\", \"Topic2\", \"Topic2\", \"Topic2\", \"Topic2\", \"Topic2\", \"Topic2\", \"Topic2\", \"Topic2\", \"Topic2\", \"Topic2\", \"Topic2\", \"Topic2\", \"Topic2\", \"Topic2\", \"Topic2\", \"Topic2\", \"Topic2\", \"Topic2\", \"Topic2\", \"Topic2\", \"Topic2\", \"Topic2\", \"Topic2\", \"Topic3\", \"Topic3\", \"Topic3\", \"Topic3\", \"Topic3\", \"Topic3\", \"Topic3\", \"Topic3\", \"Topic3\", \"Topic3\", \"Topic3\", \"Topic3\", \"Topic3\", \"Topic3\", \"Topic3\", \"Topic3\", \"Topic3\", \"Topic3\", \"Topic3\", \"Topic3\", \"Topic3\", \"Topic3\", \"Topic3\", \"Topic3\", \"Topic3\", \"Topic3\", \"Topic3\", \"Topic3\", \"Topic3\", \"Topic3\", \"Topic3\", \"Topic3\", \"Topic3\", \"Topic3\", \"Topic3\", \"Topic3\", \"Topic3\", \"Topic3\", \"Topic3\", \"Topic3\", \"Topic3\", \"Topic3\", \"Topic3\", \"Topic3\", \"Topic3\", \"Topic3\", \"Topic3\", \"Topic3\", \"Topic3\", \"Topic3\", \"Topic3\", \"Topic3\", \"Topic3\", \"Topic3\", \"Topic3\", \"Topic3\", \"Topic3\", \"Topic3\", \"Topic3\", \"Topic3\", \"Topic3\", \"Topic4\", \"Topic4\", \"Topic4\", \"Topic4\", \"Topic4\", \"Topic4\", \"Topic4\", \"Topic4\", \"Topic4\", \"Topic4\", \"Topic4\", \"Topic4\", \"Topic4\", \"Topic4\", \"Topic4\", \"Topic4\", \"Topic4\", \"Topic4\", \"Topic4\", \"Topic4\", \"Topic4\", \"Topic4\", \"Topic4\", \"Topic4\", \"Topic4\", \"Topic4\", \"Topic4\", \"Topic4\", \"Topic4\", \"Topic4\", \"Topic4\", \"Topic4\", \"Topic4\", \"Topic4\", \"Topic4\", \"Topic4\", \"Topic4\", \"Topic4\", \"Topic4\", \"Topic4\", \"Topic4\", \"Topic4\", \"Topic4\", \"Topic4\", \"Topic4\", \"Topic4\", \"Topic4\", \"Topic4\", \"Topic4\", \"Topic4\", \"Topic4\", \"Topic4\", \"Topic4\", \"Topic4\", \"Topic4\", \"Topic4\", \"Topic4\", \"Topic4\", \"Topic4\", \"Topic4\", \"Topic5\", \"Topic5\", \"Topic5\", \"Topic5\", \"Topic5\", \"Topic5\", \"Topic5\", \"Topic5\", \"Topic5\", \"Topic5\", \"Topic5\", \"Topic5\", \"Topic5\", \"Topic5\", \"Topic5\", \"Topic5\", \"Topic5\", \"Topic5\", \"Topic5\", \"Topic5\", \"Topic5\", \"Topic5\", \"Topic5\", \"Topic5\", \"Topic5\", \"Topic5\", \"Topic5\", \"Topic5\", \"Topic5\", \"Topic5\", \"Topic5\", \"Topic5\", \"Topic5\", \"Topic5\", \"Topic5\", \"Topic5\", \"Topic5\", \"Topic5\", \"Topic5\", \"Topic5\", \"Topic5\", \"Topic5\", \"Topic5\", \"Topic5\", \"Topic5\", \"Topic5\", \"Topic5\", \"Topic5\", \"Topic5\", \"Topic5\", \"Topic5\", \"Topic5\", \"Topic5\", \"Topic5\", \"Topic5\", \"Topic5\", \"Topic5\", \"Topic5\", \"Topic5\", \"Topic5\", \"Topic5\", \"Topic5\", \"Topic5\", \"Topic5\", \"Topic5\", \"Topic6\", \"Topic6\", \"Topic6\", \"Topic6\", \"Topic6\", \"Topic6\", \"Topic6\", \"Topic6\", \"Topic6\", \"Topic6\", \"Topic6\", \"Topic6\", \"Topic6\", \"Topic6\", \"Topic6\", \"Topic6\", \"Topic6\", \"Topic6\", \"Topic6\", \"Topic6\", \"Topic6\", \"Topic6\", \"Topic6\", \"Topic6\", \"Topic6\", \"Topic6\", \"Topic6\", \"Topic6\", \"Topic6\", \"Topic6\", \"Topic6\", \"Topic6\", \"Topic6\", \"Topic6\", \"Topic6\", \"Topic6\", \"Topic6\", \"Topic6\", \"Topic6\", \"Topic6\", \"Topic6\", \"Topic6\", \"Topic6\", \"Topic6\", \"Topic6\", \"Topic6\", \"Topic6\", \"Topic6\", \"Topic6\", \"Topic6\", \"Topic6\", \"Topic6\", \"Topic6\", \"Topic6\", \"Topic6\", \"Topic6\", \"Topic6\", \"Topic7\", \"Topic7\", \"Topic7\", \"Topic7\", \"Topic7\", \"Topic7\", \"Topic7\", \"Topic7\", \"Topic7\", \"Topic7\", \"Topic7\", \"Topic7\", \"Topic7\", \"Topic7\", \"Topic7\", \"Topic7\", \"Topic7\", \"Topic7\", \"Topic7\", \"Topic7\", \"Topic7\", \"Topic7\", \"Topic7\", \"Topic7\", \"Topic7\", \"Topic7\", \"Topic7\", \"Topic7\", \"Topic7\", \"Topic7\", \"Topic7\", \"Topic7\", \"Topic7\", \"Topic7\", \"Topic7\", \"Topic7\", \"Topic7\", \"Topic7\", \"Topic7\", \"Topic7\", \"Topic7\", \"Topic7\", \"Topic7\", \"Topic7\", \"Topic7\", \"Topic7\", \"Topic7\", \"Topic7\", \"Topic7\", \"Topic7\", \"Topic7\", \"Topic7\", \"Topic7\", \"Topic7\", \"Topic7\", \"Topic7\", \"Topic8\", \"Topic8\", \"Topic8\", \"Topic8\", \"Topic8\", \"Topic8\", \"Topic8\", \"Topic8\", \"Topic8\", \"Topic8\", \"Topic8\", \"Topic8\", \"Topic8\", \"Topic8\", \"Topic8\", \"Topic8\", \"Topic8\", \"Topic8\", \"Topic8\", \"Topic8\", \"Topic8\", \"Topic8\", \"Topic8\", \"Topic8\", \"Topic8\", \"Topic8\", \"Topic8\", \"Topic8\", \"Topic8\", \"Topic8\", \"Topic8\", \"Topic8\", \"Topic8\", \"Topic8\", \"Topic8\", \"Topic8\", \"Topic8\", \"Topic8\", \"Topic8\", \"Topic8\", \"Topic8\", \"Topic8\", \"Topic8\", \"Topic8\", \"Topic8\", \"Topic8\", \"Topic8\", \"Topic8\", \"Topic8\", \"Topic9\", \"Topic9\", \"Topic9\", \"Topic9\", \"Topic9\", \"Topic9\", \"Topic9\", \"Topic9\", \"Topic9\", \"Topic9\", \"Topic9\", \"Topic9\", \"Topic9\", \"Topic9\", \"Topic9\", \"Topic9\", \"Topic9\", \"Topic9\", \"Topic9\", \"Topic9\", \"Topic9\", \"Topic9\", \"Topic9\", \"Topic9\", \"Topic9\", \"Topic9\", \"Topic9\", \"Topic9\", \"Topic9\", \"Topic9\", \"Topic9\", \"Topic9\", \"Topic9\", \"Topic9\", \"Topic9\", \"Topic9\", \"Topic9\", \"Topic9\", \"Topic9\", \"Topic9\", \"Topic9\", \"Topic9\", \"Topic9\", \"Topic9\", \"Topic9\", \"Topic9\", \"Topic9\", \"Topic9\", \"Topic10\", \"Topic10\", \"Topic10\", \"Topic10\", \"Topic10\", \"Topic10\", \"Topic10\", \"Topic10\", \"Topic10\", \"Topic10\", \"Topic10\", \"Topic10\", \"Topic10\", \"Topic10\", \"Topic10\", \"Topic10\", \"Topic10\", \"Topic10\", \"Topic10\", \"Topic10\", \"Topic10\", \"Topic10\", \"Topic10\", \"Topic10\", \"Topic10\", \"Topic10\", \"Topic10\", \"Topic10\", \"Topic10\", \"Topic10\", \"Topic10\", \"Topic10\", \"Topic10\", \"Topic10\", \"Topic10\", \"Topic10\", \"Topic10\", \"Topic10\", \"Topic10\", \"Topic10\", \"Topic10\", \"Topic10\", \"Topic10\", \"Topic10\", \"Topic10\", \"Topic11\", \"Topic11\", \"Topic11\", \"Topic11\", \"Topic11\", \"Topic11\", \"Topic11\", \"Topic11\", \"Topic11\", \"Topic11\", \"Topic11\", \"Topic11\", \"Topic11\", \"Topic11\", \"Topic11\", \"Topic11\", \"Topic11\", \"Topic11\", \"Topic11\", \"Topic11\", \"Topic11\", \"Topic11\", \"Topic11\", \"Topic11\", \"Topic11\", \"Topic11\", \"Topic11\", \"Topic11\", \"Topic11\", \"Topic11\", \"Topic11\", \"Topic11\", \"Topic11\", \"Topic11\", \"Topic11\", \"Topic11\", \"Topic11\", \"Topic11\", \"Topic11\", \"Topic11\", \"Topic11\", \"Topic11\", \"Topic11\", \"Topic11\", \"Topic12\", \"Topic12\", \"Topic12\", \"Topic12\", \"Topic12\", \"Topic12\", \"Topic12\", \"Topic12\", \"Topic12\", \"Topic12\", \"Topic12\", \"Topic12\", \"Topic12\", \"Topic12\", \"Topic12\", \"Topic12\", \"Topic12\", \"Topic12\", \"Topic12\", \"Topic12\", \"Topic12\", \"Topic12\", \"Topic12\", \"Topic12\", \"Topic12\", \"Topic12\", \"Topic12\", \"Topic12\", \"Topic12\", \"Topic12\", \"Topic12\", \"Topic12\", \"Topic12\", \"Topic12\", \"Topic12\", \"Topic12\", \"Topic12\", \"Topic12\", \"Topic12\", \"Topic12\", \"Topic12\", \"Topic13\", \"Topic13\", \"Topic13\", \"Topic13\", \"Topic13\", \"Topic13\", \"Topic13\", \"Topic13\", \"Topic13\", \"Topic13\", \"Topic13\", \"Topic13\", \"Topic13\", \"Topic13\", \"Topic13\", \"Topic13\", \"Topic13\", \"Topic13\", \"Topic13\", \"Topic13\", \"Topic13\", \"Topic13\", \"Topic13\", \"Topic13\", \"Topic13\", \"Topic13\", \"Topic13\", \"Topic13\", \"Topic13\", \"Topic13\", \"Topic14\", \"Topic14\", \"Topic14\", \"Topic14\", \"Topic14\", \"Topic14\", \"Topic14\", \"Topic14\", \"Topic14\", \"Topic14\", \"Topic14\", \"Topic14\", \"Topic14\", \"Topic14\", \"Topic14\", \"Topic14\", \"Topic14\", \"Topic14\", \"Topic14\", \"Topic14\", \"Topic14\", \"Topic14\", \"Topic14\", \"Topic14\", \"Topic14\", \"Topic14\", \"Topic14\", \"Topic14\", \"Topic14\", \"Topic14\", \"Topic14\", \"Topic14\", \"Topic14\", \"Topic14\", \"Topic15\", \"Topic15\", \"Topic15\", \"Topic15\", \"Topic15\", \"Topic15\", \"Topic15\", \"Topic15\", \"Topic15\", \"Topic15\", \"Topic15\", \"Topic15\", \"Topic15\", \"Topic15\", \"Topic15\", \"Topic15\", \"Topic15\", \"Topic15\", \"Topic15\", \"Topic15\", \"Topic15\", \"Topic15\", \"Topic15\", \"Topic15\", \"Topic15\", \"Topic15\", \"Topic15\", \"Topic15\", \"Topic15\", \"Topic15\", \"Topic15\", \"Topic15\", \"Topic15\", \"Topic16\", \"Topic16\", \"Topic16\", \"Topic16\", \"Topic16\", \"Topic16\", \"Topic16\", \"Topic16\", \"Topic16\", \"Topic16\", \"Topic16\", \"Topic16\", \"Topic16\", \"Topic16\", \"Topic16\", \"Topic16\", \"Topic16\", \"Topic16\", \"Topic16\", \"Topic16\", \"Topic16\", \"Topic16\", \"Topic16\", \"Topic16\", \"Topic16\", \"Topic16\", \"Topic16\", \"Topic16\", \"Topic16\", \"Topic16\", \"Topic16\", \"Topic16\", \"Topic16\", \"Topic16\", \"Topic17\", \"Topic17\", \"Topic17\", \"Topic17\", \"Topic17\", \"Topic17\", \"Topic17\", \"Topic17\", \"Topic17\", \"Topic17\", \"Topic17\", \"Topic17\", \"Topic17\", \"Topic17\", \"Topic17\", \"Topic17\", \"Topic17\", \"Topic17\", \"Topic17\", \"Topic17\", \"Topic17\", \"Topic17\", \"Topic17\", \"Topic17\", \"Topic17\", \"Topic17\", \"Topic17\", \"Topic17\", \"Topic17\", \"Topic17\", \"Topic17\", \"Topic17\", \"Topic17\", \"Topic17\", \"Topic17\", \"Topic17\", \"Topic17\", \"Topic17\", \"Topic17\", \"Topic17\", \"Topic17\", \"Topic17\", \"Topic17\", \"Topic17\", \"Topic17\", \"Topic17\", \"Topic17\", \"Topic17\", \"Topic17\", \"Topic17\", \"Topic17\", \"Topic17\", \"Topic17\", \"Topic17\", \"Topic17\", \"Topic17\", \"Topic17\", \"Topic17\", \"Topic17\", \"Topic17\", \"Topic17\", \"Topic17\", \"Topic17\", \"Topic17\", \"Topic17\", \"Topic17\", \"Topic17\", \"Topic17\", \"Topic17\", \"Topic17\", \"Topic17\", \"Topic17\", \"Topic18\", \"Topic18\", \"Topic18\", \"Topic18\", \"Topic18\", \"Topic18\", \"Topic18\", \"Topic18\", \"Topic18\", \"Topic18\", \"Topic18\", \"Topic18\", \"Topic18\", \"Topic18\", \"Topic18\", \"Topic18\", \"Topic18\", \"Topic18\", \"Topic18\", \"Topic18\", \"Topic18\", \"Topic18\", \"Topic18\", \"Topic18\", \"Topic18\", \"Topic18\", \"Topic18\", \"Topic18\", \"Topic18\", \"Topic18\", \"Topic18\", \"Topic18\", \"Topic18\", \"Topic18\", \"Topic18\", \"Topic18\", \"Topic18\", \"Topic18\", \"Topic18\", \"Topic18\", \"Topic18\", \"Topic18\", \"Topic18\", \"Topic18\", \"Topic18\", \"Topic18\", \"Topic18\", \"Topic18\", \"Topic18\", \"Topic18\", \"Topic18\", \"Topic18\", \"Topic18\", \"Topic18\", \"Topic18\", \"Topic18\", \"Topic18\", \"Topic18\", \"Topic18\", \"Topic18\", \"Topic18\", \"Topic18\", \"Topic18\", \"Topic18\", \"Topic18\", \"Topic18\", \"Topic18\", \"Topic18\", \"Topic18\", \"Topic18\", \"Topic18\", \"Topic18\", \"Topic19\", \"Topic19\", \"Topic19\", \"Topic19\", \"Topic19\", \"Topic19\", \"Topic19\", \"Topic19\", \"Topic19\", \"Topic19\", \"Topic19\", \"Topic19\", \"Topic19\", \"Topic19\", \"Topic19\", \"Topic19\", \"Topic19\", \"Topic19\", \"Topic19\", \"Topic19\", \"Topic19\", \"Topic19\", \"Topic19\", \"Topic19\", \"Topic19\", \"Topic19\", \"Topic19\", \"Topic19\", \"Topic19\", \"Topic19\", \"Topic19\", \"Topic19\", \"Topic19\", \"Topic19\", \"Topic19\", \"Topic19\", \"Topic19\", \"Topic19\", \"Topic19\", \"Topic19\", \"Topic19\", \"Topic19\", \"Topic19\", \"Topic19\", \"Topic19\", \"Topic19\", \"Topic19\", \"Topic19\", \"Topic19\", \"Topic19\", \"Topic19\", \"Topic19\", \"Topic19\", \"Topic19\", \"Topic19\", \"Topic19\", \"Topic19\", \"Topic19\", \"Topic19\", \"Topic19\", \"Topic19\", \"Topic19\", \"Topic19\", \"Topic19\", \"Topic19\", \"Topic19\", \"Topic19\", \"Topic19\", \"Topic19\", \"Topic19\", \"Topic19\", \"Topic19\", \"Topic20\", \"Topic20\", \"Topic20\", \"Topic20\", \"Topic20\", \"Topic20\", \"Topic20\", \"Topic20\", \"Topic20\", \"Topic20\", \"Topic20\", \"Topic20\", \"Topic20\", \"Topic20\", \"Topic20\", \"Topic20\", \"Topic20\", \"Topic20\", \"Topic20\", \"Topic20\", \"Topic20\", \"Topic20\", \"Topic20\", \"Topic20\", \"Topic20\", \"Topic20\", \"Topic20\", \"Topic20\", \"Topic20\", \"Topic20\", \"Topic20\", \"Topic20\", \"Topic20\", \"Topic20\", \"Topic20\", \"Topic20\", \"Topic20\", \"Topic20\", \"Topic20\", \"Topic20\", \"Topic20\", \"Topic20\", \"Topic20\", \"Topic20\", \"Topic20\", \"Topic20\", \"Topic20\", \"Topic20\", \"Topic20\", \"Topic20\", \"Topic20\", \"Topic20\", \"Topic20\", \"Topic20\", \"Topic20\", \"Topic20\", \"Topic20\", \"Topic20\", \"Topic20\", \"Topic20\", \"Topic20\", \"Topic20\", \"Topic20\", \"Topic20\", \"Topic20\", \"Topic20\", \"Topic20\", \"Topic20\", \"Topic20\", \"Topic20\", \"Topic20\", \"Topic20\"], \"logprob\": [30.0, 29.0, 28.0, 27.0, 26.0, 25.0, 24.0, 23.0, 22.0, 21.0, 20.0, 19.0, 18.0, 17.0, 16.0, 15.0, 14.0, 13.0, 12.0, 11.0, 10.0, 9.0, 8.0, 7.0, 6.0, 5.0, 4.0, 3.0, 2.0, 1.0, -3.1628, -4.527, -4.527, -4.9311, -4.9239, -4.9235, -4.9213, -4.9211, -4.921, -4.9208, -5.5984, -5.5983, -5.5983, -5.5982, -3.8401, -5.598, -5.5979, -5.5978, -5.5977, -5.5977, -5.5977, -5.5976, -5.5976, -5.5976, -5.5976, -5.5976, -5.5976, -5.5976, -5.5975, -5.5975, -4.511, -4.912, -4.2274, -4.5067, -4.9088, -4.9067, -3.7981, -3.7921, -3.6028, -4.4953, -3.7726, -4.4843, -4.3457, -3.9133, -4.4587, -4.4455, -4.1277, -4.8805, -4.3363, -4.833, -4.6001, -4.7342, -4.8279, -4.8501, -4.8532, -4.4412, -4.836, -4.8357, -4.8355, -4.8354, -4.8354, -4.8353, -4.8353, -4.8352, -4.8346, -3.9338, -4.1529, -4.4322, -3.5921, -4.4319, -5.4988, -5.4987, -5.4986, -5.4986, -5.4986, -5.4986, -5.4986, -5.4985, -5.4985, -5.4984, -5.4984, -5.4984, -5.4984, -5.4984, -5.4983, -4.8229, -3.5939, -4.8219, -4.8229, -4.8211, -4.821, -4.8184, -3.9134, -4.819, -4.8049, -4.3994, -3.8013, -4.8028, -4.7885, -4.3364, -4.2632, -4.2893, -4.6983, -4.7847, -4.7975, -4.7989, -4.7978, -4.7969, -4.3408, -5.0069, -5.0068, -5.0068, -5.0066, -5.0065, -5.0065, -5.0063, -5.0063, -5.0064, -5.0062, -5.0062, -5.0063, -5.0062, -5.0063, -5.0061, -5.0063, -5.0061, -5.0061, -5.0061, -5.0063, -5.0061, -5.0062, -5.006, -5.0062, -5.006, -5.0062, -5.0059, -5.0062, -5.0059, -4.3205, -3.9129, -3.6205, -4.3045, -4.2943, -4.2802, -4.2582, -4.2494, -4.1343, -4.0438, -4.0133, -4.194, -4.4958, -4.5375, -4.5975, -4.5955, -4.7048, -4.7794, -5.0057, -5.0058, -4.8173, -4.8157, -4.8562, -4.876, -4.8644, -4.858, -4.8603, -4.898, -4.9072, -4.863, -4.8576, -4.262, -4.9292, -4.9292, -4.9292, -4.9292, -4.9292, -4.9292, -4.9292, -4.9292, -4.9292, -4.9292, -4.9292, -4.9292, -4.9247, -4.9246, -4.9246, -4.9245, -4.9244, -4.9244, -4.9244, -4.9244, -4.9244, -4.9243, -4.9243, -4.9243, -4.9242, -4.9242, -4.9242, -4.9242, -4.9241, -3.3432, -3.343, -3.343, -3.3328, -3.807, -3.8046, -4.1994, -3.9169, -4.2273, -4.2099, -4.0283, -3.9639, -4.6243, -4.7194, -4.7431, -4.7929, -4.774, -4.8128, -4.7858, -4.7644, -4.8054, -4.8609, -4.8852, -4.8859, -4.8862, -4.8927, -4.8872, -4.8975, -4.8675, -4.8919, -4.2458, -4.911, -4.9107, -4.9106, -4.9105, -4.9104, -4.9105, -4.9104, -4.9104, -4.9104, -4.9104, -4.9103, -4.9103, -4.9102, -4.9102, -4.9101, -4.9101, -4.9101, -4.9102, -4.91, -4.91, -4.9099, -4.9099, -4.9098, -4.9097, -4.9097, -4.9097, -4.9097, -4.9096, -4.9096, -3.8294, -3.8138, -4.2006, -3.6933, -4.1711, -4.1475, -4.0176, -4.3499, -4.3973, -4.4452, -4.5425, -4.6124, -4.6769, -4.9095, -4.9093, -4.9093, -4.9095, -4.9096, -4.6151, -4.71, -4.7309, -4.7638, -4.7561, -4.7699, -4.7836, -4.8056, -4.8113, -4.8036, -4.8002, -4.8175, -4.8223, -4.8185, -4.8517, -4.8707, -4.8241, -4.7969, -4.7968, -4.7968, -4.7967, -4.7966, -4.7966, -4.7966, -4.7966, -4.7965, -4.7965, -4.7965, -4.7964, -4.7964, -4.7964, -4.7964, -4.7963, -4.7963, -4.7962, -4.7963, -4.7962, -4.1019, -4.7768, -4.7768, -4.1013, -4.7728, -4.7727, -4.7727, -4.7726, -4.7677, -4.7718, -4.0842, -4.0955, -3.3436, -3.3676, -3.5267, -3.9663, -3.9841, -4.2327, -4.3278, -4.5595, -4.5695, -4.5593, -4.6165, -4.6136, -4.594, -4.6465, -4.6557, -4.6388, -4.6883, -4.6829, -4.6862, -4.7336, -4.7239, -4.7615, -4.7617, -4.737, -4.7704, -4.1334, -4.8025, -4.8025, -4.8025, -4.8025, -4.8025, -4.8025, -4.8025, -4.8025, -4.8025, -4.8025, -4.8025, -4.8025, -4.8025, -4.8025, -4.8025, -4.8025, -4.8025, -4.8025, -4.8, -4.7997, -4.7996, -4.7995, -4.7991, -4.1201, -4.1158, -4.1176, -4.7734, -4.78, -4.7798, -3.7028, -3.683, -4.0569, -3.5489, -3.834, -3.984, -3.9678, -4.2326, -4.2851, -4.4251, -4.5593, -4.6556, -4.6939, -4.6861, -4.6882, -4.7229, -4.7302, -4.7029, -4.7438, -4.736, -4.7616, -4.7744, -4.7501, -4.7658, -4.776, -4.7559, -4.6891, -4.6891, -4.689, -4.689, -4.689, -4.6889, -4.6888, -4.6888, -4.6888, -4.6887, -4.6887, -4.6885, -4.6885, -4.6884, -4.6883, -4.6883, -4.6883, -4.6883, -4.6882, -4.6881, -4.6881, -4.6877, -4.6871, -4.0105, -4.0119, -3.3049, -4.6655, -4.6673, -4.667, -4.6669, -3.9898, -3.4681, -3.8169, -3.7314, -3.8618, -4.1268, -4.2767, -4.5413, -4.5804, -4.5983, -4.6389, -4.6395, -4.6317, -4.6192, -4.6615, -4.6661, -4.6668, -4.6669, -4.667, -3.9526, -4.6181, -4.618, -4.6179, -4.6179, -4.6179, -4.6178, -4.6178, -4.6178, -4.6177, -4.6176, -4.6176, -4.6175, -4.6173, -4.6173, -4.6172, -4.6172, -4.6171, -4.617, -4.617, -4.6169, -4.5929, -4.5918, -4.5883, -4.5987, -4.5896, -4.5904, -4.5957, -4.582, -4.5771, -3.897, -3.9072, -3.725, -4.1014, -4.1497, -4.2492, -4.2094, -4.3167, -4.3472, -4.4446, -4.436, -4.468, -4.477, -4.4603, -4.4835, -4.5261, -4.4592, -4.5936, -4.6005, -4.6004, -4.6002, -4.6002, -4.6002, -4.6001, -4.6001, -4.6001, -4.6001, -4.6, -4.6, -4.6, -4.5999, -4.5999, -4.5996, -4.5996, -4.5996, -4.5996, -4.5995, -4.5994, -4.5994, -4.5993, -4.5989, -4.5723, -4.572, -4.5733, -4.5736, -4.5751, -4.5692, -4.5631, -3.4515, -3.3319, -3.6063, -4.0828, -4.3955, -4.4259, -4.4585, -4.457, -4.4556, -4.4969, -4.5069, -4.5475, -4.503, -4.5213, -4.5631, -3.9166, -3.9166, -4.5832, -4.5831, -4.5829, -4.5828, -4.5827, -4.5827, -4.5827, -4.5827, -4.5826, -4.5825, -4.5825, -4.5824, -4.5824, -4.5824, -4.5824, -4.5823, -4.5823, -4.5823, -4.5823, -4.5822, -4.5821, -4.5638, -4.5638, -4.5636, -4.563, -4.5597, -3.8884, -4.5567, -3.684, -4.0163, -4.0638, -4.0688, -4.343, -4.3913, -4.4002, -4.4363, -4.45, -4.443, -4.496, -4.5023, -4.5313, -4.5484, -4.5507, -4.5503, -4.5503, -4.5503, -4.5502, -4.5502, -4.55, -4.55, -4.55, -4.55, -4.5499, -4.5499, -4.5498, -4.5498, -4.5497, -4.5497, -4.5497, -4.5496, -4.5495, -4.5495, -4.5494, -4.5494, -4.5493, -4.5491, -4.549, -4.5216, -4.525, -4.5212, -4.529, -4.5331, -3.3766, -3.8142, -3.5579, -4.1398, -4.3621, -4.4069, -4.452, -4.4591, -4.5026, -4.5273, -4.5267, -3.7802, -4.4459, -4.4458, -4.4456, -4.4454, -4.4452, -4.4452, -4.4451, -4.4449, -4.4448, -4.4447, -4.4446, -3.7658, -4.4167, -4.4191, -4.4189, -4.423, -4.4193, -4.4176, -4.4072, -4.3973, -4.3764, -4.3327, -3.6159, -4.2727, -4.3089, -3.5513, -4.2089, -3.5139, -3.9346, -4.4382, -4.438, -4.438, -4.4379, -4.4376, -4.4375, -4.4374, -4.4098, -3.7396, -4.4167, -3.0764, -4.3746, -4.3759, -3.648, -4.336, -4.3425, -3.6421, -4.3689, -4.3214, -4.3173, -4.2549, -4.1979, -3.4725, -3.4757, -4.0637, -4.024, -7.3081, -7.3116, -7.315, -7.3182, -4.639, -4.8567, -5.0096, -5.3271, -4.4297, -4.4297, -4.4297, -4.4297, -4.4297, -4.4297, -4.4297, -4.4072, -4.4038, -4.4038, -4.4052, -4.4086, -4.4086, -4.3894, -4.3724, -4.3685, -4.3432, -4.2813, -4.3345, -4.3335, -4.3329, -4.2771, -4.1966, -4.2332, -4.2211, -4.275, -4.0523, -4.2857, -3.9072, -4.015, -3.8598, -3.955, -4.1249, -4.3685, -4.3684, -4.3682, -4.368, -4.3417, -4.3405, -4.3406, -4.3146, -4.3035, -4.3321, -4.3201, -4.2743, -3.6229, -4.2361, -4.2999, -4.1927, -4.258, -4.1863, -4.1773, -4.1292, -4.1625, -4.129, -4.1639, -3.9572, -3.8017, -3.8973, -3.8534, -7.1863, -7.1888, -7.1914, -4.6745, -5.0432, -5.527, -4.9337, -6.8308, -6.8343, -6.8377, -6.8409, -6.7775, -6.78, -6.7826, -6.7831, -6.787, -6.7894, -6.7894, -6.7932, -6.7964, -6.7998, -6.8005, -6.8469, -6.8484, -6.85, -6.8557, -6.8579, -6.858, -6.8613, -6.9168, -6.9168, -6.9168, -6.9168, -6.9168, -6.9168, -6.9168, -6.7712, -6.7731, -6.7753, -4.2666, -4.1614, -6.7781, -6.7785, -6.7789, -4.2783, -5.1185, -4.3795, -4.6356, -5.0804, -4.5325, -4.8496, -4.526, -5.5222, -5.4724, -5.0791, -5.5823, -5.3549, -5.3232, -5.2823, -5.5049, -5.3089, -5.2151, -5.4323, -5.2744, -5.5141, -5.8273, -5.7765, -5.716, -5.7541, -4.8588, -5.4821, -5.7032, -5.2208, -4.9537, -5.4913, -5.4757, -5.5055, -5.4267, -5.4787, -6.8303, -6.8338, -6.8373, -6.8404, -6.7771, -6.7795, -6.7822, -6.7826, -6.7865, -6.7889, -6.7889, -6.7928, -6.7959, -6.7994, -6.8001, -6.8481, -6.8495, -6.851, -6.8565, -6.8585, -6.8586, -6.8618, -6.9163, -6.9163, -6.9163, -6.9163, -6.9163, -6.9163, -6.9163, -6.7707, -6.7726, -6.7748, -4.2665, -4.1613, -6.7776, -6.7781, -6.7784, -4.278, -5.1195, -4.3792, -4.6354, -5.0802, -4.5321, -4.8494, -4.5261, -5.5219, -5.4721, -5.0791, -5.5819, -5.3545, -5.323, -5.2821, -5.5048, -5.3094, -5.2158, -5.4321, -5.2751, -5.5137, -5.8268, -5.777, -5.7537, -5.7158, -4.8584, -5.482, -5.703, -5.2215, -4.9536, -5.491, -5.4762, -5.5058, -5.4272, -5.4796, -6.8306, -6.834, -6.8375, -6.8406, -6.7773, -6.7798, -6.7824, -6.7828, -6.7867, -6.7891, -6.7891, -6.793, -6.7961, -6.7996, -6.8003, -6.8483, -6.8497, -6.8512, -6.8567, -6.8587, -6.8588, -6.862, -6.9165, -6.9165, -6.9165, -6.9165, -6.9165, -6.9165, -6.9165, -6.7709, -6.7728, -6.775, -4.2666, -4.1612, -6.7778, -6.7783, -6.7787, -4.2782, -5.1195, -4.3792, -4.6356, -5.0802, -4.5323, -4.8494, -4.5261, -5.5219, -5.4722, -5.0793, -5.5821, -5.3547, -5.3232, -5.2821, -5.5047, -5.3093, -5.2158, -5.432, -5.2752, -5.5139, -5.827, -5.777, -5.7157, -5.7539, -4.8586, -5.482, -5.7028, -5.2214, -4.9536, -5.491, -5.4764, -5.505, -5.4262, -5.478, -6.8303, -6.8338, -6.8372, -6.8404, -6.777, -6.7795, -6.7821, -6.7826, -6.7865, -6.7889, -6.7889, -6.7927, -6.7959, -6.7993, -6.8001, -6.848, -6.8494, -6.851, -6.8564, -6.8585, -6.8586, -6.8618, -6.9163, -6.9163, -6.9163, -6.9163, -6.9163, -6.9163, -6.9163, -6.7707, -6.7726, -6.7748, -4.2664, -4.1613, -6.7776, -6.778, -6.7784, -4.278, -5.1195, -4.3792, -4.6354, -5.0801, -4.5321, -4.8495, -4.5261, -5.5219, -5.4721, -5.0791, -5.5818, -5.3544, -5.323, -5.2821, -5.5048, -5.3094, -5.2158, -5.4321, -5.2751, -5.5136, -5.8268, -5.777, -5.7536, -5.7158, -4.8584, -5.482, -5.703, -5.2215, -4.9537, -5.491, -5.4762, -5.5059, -5.4272, -5.4797], \"loglift\": [30.0, 29.0, 28.0, 27.0, 26.0, 25.0, 24.0, 23.0, 22.0, 21.0, 20.0, 19.0, 18.0, 17.0, 16.0, 15.0, 14.0, 13.0, 12.0, 11.0, 10.0, 9.0, 8.0, 7.0, 6.0, 5.0, 4.0, 3.0, 2.0, 1.0, 1.6486, 1.4664, 1.4656, 1.4575, 1.4052, 1.4028, 1.3865, 1.3853, 1.3841, 1.3829, 1.2866, 1.2857, 1.2856, 1.2853, 1.2843, 1.2839, 1.2836, 1.283, 1.282, 1.282, 1.2819, 1.2819, 1.2818, 1.2817, 1.2816, 1.2815, 1.2814, 1.2813, 1.2811, 1.281, 1.1704, 1.1975, 1.085, 1.0985, 1.1018, 1.0756, 0.7105, 0.6628, 0.5421, 0.8725, 0.5301, 0.7563, 0.5936, 0.3392, 0.6178, 0.5544, 0.229, 0.6105, -0.0448, 0.4617, -0.4386, -0.1835, 0.4031, 0.3228, 0.3306, 1.5394, 1.4648, 1.4621, 1.4609, 1.4603, 1.46, 1.4598, 1.4594, 1.4588, 1.4549, 1.4449, 1.4097, 1.3711, 1.3078, 1.3068, 1.2814, 1.2807, 1.2807, 1.2805, 1.2804, 1.2804, 1.2804, 1.28, 1.28, 1.2795, 1.2795, 1.2792, 1.2792, 1.279, 1.279, 1.2559, 1.1533, 1.2124, 1.179, 1.1442, 1.1437, 1.1413, 0.9444, 1.0517, 0.9716, 0.7844, 0.3602, 0.903, 0.7727, 0.3912, -0.0106, 0.0134, -0.1897, 0.6378, 0.7506, 0.7479, 0.6932, 0.6184, 2.1763, 1.9715, 1.9711, 1.9711, 1.9693, 1.9687, 1.9687, 1.9681, 1.9679, 1.9679, 1.9678, 1.9676, 1.9671, 1.967, 1.967, 1.967, 1.9669, 1.9669, 1.9668, 1.9665, 1.9665, 1.9662, 1.9662, 1.9661, 1.9661, 1.966, 1.9657, 1.9656, 1.9654, 1.965, 1.7129, 1.5023, 1.2374, 1.4772, 1.2525, 1.1423, 1.1123, 1.0884, 0.4164, 0.2477, 0.1482, 0.3145, -0.3508, -0.285, -0.2408, -0.2929, 0.0228, 0.3739, 1.9638, 1.964, 0.4137, 0.3249, 0.6482, 0.7601, 0.5934, 0.5001, 0.4275, 0.8041, 0.9087, 0.3208, 0.0422, 2.3306, 2.1186, 2.1186, 2.1186, 2.1186, 2.1186, 2.1186, 2.1186, 2.1186, 2.1186, 2.1186, 2.1186, 2.1186, 2.0852, 2.085, 2.0848, 2.0843, 2.0835, 2.0832, 2.0832, 2.0831, 2.083, 2.0827, 2.0824, 2.0823, 2.0817, 2.0817, 2.0815, 2.0814, 2.0805, 2.0614, 2.0598, 2.0589, 1.4144, 1.429, 1.336, 1.3591, 1.0224, 1.1308, 0.9434, 0.3284, 0.1811, -0.1695, 0.3571, 0.5516, 0.8433, 0.3989, 0.8366, 0.4548, 0.0934, 0.6171, 1.1263, 1.4216, 1.4236, 1.4186, 1.5266, 1.4215, 1.6179, 0.8711, 1.4371, 2.2811, 2.0686, 2.0664, 2.0653, 2.0643, 2.0643, 2.0641, 2.0641, 2.064, 2.0638, 2.0637, 2.0632, 2.0629, 2.0627, 2.0627, 2.0622, 2.0622, 2.0622, 2.0621, 2.0613, 2.0611, 2.0607, 2.0605, 2.0603, 2.0592, 2.0591, 2.059, 2.0588, 2.0584, 2.0583, 1.8301, 1.706, 1.3476, 0.6634, 1.1871, 0.9931, 0.285, -0.1884, -0.1059, -0.1926, 0.0081, 0.1152, 0.3941, 2.0575, 2.0564, 2.0563, 2.0579, 2.0582, -0.1602, 0.3665, 0.505, 0.7405, 0.6144, 0.7442, 0.8525, 0.8965, 0.945, 0.8458, 0.7583, 0.6994, 0.7245, 0.5967, 1.1355, 1.4167, 0.4882, 2.2499, 2.2498, 2.2495, 2.2486, 2.2479, 2.2479, 2.2478, 2.2477, 2.2471, 2.2469, 2.2469, 2.2463, 2.2463, 2.246, 2.2458, 2.2453, 2.2449, 2.2449, 2.2449, 2.2444, 1.8952, 1.8572, 1.8571, 1.7637, 1.7555, 1.7552, 1.7551, 1.7546, 1.7545, 1.7516, 1.6843, 1.6087, 1.2071, 1.0873, 0.7647, 0.7612, 0.5245, -0.0711, -0.0753, 0.5114, 0.5838, 0.4406, 0.6782, 0.6224, 0.3454, 0.8578, 0.9137, 0.7317, 1.0138, 0.8757, 0.875, 1.3672, 1.0578, 1.5743, 1.5749, 0.8256, 1.6786, 2.5016, 2.2958, 2.2958, 2.2958, 2.2958, 2.2958, 2.2958, 2.2958, 2.2958, 2.2958, 2.2958, 2.2958, 2.2958, 2.2958, 2.2958, 2.2958, 2.2958, 2.2958, 2.2958, 2.2764, 2.2736, 2.2728, 2.2724, 2.269, 2.1678, 2.0016, 1.9284, 1.8356, 1.8197, 1.8189, 1.8142, 1.49, 1.4008, 0.7037, 0.4574, 0.5245, 0.4871, -0.0711, -0.1402, 0.1255, 0.4406, 0.9138, 1.0624, 0.8751, 0.6797, 1.1938, 1.2557, 0.7882, 1.2906, 1.129, 1.5827, 1.8045, 1.2518, 1.59, 1.8018, 1.2547, 2.3866, 2.3861, 2.3858, 2.3855, 2.3854, 2.3849, 2.3842, 2.3842, 2.3841, 2.3831, 2.3831, 2.3819, 2.3815, 2.3808, 2.3804, 2.3803, 2.3802, 2.3799, 2.3791, 2.3786, 2.378, 2.3755, 2.3709, 2.2874, 2.0341, 1.9829, 1.9633, 1.9223, 1.8613, 1.861, 1.7144, 0.8885, 0.7338, 0.4135, 0.5931, 0.0348, 0.026, 0.6316, 0.9808, 1.1701, 1.6454, 1.5606, 1.3655, 1.0403, 1.8147, 1.8573, 1.8604, 1.8608, 1.7407, 2.76, 2.5101, 2.5082, 2.5077, 2.5073, 2.5073, 2.5067, 2.5066, 2.5062, 2.506, 2.5044, 2.5042, 2.5037, 2.5012, 2.5011, 2.5, 2.5, 2.4974, 2.4966, 2.496, 2.494, 2.0873, 2.0811, 1.9961, 1.991, 1.9327, 1.8951, 1.8365, 1.7871, 1.7794, 1.4708, 1.4051, 0.6317, 0.19, 0.1028, 0.3014, 0.0932, 0.4108, 0.1614, 0.8933, 0.8, 1.0364, 1.0924, 0.9102, 0.8043, 1.3635, 0.3987, 1.7042, 2.5444, 2.5433, 2.5423, 2.5419, 2.5418, 2.5413, 2.5412, 2.5411, 2.5408, 2.5407, 2.5404, 2.5401, 2.5398, 2.5392, 2.5372, 2.5369, 2.5369, 2.5366, 2.5357, 2.5356, 2.5354, 2.5344, 2.5311, 2.0698, 2.0685, 2.0378, 1.9418, 1.9322, 1.9258, 1.8174, 1.6194, 0.813, 0.5553, 0.2086, 0.681, 0.9119, 1.1109, 1.0007, 0.7282, 1.2595, 1.2615, 1.7367, 1.0139, 1.0838, 1.8109, 2.8441, 2.8437, 2.5892, 2.5889, 2.5864, 2.5863, 2.585, 2.5849, 2.5849, 2.5846, 2.5841, 2.5833, 2.5832, 2.5826, 2.5823, 2.5822, 2.582, 2.5817, 2.5813, 2.5811, 2.5809, 2.5802, 2.5791, 2.1562, 2.0359, 2.0352, 2.0323, 2.0181, 1.9823, 1.96, 0.6187, 0.1452, 0.2277, 0.0761, 0.6569, 0.8396, 0.8946, 1.0778, 1.1861, 0.7976, 1.2099, 1.1029, 1.6336, 1.85, 2.6081, 2.6043, 2.6042, 2.6041, 2.6039, 2.6034, 2.602, 2.6019, 2.6016, 2.6012, 2.6008, 2.6006, 2.6001, 2.5995, 2.5995, 2.5992, 2.5988, 2.5979, 2.5977, 2.5971, 2.5969, 2.5966, 2.5953, 2.5942, 2.5933, 2.123, 2.0861, 2.0632, 2.05, 2.037, 1.351, 1.4263, 0.6037, 0.1628, 0.8689, 1.1072, 1.3639, 1.4305, 1.5318, 1.9155, 1.7612, 3.0621, 2.777, 2.7767, 2.7749, 2.7732, 2.7712, 2.7712, 2.77, 2.7679, 2.7677, 2.7663, 2.765, 2.4934, 2.2279, 2.223, 2.2217, 2.1859, 2.1227, 2.1155, 2.0026, 1.7676, 1.6067, 1.1872, 1.1116, 1.0651, 0.9316, 0.8054, 0.7909, 0.7386, 0.2103, 2.8276, 2.826, 2.826, 2.8249, 2.8221, 2.8213, 2.8206, 2.219, 2.1253, 2.0875, 2.048, 1.6395, 1.6212, 1.5053, 1.4799, 1.4259, 1.3578, 1.3125, 1.1984, 1.1052, 1.0398, 0.873, 0.8189, 0.6692, 0.4869, 0.2787, -0.0093, -0.0106, -0.012, -0.0133, -0.4774, -0.6042, -0.6529, -0.5995, 2.875, 2.875, 2.875, 2.875, 2.875, 2.875, 2.875, 2.3128, 2.2301, 2.23, 2.206, 2.1156, 2.1154, 2.0494, 1.8277, 1.4348, 1.4332, 1.1765, 1.0701, 1.0693, 1.0689, 1.0107, 0.9567, 0.9074, 0.7182, 0.6248, 0.4983, 0.4615, 0.3843, 0.3417, 0.3018, 0.2975, 0.33, 2.9364, 2.9346, 2.9327, 2.9308, 2.3385, 2.3325, 2.1499, 1.9696, 1.7974, 1.7774, 1.7587, 1.6153, 1.55, 1.4, 1.3815, 1.1451, 1.1098, 1.1084, 1.0536, 0.9417, 0.9141, 0.8709, 0.7754, 0.3995, 0.3598, 0.3552, 0.2915, 0.0233, 0.0222, 0.0211, -0.3831, -0.4926, -0.3737, -0.631, 0.468, 0.4666, 0.4653, 0.464, 0.432, 0.431, 0.4299, 0.4297, 0.4281, 0.4271, 0.4271, 0.4254, 0.4241, 0.4227, 0.4224, 0.4111, 0.4104, 0.4097, 0.4071, 0.4061, 0.406, 0.4046, 0.388, 0.388, 0.388, 0.388, 0.388, 0.388, 0.388, 0.3711, 0.3702, 0.3692, 0.0248, 0.0001, 0.368, 0.3678, 0.3676, -0.1333, 0.0348, -0.1269, -0.085, -0.0094, -0.1759, -0.122, -0.2233, 0.0472, 0.0319, -0.0792, 0.0538, -0.0171, -0.0285, -0.0514, 0.0092, -0.0729, -0.1386, -0.0619, -0.1338, -0.0563, 0.0623, 0.0393, -0.0139, 0.0022, -0.4039, -0.1239, -0.0538, -0.2814, -0.4451, -0.2035, -0.3028, -0.3217, -0.5689, -0.5788, 0.4685, 0.4671, 0.4657, 0.4645, 0.4325, 0.4315, 0.4304, 0.4302, 0.4285, 0.4275, 0.4275, 0.4259, 0.4246, 0.4231, 0.4228, 0.41, 0.4094, 0.4087, 0.4063, 0.4054, 0.4054, 0.404, 0.3884, 0.3884, 0.3884, 0.3884, 0.3884, 0.3884, 0.3884, 0.3716, 0.3707, 0.3697, 0.025, 0.0002, 0.3684, 0.3682, 0.3681, -0.1331, 0.0338, -0.1267, -0.0848, -0.0092, -0.1754, -0.1219, -0.2234, 0.0475, 0.0322, -0.0792, 0.0543, -0.0166, -0.0283, -0.0511, 0.0093, -0.0734, -0.1392, -0.0616, -0.1345, -0.0559, 0.0628, 0.0388, 0.0027, -0.0137, -0.4035, -0.1239, -0.0536, -0.2822, -0.4451, -0.2032, -0.3033, -0.322, -0.5694, -0.5798, 0.4683, 0.4669, 0.4655, 0.4643, 0.4323, 0.4312, 0.4301, 0.43, 0.4283, 0.4273, 0.4273, 0.4257, 0.4244, 0.4229, 0.4226, 0.4098, 0.4092, 0.4085, 0.4061, 0.4052, 0.4052, 0.4038, 0.3882, 0.3882, 0.3882, 0.3882, 0.3882, 0.3882, 0.3882, 0.3714, 0.3705, 0.3695, 0.0248, 0.0004, 0.3682, 0.368, 0.3679, -0.1333, 0.0338, -0.1266, -0.085, -0.0092, -0.1756, -0.1219, -0.2234, 0.0475, 0.0322, -0.0795, 0.0541, -0.0168, -0.0285, -0.0512, 0.0094, -0.0734, -0.1393, -0.0616, -0.1345, -0.0561, 0.0626, 0.0389, -0.0136, 0.0024, -0.4037, -0.1239, -0.0534, -0.2821, -0.445, -0.2032, -0.3035, -0.3212, -0.5684, -0.5782, 0.4685, 0.4671, 0.4658, 0.4645, 0.4325, 0.4315, 0.4304, 0.4302, 0.4286, 0.4275, 0.4275, 0.4259, 0.4246, 0.4231, 0.4228, 0.41, 0.4094, 0.4087, 0.4064, 0.4055, 0.4054, 0.4041, 0.3885, 0.3885, 0.3885, 0.3885, 0.3885, 0.3885, 0.3885, 0.3716, 0.3707, 0.3697, 0.025, 0.0002, 0.3685, 0.3683, 0.3681, -0.1331, 0.0338, -0.1267, -0.0848, -0.0092, -0.1754, -0.1219, -0.2235, 0.0475, 0.0322, -0.0792, 0.0543, -0.0166, -0.0283, -0.0511, 0.0093, -0.0734, -0.1392, -0.0616, -0.1345, -0.0559, 0.0628, 0.0388, 0.0027, -0.0137, -0.4035, -0.1239, -0.0535, -0.2822, -0.4451, -0.2032, -0.3032, -0.322, -0.5694, -0.5799]}, \"token.table\": {\"Topic\": [1, 14, 7, 2, 11, 8, 10, 2, 3, 6, 8, 9, 10, 10, 8, 6, 1, 9, 6, 6, 2, 9, 7, 1, 4, 5, 8, 1, 9, 1, 2, 3, 6, 6, 9, 9, 8, 5, 5, 1, 10, 2, 9, 5, 2, 4, 2, 3, 5, 6, 9, 10, 7, 8, 3, 4, 2, 4, 9, 5, 3, 11, 4, 1, 2, 5, 6, 10, 14, 1, 5, 4, 1, 5, 2, 3, 4, 9, 1, 6, 8, 2, 10, 1, 1, 5, 7, 9, 2, 3, 5, 1, 2, 5, 11, 12, 1, 2, 4, 6, 1, 5, 7, 10, 5, 8, 6, 7, 2, 10, 10, 3, 1, 2, 4, 5, 1, 1, 4, 10, 6, 7, 14, 3, 8, 3, 1, 4, 7, 8, 16, 5, 4, 2, 3, 2, 3, 6, 10, 1, 7, 2, 3, 4, 5, 2, 4, 11, 8, 9, 8, 4, 8, 9, 8, 1, 4, 5, 6, 7, 8, 15, 5, 2, 3, 4, 6, 14, 1, 4, 1, 9, 12, 3, 9, 1, 5, 9, 1, 2, 3, 4, 5, 6, 7, 8, 10, 11, 12, 15, 16, 5, 1, 5, 7, 10, 4, 2, 3, 4, 6, 3, 4, 10, 5, 5, 2, 1, 2, 7, 1, 6, 1, 2, 2, 2, 4, 6, 2, 5, 7, 2, 7, 6, 13, 5, 5, 8, 4, 1, 1, 8, 7, 2, 4, 5, 6, 8, 4, 7, 4, 3, 6, 5, 10, 2, 6, 7, 8, 7, 11, 4, 6, 2, 5, 1, 13, 6, 8, 2, 3, 7, 8, 1, 2, 3, 10, 1, 4, 1, 7, 9, 6, 2, 4, 4, 2, 10, 1, 4, 11, 12, 5, 5, 11, 1, 3, 5, 6, 7, 8, 9, 14, 15, 10, 3, 2, 3, 8, 9, 1, 7, 3, 9, 1, 5, 4, 2, 10, 4, 2, 4, 1, 1, 3, 9, 10, 2, 4, 2, 2, 1, 2, 3, 11, 12, 3, 1, 9, 3, 9, 6, 8, 6, 8, 10, 3, 8, 6, 8, 4, 1, 2, 4, 10, 9, 2, 3, 5, 6, 3, 5, 5, 4, 3, 10, 5, 1, 11, 7, 9, 6, 1, 3, 7, 10, 1, 2, 3, 6, 7, 9, 2, 3, 5, 3, 6, 4, 8, 1, 2, 3, 4, 5, 6, 7, 9, 10, 11, 14, 15, 2, 9, 6, 4, 1, 2, 11, 7, 3, 9, 6, 9, 3, 1, 4, 6, 11, 8, 5, 1, 4, 7, 4, 2, 3, 10, 4, 3, 2, 5, 2, 10, 7, 1, 2, 3, 10, 4, 1, 5, 10, 4, 2, 1, 8, 1, 6, 7, 11, 13, 14, 2, 3, 5, 6, 9, 12, 13, 3, 2, 3, 4, 5, 2, 6, 9, 7, 3, 9, 2, 3, 1, 2, 7, 9, 3, 2, 2, 5, 2, 6, 7, 9, 10, 5, 1, 5, 8, 3, 4, 5, 11, 6, 3, 9, 1, 11, 3, 9, 3, 8, 1, 2, 7, 10, 2, 8, 3, 2, 3, 5, 1, 6, 3, 7, 11, 2, 4, 1, 2, 3, 4, 7, 8, 10, 11, 13, 14, 16, 6, 7, 11, 5, 7, 1, 8, 3, 1, 2, 3, 5, 8, 9, 11, 12, 14, 3, 4, 5, 6, 2, 6, 8, 8, 1, 10, 7, 4, 1, 6, 3, 5, 1, 5, 5, 1, 7, 8, 2, 6, 8, 10, 1, 9, 2, 3, 5, 6, 9, 3, 10, 2, 4, 5, 3, 1, 2, 4, 1, 2, 3, 5, 6, 7, 9, 13, 15, 16, 1, 1, 6, 3, 5, 2, 1, 7, 4, 4, 5, 10, 1, 2, 7, 10, 2, 4, 5, 6, 9, 4, 10, 10, 2, 7, 7, 1, 3, 4, 5, 8, 9, 13, 15, 16, 2, 3, 1, 7, 7, 11, 2, 1, 10, 3, 6, 2, 1, 7, 8, 6, 8, 9, 1, 8, 9, 1, 1, 5, 3, 8, 6, 3, 7, 10, 5, 3, 2, 6, 5, 2, 1, 5, 8, 5, 7, 8, 10, 1, 7, 7, 2, 5, 2, 3, 12, 2, 4, 2, 1, 10, 11, 1, 4, 7, 9, 1, 8, 9, 1, 1, 1, 11, 7, 1, 2, 4, 5, 10, 2, 3, 7, 7, 1, 9], \"Freq\": [0.6723194144024455, 0.2689277657609782, 0.9679530022747012, 0.5672142964463823, 0.28360714822319116, 0.9396316215944742, 1.0042928626273897, 0.6234673916400456, 0.3117336958200228, 0.3218236090520636, 0.3218236090520636, 0.9908686184760988, 1.0104254986234267, 1.0039313701964874, 0.9401929302519336, 0.9155808907401326, 0.5451567915617802, 0.9801451538626145, 0.91714626993661, 0.9170474580670271, 0.4609634931951653, 0.4609634931951653, 0.9679530022747012, 0.31864042079399385, 0.31864042079399385, 0.31864042079399385, 0.9383688523369194, 0.46683868479694435, 0.46683868479694435, 0.8769501910720023, 0.3336977612470682, 0.3336977612470682, 0.919286389255337, 0.9162062222404054, 0.9876967792383997, 0.986401173599868, 0.6052741304913101, 0.8548526630294954, 0.8487915653162253, 0.4691329722457915, 0.4691329722457915, 0.7033894499592426, 0.9875892653448824, 0.85548474014964, 0.5302125828447248, 0.8830973474684629, 0.19660769424962762, 0.19660769424962762, 0.19660769424962762, 0.19660769424962762, 0.19660769424962762, 0.5946452408317123, 0.9679530022747012, 0.9395357192984006, 0.8538699929675105, 0.8842858018408276, 0.5532550712346826, 0.2766275356173413, 0.9903341429054534, 0.8523386279534052, 0.5410798979569752, 0.5410798979569752, 0.9202240931877798, 0.12746116154210052, 0.12746116154210052, 0.12746116154210052, 0.12746116154210052, 0.25492232308420104, 0.12746116154210052, 0.7775540139074003, 0.8502135725710432, 0.9202240931877798, 0.7770241908202544, 0.8476951257819644, 0.4119827282072867, 0.308987046155465, 0.10299568205182168, 0.10299568205182168, 0.24008473142725756, 0.24008473142725756, 0.24008473142725756, 0.7033428882560452, 1.0111566757455674, 0.781197517936371, 0.3340321297939321, 0.3340321297939321, 0.3340321297939321, 0.9911364200938333, 0.4102706060595008, 0.2051353030297504, 0.2051353030297504, 0.19853485071102017, 0.19853485071102017, 0.19853485071102017, 0.19853485071102017, 0.19853485071102017, 0.33521633510692467, 0.11173877836897489, 0.22347755673794978, 0.11173877836897489, 0.2529465149179056, 0.2529465149179056, 0.2529465149179056, 0.2529465149179056, 0.5466402916222114, 0.9425933368241395, 0.9137006547722316, 0.9679530022747012, 0.4722052282321474, 0.4722052282321474, 1.005303650204807, 0.8540214193098294, 0.22729998172725138, 0.22729998172725138, 0.22729998172725138, 0.22729998172725138, 0.7820423939456465, 0.4484617259392432, 0.4484617259392432, 0.9991181582057709, 0.28197370692480683, 0.28197370692480683, 0.28197370692480683, 0.3942056140459145, 0.3942056140459145, 0.8564102336449388, 0.28228265274297565, 0.14114132637148782, 0.28228265274297565, 0.14114132637148782, 0.14114132637148782, 0.8543991668393689, 0.8858071169308147, 0.6231504497777623, 0.3115752248888812, 0.25943802296390905, 0.25943802296390905, 0.25943802296390905, 1.004172601595878, 0.36293090098931535, 0.36293090098931535, 0.1366554619239443, 0.1366554619239443, 0.2733109238478886, 0.1366554619239443, 0.8693534083568998, 0.8831692106012654, 0.6905561699855732, 0.4347232890418618, 0.4347232890418618, 0.9437625352735448, 0.8850606171794064, 0.9378205865415008, 0.6371402578218545, 0.9397728985614728, 0.34418338756258243, 0.06883667751251649, 0.06883667751251649, 0.20651003253754946, 0.06883667751251649, 0.06883667751251649, 0.06883667751251649, 0.853387300430622, 0.13840004662153785, 0.13840004662153785, 0.13840004662153785, 0.13840004662153785, 0.13840004662153785, 0.7773751388857552, 0.8856371608589366, 0.2890090205698014, 0.2890090205698014, 0.2890090205698014, 0.8521130881851511, 0.9934834706733571, 0.4867712000335256, 0.16225706667784187, 0.16225706667784187, 0.10267165856417312, 0.2566791464104328, 0.10267165856417312, 0.05133582928208656, 0.05133582928208656, 0.05133582928208656, 0.05133582928208656, 0.05133582928208656, 0.05133582928208656, 0.05133582928208656, 0.05133582928208656, 0.05133582928208656, 0.05133582928208656, 0.8519341157610795, 0.19909291384354144, 0.19909291384354144, 0.3981858276870829, 0.19909291384354144, 0.8822048024947967, 0.3623159913009073, 0.18115799565045365, 0.18115799565045365, 0.915578866451942, 0.8550770649700596, 0.5404037155579493, 0.5404037155579493, 0.8492276053871652, 0.8553946793903163, 0.70260767806041, 0.3273027381638152, 0.3273027381638152, 0.9679530022747012, 0.5450449850464713, 0.9146294160470907, 0.3173386647780766, 0.3173386647780766, 0.7035612226778493, 0.49704051864371307, 0.24852025932185653, 0.9179893125290108, 0.6199540045969423, 0.30997700229847114, 0.9679530022747012, 0.6467238122201424, 0.3233619061100712, 0.9142027883696744, 0.749322807364887, 0.8538699592365625, 0.519586308876989, 0.519586308876989, 0.9202240931877798, 0.7778133992595678, 0.7795288875399007, 0.9451417418911784, 0.943970029058193, 0.20754856713674108, 0.20754856713674108, 0.20754856713674108, 0.20754856713674108, 0.9391624937540236, 0.9202240931877798, 0.9679530022747012, 0.8838505401892093, 0.5500101192775017, 0.9141340610247162, 0.529465962009923, 0.529465962009923, 0.4162234059337933, 0.20811170296689666, 0.20811170296689666, 0.20811170296689666, 0.5878868605689859, 0.5878868605689859, 0.8860254963395225, 0.9172193281219748, 0.6984215657321035, 0.8495184759522416, 0.4182196672244654, 0.4182196672244654, 0.5471893772494811, 0.5471893772494811, 0.6680233397319503, 0.8529599765888981, 0.4304128413720158, 0.9297001094290345, 0.28537869878862987, 0.42806804818294486, 0.14268934939431493, 0.14268934939431493, 0.5025294910584518, 0.8813215683459227, 0.5145547970272683, 0.1715182656757561, 0.1715182656757561, 0.9191527380989005, 0.7041535258020065, 0.5837595404605853, 0.9202240931877798, 0.7034594854090809, 1.0028505240783072, 0.4530539111088466, 0.15101797036961553, 0.15101797036961553, 0.15101797036961553, 0.8497039479555812, 0.8575145716975192, 0.690286378546754, 0.15150670050147194, 0.15150670050147194, 0.07575335025073597, 0.22726005075220793, 0.07575335025073597, 0.07575335025073597, 0.07575335025073597, 0.07575335025073597, 0.07575335025073597, 1.0056361092661543, 0.5412712421965594, 0.1583258290771008, 0.1583258290771008, 0.3166516581542016, 0.1583258290771008, 0.8945476692005108, 0.9679530022747012, 0.8511886228184202, 0.9942623496184616, 0.9519498371357036, 0.8533724203559042, 0.8825215461992264, 0.8720565803708082, 1.0099789248159188, 0.8825170104741207, 0.17793736185365927, 0.5338120855609778, 0.7769485889605997, 0.16644822657010264, 0.16644822657010264, 0.16644822657010264, 0.16644822657010264, 0.4386411566878131, 0.4386411566878131, 0.7036072461062108, 0.7023156839129461, 0.29914656753219165, 0.14957328376609583, 0.14957328376609583, 0.14957328376609583, 0.14957328376609583, 0.8546176912740053, 0.7778329563172655, 0.6325819063789963, 0.8535831954701049, 0.9953135762304552, 0.5470872398502293, 0.5470872398502293, 0.25602578780570295, 0.25602578780570295, 0.25602578780570295, 0.8551453684320258, 0.9449779251334353, 0.9162225876924912, 0.9345174913565141, 0.9202240931877798, 0.7776312433620576, 0.17745914463563803, 0.532377433906914, 0.6124028111963794, 0.9942411015019785, 0.23959386853147213, 0.23959386853147213, 0.23959386853147213, 0.23959386853147213, 0.8542307079606761, 0.850067577987579, 0.8551726169740732, 0.9202240931877798, 0.8533537574444736, 1.0113042511434793, 0.8533231493150314, 0.4806854926601886, 0.4806854926601886, 0.9679530022747012, 0.9822025579829459, 0.9172075215158446, 0.18765839571761536, 0.18765839571761536, 0.18765839571761536, 0.18765839571761536, 0.36317185095456356, 0.14526874038182544, 0.14526874038182544, 0.07263437019091272, 0.07263437019091272, 0.07263437019091272, 0.3596857443041177, 0.3596857443041177, 0.17984287215205885, 0.5056585590193068, 0.5056585590193068, 0.9202240931877798, 0.9426248759889925, 0.17537017532486066, 0.05845672510828689, 0.11691345021657377, 0.05845672510828689, 0.05845672510828689, 0.11691345021657377, 0.11691345021657377, 0.05845672510828689, 0.05845672510828689, 0.05845672510828689, 0.05845672510828689, 0.05845672510828689, 0.7029881646061189, 0.57894428101198, 0.916434379256264, 0.9202240931877798, 0.24049656056610808, 0.48099312113221615, 0.24049656056610808, 0.9679530022747012, 0.8526849640154905, 0.9864317237595207, 0.5440881042754225, 0.5440881042754225, 0.8534208965084608, 0.3188476860525425, 0.15942384302627124, 0.15942384302627124, 0.15942384302627124, 0.9413011634247456, 0.8504465257101644, 0.4394748685945673, 0.4394748685945673, 0.9679530022747012, 0.5707565183225266, 0.4862206014168472, 0.5360032825293901, 0.5360032825293901, 0.8839354233187122, 0.8543058647396804, 0.43019591888644954, 0.43019591888644954, 0.8672934284710565, 1.0088833905752839, 0.9431764213158149, 0.10741442632994089, 0.6444865579796454, 0.10741442632994089, 1.0140803925046937, 0.8840317963246298, 0.8970493914780973, 0.8517079643796863, 1.0105726729086102, 0.9202240931877798, 0.7021677353463569, 0.7772604582675431, 0.9372458684203202, 0.3561334416292731, 0.11871114720975769, 0.11871114720975769, 0.11871114720975769, 0.11871114720975769, 0.11871114720975769, 0.27124039565368313, 0.09041346521789438, 0.09041346521789438, 0.09041346521789438, 0.09041346521789438, 0.18082693043578876, 0.09041346521789438, 0.853279937344632, 0.16986080319417043, 0.16986080319417043, 0.16986080319417043, 0.16986080319417043, 0.6252219361306716, 0.20840731204355717, 0.6581493701471616, 0.9679530022747012, 0.8547740335362985, 0.982902606423377, 0.5161729513327079, 0.25808647566635395, 0.2969263884162453, 0.2969263884162453, 0.2969263884162453, 0.9928814006292819, 0.8527274289304493, 0.7034008296981976, 0.19967336302267463, 0.39934672604534927, 0.20982996851258104, 0.20982996851258104, 0.20982996851258104, 0.20982996851258104, 0.20982996851258104, 0.8504128510429076, 0.2296020371245508, 0.4592040742491016, 0.2296020371245508, 0.22431113517919446, 0.22431113517919446, 0.22431113517919446, 0.22431113517919446, 0.9189135415484407, 0.5244629205166115, 0.5244629205166115, 0.38059682068776224, 0.38059682068776224, 0.8531721052094715, 0.9930551016835069, 0.8549591285353977, 0.9454594642586261, 0.3880174379464115, 0.3880174379464115, 0.19400871897320576, 0.6133734161165235, 0.8682122263610764, 0.9409061154688261, 0.8581857530792223, 0.41082628895470774, 0.20541314447735387, 0.20541314447735387, 0.4515162853865261, 0.4515162853865261, 0.8585683697318554, 0.58735730233287, 0.58735730233287, 0.4397904744158929, 0.4397904744158929, 0.30294093269584504, 0.0504901554493075, 0.0504901554493075, 0.100980310898615, 0.0504901554493075, 0.0504901554493075, 0.100980310898615, 0.0504901554493075, 0.0504901554493075, 0.0504901554493075, 0.0504901554493075, 0.9151084867145093, 0.575147097440963, 0.575147097440963, 0.8539009341642892, 0.9679530022747012, 0.485223995926292, 0.485223995926292, 0.8510068089298373, 0.2955815624043422, 0.17734893744260533, 0.05911631248086844, 0.11823262496173688, 0.05911631248086844, 0.05911631248086844, 0.05911631248086844, 0.05911631248086844, 0.05911631248086844, 0.8557979054938216, 0.8823396454285158, 0.8549333592324451, 0.6083669468042985, 0.866111881679419, 0.5447221290648715, 0.5447221290648715, 0.9457724868813613, 0.7777559303257288, 1.0102805057981292, 0.6090277989490425, 0.9202240931877798, 0.4519060012991896, 0.4519060012991896, 0.8531223209140766, 0.8533364355191552, 0.777761412046633, 0.8541174395955349, 0.8495160997214333, 0.4606583504117067, 0.4606583504117067, 0.9437259069205646, 0.8675278921661953, 0.5474044001121036, 0.5474044001121036, 1.009591249818971, 0.49722332609268854, 0.49722332609268854, 0.17197044736050227, 0.17197044736050227, 0.17197044736050227, 0.17197044736050227, 0.17197044736050227, 0.5549803198894118, 1.0082335950914167, 0.8667064791843346, 0.49082989672174904, 0.49082989672174904, 0.8541167823309395, 0.7793297453846911, 0.1776361671812681, 0.5329085015438043, 0.2811355265602398, 0.16868131593614388, 0.05622710531204796, 0.05622710531204796, 0.05622710531204796, 0.11245421062409593, 0.05622710531204796, 0.05622710531204796, 0.05622710531204796, 0.05622710531204796, 0.7040830887108599, 0.7201728705993898, 0.608314933265084, 0.8580956234229934, 0.8596002248122817, 0.7025805805568455, 0.6412480934865448, 0.9679530022747012, 0.8839673949331246, 0.5947235473905678, 0.8563805175864784, 1.0056392136398629, 0.7808081393210317, 0.500497489908186, 0.9679530022747012, 1.0116708549044489, 0.1503301362092584, 0.3006602724185168, 0.1503301362092584, 0.1503301362092584, 0.1503301362092584, 0.883463223525012, 1.0098819168250586, 1.0059421169545022, 0.45538952853748027, 0.45538952853748027, 0.9426821012233048, 0.24959334787900342, 0.062398336969750855, 0.12479667393950171, 0.12479667393950171, 0.12479667393950171, 0.062398336969750855, 0.062398336969750855, 0.062398336969750855, 0.062398336969750855, 0.6935040871093137, 0.17337602177732842, 0.6523568834261083, 0.32617844171305416, 0.5852885110399687, 0.5852885110399687, 0.7023475114844934, 0.6407061330498829, 1.0092253221138154, 0.8541458002278645, 0.9152859319230149, 0.7029899824908207, 0.527057821337458, 0.33792097077745803, 0.33792097077745803, 0.5467650438791831, 0.5467650438791831, 0.9973333293185246, 0.7811415678481228, 0.5820078367459367, 0.5820078367459367, 0.5343994746125603, 0.7787153442878815, 0.8552996309952141, 0.8537416254169005, 0.9463567888218868, 0.9141483174191504, 0.8558783031018925, 0.9679530022747012, 1.0128293748026778, 0.8552344195626551, 0.8539553167794459, 0.3570043091985618, 0.3570043091985618, 0.8524526750224232, 0.8670833191855905, 0.6341507369181569, 0.31707536845907847, 0.9436473816266381, 0.8476279789499512, 0.5933786601620751, 0.4288349380082967, 0.4288349380082967, 0.7772379822080292, 0.5758194076243316, 0.9391305184635287, 0.7021593936805192, 0.8514846194391921, 0.26845778162955863, 0.26845778162955863, 0.26845778162955863, 0.8622696306145327, 0.9202240931877798, 0.6330852985151029, 0.6523967293819758, 0.2174655764606586, 0.2174655764606586, 0.4377653552768368, 0.4377653552768368, 0.9679530022747012, 0.9936727237888588, 0.8781528275895634, 0.9445479218263738, 0.9947546860400487, 0.8745707444971422, 0.7774715719827949, 0.8757565452863005, 0.6630590946999323, 0.946994256609261, 0.38451934710986374, 0.1281731157032879, 0.1281731157032879, 0.1281731157032879, 0.1281731157032879, 0.3182259869893908, 0.3182259869893908, 0.3182259869893908, 0.9679530022747012, 0.9832314270353367, 0.9837199180072452], \"Term\": [\"\", \"\", \"!!!!\", \"\\\"\", \"\\\"\", \"10\", \"128\", \"15\", \"15\", \"199\", \"199\", \"20\", \"255\", \"29\", \"300\", \"39\", \"399\", \"4.0\", \"40\", \"49\", \"5\", \"5\", \"500\", \"555\", \"555\", \"555\", \"6\", \"600\", \"600\", \"::\", \"G\", \"G\", \"HALL\", \"MCC\", \"Menu\", \"Number\", \"VAT\", \"^^\", \"xx\", \"\\u0e01\\u0e01\", \"\\u0e01\\u0e01\", \"\\u0e01\\u0e14\", \"\\u0e01\\u0e23\\u0e23\\u0e21\\u0e27\\u0e34\\u0e18\\u0e35\", \"\\u0e01\\u0e25\\u0e22\\u0e38\\u0e17\\u0e18\\u0e4c\", \"\\u0e01\\u0e25\\u0e31\\u0e1a\\u0e21\\u0e32\", \"\\u0e01\\u0e25\\u0e32\\u0e22\", \"\\u0e01\\u0e30\\u0e1b\\u0e34\", \"\\u0e01\\u0e30\\u0e1b\\u0e34\", \"\\u0e01\\u0e30\\u0e1b\\u0e34\", \"\\u0e01\\u0e30\\u0e1b\\u0e34\", \"\\u0e01\\u0e30\\u0e1b\\u0e34\", \"\\u0e01\\u0e32\", \"\\u0e01\\u0e32\\u0e41\\u0e1f\", \"\\u0e01\\u0e33\", \"\\u0e01\\u0e34\\u0e19\\u0e17\\u0e35\\u0e48\", \"\\u0e01\\u0e35\\u0e48\", \"\\u0e01\\u0e38\\u0e49\\u0e07\", \"\\u0e01\\u0e38\\u0e49\\u0e07\", \"\\u0e01\\u0e4c\", \"\\u0e02\\u0e19\\u0e32\\u0e14\", \"\\u0e02\\u0e22\\u0e31\\u0e19\", \"\\u0e02\\u0e22\\u0e31\\u0e19\", \"\\u0e02\\u0e27\\u0e31\\u0e0d\\u0e43\\u0e08\", \"\\u0e02\\u0e2d\\u0e07\\u0e2b\\u0e27\\u0e32\\u0e19\", \"\\u0e02\\u0e2d\\u0e07\\u0e2b\\u0e27\\u0e32\\u0e19\", \"\\u0e02\\u0e2d\\u0e07\\u0e2b\\u0e27\\u0e32\\u0e19\", \"\\u0e02\\u0e2d\\u0e07\\u0e2b\\u0e27\\u0e32\\u0e19\", \"\\u0e02\\u0e2d\\u0e07\\u0e2b\\u0e27\\u0e32\\u0e19\", \"\\u0e02\\u0e2d\\u0e07\\u0e2b\\u0e27\\u0e32\\u0e19\", \"\\u0e02\\u0e32\", \"\\u0e02\\u0e49\\u0e19\", \"\\u0e02\\u0e49\\u0e2d\\u0e14\\u0e35\", \"\\u0e02\\u0e49\\u0e32\\u0e07\\u0e19\\u0e2d\\u0e01\", \"\\u0e02\\u0e49\\u0e32\\u0e27\\u0e1b\\u0e31\\u0e49\\u0e19\", \"\\u0e04\\u0e19\", \"\\u0e04\\u0e19\", \"\\u0e04\\u0e19\", \"\\u0e04\\u0e19\", \"\\u0e04\\u0e19\\u0e25\\u0e30\", \"\\u0e04\\u0e19\\u0e25\\u0e30\", \"\\u0e04\\u0e19\\u0e25\\u0e30\", \"\\u0e04\\u0e19\\u0e40\\u0e14\\u0e35\\u0e22\\u0e27\", \"\\u0e04\\u0e23\\u0e35\\u0e21\", \"\\u0e04\\u0e27\\u0e32\\u0e21\\u0e15\\u0e49\\u0e2d\\u0e07\\u0e01\\u0e32\\u0e23\", \"\\u0e04\\u0e2d\", \"\\u0e04\\u0e2d\", \"\\u0e04\\u0e2d\", \"\\u0e04\\u0e30\\u0e41\\u0e19\\u0e19\", \"\\u0e04\\u0e34\\u0e27\", \"\\u0e04\\u0e34\\u0e27\", \"\\u0e04\\u0e34\\u0e27\", \"\\u0e04\\u0e38\\u0e13\\u0e20\\u0e32\\u0e1e\", \"\\u0e04\\u0e38\\u0e13\\u0e20\\u0e32\\u0e1e\", \"\\u0e04\\u0e38\\u0e13\\u0e20\\u0e32\\u0e1e\", \"\\u0e04\\u0e38\\u0e13\\u0e20\\u0e32\\u0e1e\", \"\\u0e04\\u0e38\\u0e13\\u0e20\\u0e32\\u0e1e\", \"\\u0e04\\u0e38\\u0e49\\u0e21\", \"\\u0e04\\u0e38\\u0e49\\u0e21\", \"\\u0e04\\u0e38\\u0e49\\u0e21\", \"\\u0e04\\u0e38\\u0e49\\u0e21\", \"\\u0e04\\u0e38\\u0e49\\u0e21\\u0e04\\u0e48\\u0e32\", \"\\u0e04\\u0e38\\u0e49\\u0e21\\u0e04\\u0e48\\u0e32\", \"\\u0e04\\u0e38\\u0e49\\u0e21\\u0e04\\u0e48\\u0e32\", \"\\u0e04\\u0e38\\u0e49\\u0e21\\u0e04\\u0e48\\u0e32\", \"\\u0e04\\u0e48\\u0e32\", \"\\u0e04\\u0e48\\u0e32\\u0e19\\u0e49\\u0e33\", \"\\u0e04\\u0e48\\u0e32\\u0e22\\u0e21\\u0e27\\u0e22\", \"\\u0e07\\u0e27\\u0e14\", \"\\u0e07\\u0e32\\u0e19\", \"\\u0e07\\u0e32\\u0e19\", \"\\u0e08\\u0e1a\", \"\\u0e08\\u0e2d\\u0e07\", \"\\u0e08\\u0e32\\u0e19\", \"\\u0e08\\u0e32\\u0e19\", \"\\u0e08\\u0e32\\u0e19\", \"\\u0e08\\u0e32\\u0e19\", \"\\u0e08\\u0e33\\u0e01\\u0e31\\u0e14\", \"\\u0e08\\u0e34\\u0e49\\u0e21\", \"\\u0e08\\u0e34\\u0e49\\u0e21\", \"\\u0e08\\u0e38\\u0e01\", \"\\u0e08\\u0e48\\u0e32\\u0e22\", \"\\u0e08\\u0e48\\u0e32\\u0e22\", \"\\u0e08\\u0e48\\u0e32\\u0e22\", \"\\u0e0a\\u0e21.\", \"\\u0e0a\\u0e21.\", \"\\u0e0a\\u0e2d\\u0e04\", \"\\u0e0a\\u0e2d\\u0e1a\", \"\\u0e0a\\u0e2d\\u0e1a\", \"\\u0e0a\\u0e2d\\u0e1a\", \"\\u0e0a\\u0e2d\\u0e1a\", \"\\u0e0a\\u0e2d\\u0e1a\", \"\\u0e0a\\u0e2d\\u0e1b\", \"\\u0e0a\\u0e31\\u0e48\\u0e27\\u0e04\\u0e23\\u0e32\\u0e27\", \"\\u0e0a\\u0e31\\u0e48\\u0e27\\u0e42\\u0e21\\u0e07\", \"\\u0e0a\\u0e31\\u0e48\\u0e27\\u0e42\\u0e21\\u0e07\", \"\\u0e0a\\u0e31\\u0e49\\u0e19\", \"\\u0e0a\\u0e31\\u0e49\\u0e19\", \"\\u0e0a\\u0e31\\u0e49\\u0e19\", \"\\u0e0a\\u0e32\\u0e15\", \"\\u0e0a\\u0e32\\u0e40\\u0e02\\u0e35\\u0e22\\u0e27\", \"\\u0e0a\\u0e32\\u0e40\\u0e02\\u0e35\\u0e22\\u0e27\", \"\\u0e0a\\u0e34\", \"\\u0e0a\\u0e34\", \"\\u0e0a\\u0e34\", \"\\u0e0a\\u0e34\", \"\\u0e0a\\u0e37\\u0e48\\u0e19\", \"\\u0e0a\\u0e37\\u0e48\\u0e19\\u0e43\\u0e08\", \"\\u0e0a\\u0e37\\u0e48\\u0e2d\", \"\\u0e0a\\u0e38\\u0e14\", \"\\u0e0a\\u0e38\\u0e14\", \"\\u0e0a\\u0e48\\u0e2d\\u0e07\", \"\\u0e0b\\u0e30\\u0e07\\u0e31\\u0e49\\u0e19\", \"\\u0e0b\\u0e35\", \"\\u0e0b\\u0e36\", \"\\u0e0b\\u0e36\\u0e1b\", \"\\u0e0b\\u0e38\\u0e1b\", \"\\u0e0b\\u0e38\\u0e1b\", \"\\u0e0b\\u0e38\\u0e1b\", \"\\u0e0b\\u0e38\\u0e1b\", \"\\u0e0b\\u0e38\\u0e1b\", \"\\u0e0b\\u0e38\\u0e1b\", \"\\u0e0b\\u0e38\\u0e1b\", \"\\u0e0b\\u0e38\\u0e49\\u0e21\", \"\\u0e0b\\u0e39\\u0e0a\\u0e34\", \"\\u0e0b\\u0e39\\u0e0a\\u0e34\", \"\\u0e0b\\u0e39\\u0e0a\\u0e34\", \"\\u0e0b\\u0e39\\u0e0a\\u0e34\", \"\\u0e0b\\u0e39\\u0e0a\\u0e34\", \"\\u0e0b\\u0e48\\u0e32\", \"\\u0e0d\\u0e35\\u0e48\", \"\\u0e0d\\u0e35\\u0e48\\u0e1b\\u0e38\\u0e48\\u0e19\", \"\\u0e0d\\u0e35\\u0e48\\u0e1b\\u0e38\\u0e48\\u0e19\", \"\\u0e0d\\u0e35\\u0e48\\u0e1b\\u0e38\\u0e48\\u0e19\", \"\\u0e13\\u0e4c\", \"\\u0e14\\u0e31\\u0e07\\u0e40\\u0e14\\u0e34\\u0e21\", \"\\u0e14\\u0e33\", \"\\u0e14\\u0e33\", \"\\u0e14\\u0e33\", \"\\u0e14\\u0e35\", \"\\u0e14\\u0e35\", \"\\u0e14\\u0e35\", \"\\u0e14\\u0e35\", \"\\u0e14\\u0e35\", \"\\u0e14\\u0e35\", \"\\u0e14\\u0e35\", \"\\u0e14\\u0e35\", \"\\u0e14\\u0e35\", \"\\u0e14\\u0e35\", \"\\u0e14\\u0e35\", \"\\u0e14\\u0e35\", \"\\u0e14\\u0e35\", \"\\u0e14\\u0e35\\u0e02\\u0e36\\u0e49\\u0e19\", \"\\u0e14\\u0e35\\u0e21\\u0e32\\u0e01\", \"\\u0e14\\u0e35\\u0e21\\u0e32\\u0e01\", \"\\u0e14\\u0e35\\u0e21\\u0e32\\u0e01\", \"\\u0e14\\u0e35\\u0e21\\u0e32\\u0e01\", \"\\u0e14\\u0e36\\u0e01\", \"\\u0e14\\u0e39\", \"\\u0e14\\u0e39\", \"\\u0e14\\u0e39\", \"\\u0e14\\u0e49\\u0e32\\u0e19\\u0e43\\u0e19\", \"\\u0e15\", \"\\u0e15\\u0e1a\\u0e17\\u0e49\\u0e32\\u0e22\", \"\\u0e15\\u0e1a\\u0e17\\u0e49\\u0e32\\u0e22\", \"\\u0e15\\u0e23\\u0e07\\u0e02\\u0e49\\u0e32\\u0e21\", \"\\u0e15\\u0e23\\u0e07\\u0e19\\u0e35\\u0e49\", \"\\u0e15\\u0e25\\u0e31\\u0e1a\", \"\\u0e15\\u0e2d\\u0e19\", \"\\u0e15\\u0e2d\\u0e19\", \"\\u0e15\\u0e2d\\u0e19\\u0e17\\u0e35\\u0e48\", \"\\u0e15\\u0e2d\\u0e19\\u0e19\\u0e35\\u0e49\", \"\\u0e15\\u0e2d\\u0e19\\u0e41\\u0e23\\u0e01\", \"\\u0e15\\u0e31\\u0e01\", \"\\u0e15\\u0e31\\u0e01\", \"\\u0e15\\u0e31\\u0e1a\", \"\\u0e15\\u0e31\\u0e27\", \"\\u0e15\\u0e31\\u0e27\", \"\\u0e15\\u0e31\\u0e27\\u0e40\\u0e25\\u0e37\\u0e2d\\u0e01\", \"\\u0e15\\u0e31\\u0e49\\u0e07\\u0e2d\\u0e22\\u0e39\\u0e48\", \"\\u0e15\\u0e31\\u0e49\\u0e07\\u0e2d\\u0e22\\u0e39\\u0e48\", \"\\u0e15\\u0e33\", \"\\u0e15\\u0e34\\u0e14\", \"\\u0e15\\u0e34\\u0e14\", \"\\u0e15\\u0e34\\u0e14\\u0e01\\u0e31\\u0e1a\", \"\\u0e15\\u0e48\\u0e32\\u0e07 \\u0e46\", \"\\u0e15\\u0e49\\u0e21\", \"\\u0e15\\u0e49\\u0e21\\u0e22\\u0e33\", \"\\u0e15\\u0e49\\u0e21\\u0e22\\u0e33\", \"\\u0e15\\u0e49\\u0e2d\\u0e07\\u0e01\\u0e32\\u0e23\", \"\\u0e16\\u0e32\\u0e14\", \"\\u0e16\\u0e32\\u0e21\", \"\\u0e16\\u0e39\\u0e01\\u0e2b\\u0e27\\u0e22\", \"\\u0e16\\u0e49\\u0e27\\u0e22\", \"\\u0e17\\u0e2d\\u0e14\", \"\\u0e17\\u0e2d\\u0e14\", \"\\u0e17\\u0e2d\\u0e14\", \"\\u0e17\\u0e2d\\u0e14\", \"\\u0e17\\u0e2d\\u0e19\", \"\\u0e17\\u0e31\\u0e48\\u0e27\\u0e16\\u0e36\\u0e07\", \"\\u0e17\\u0e31\\u0e48\\u0e27\\u0e44\\u0e1b\", \"\\u0e17\\u0e32\\u0e19\\u0e2d\\u0e32\\u0e2b\\u0e32\\u0e23\", \"\\u0e17\\u0e35\\u0e48\\u0e19\\u0e31\\u0e48\\u0e07\", \"\\u0e17\\u0e35\\u0e48\\u0e44\\u0e2b\\u0e19\\u0e44\\u0e14\\u0e49\", \"\\u0e17\\u0e48\\u0e32\\u0e19\", \"\\u0e17\\u0e48\\u0e32\\u0e19\", \"\\u0e18\\u0e23\\u0e23\\u0e21\\u0e14\\u0e32\", \"\\u0e18\\u0e23\\u0e23\\u0e21\\u0e14\\u0e32\", \"\\u0e18\\u0e23\\u0e23\\u0e21\\u0e14\\u0e32\", \"\\u0e18\\u0e23\\u0e23\\u0e21\\u0e14\\u0e32\", \"\\u0e19\", \"\\u0e19\", \"\\u0e19\\u0e1e\", \"\\u0e19\\u0e21\", \"\\u0e19\\u0e30\\u0e04\\u0e30\", \"\\u0e19\\u0e31\\u0e25\", \"\\u0e19\\u0e31\\u0e48\\u0e07\", \"\\u0e19\\u0e31\\u0e48\\u0e07\", \"\\u0e19\\u0e32\", \"\\u0e19\\u0e32\", \"\\u0e19\\u0e32\\u0e17\\u0e35\", \"\\u0e19\\u0e34\", \"\\u0e19\\u0e36\\u0e01\\u0e16\\u0e36\\u0e07\", \"\\u0e19\\u0e36\\u0e07\", \"\\u0e19\\u0e38\\u0e48\\u0e21\", \"\\u0e19\\u0e38\\u0e48\\u0e21\", \"\\u0e19\\u0e38\\u0e48\\u0e21\", \"\\u0e19\\u0e38\\u0e48\\u0e21\", \"\\u0e19\\u0e48\\u0e32\\u0e23\\u0e31\\u0e01\", \"\\u0e19\\u0e49\\u0e30\", \"\\u0e19\\u0e49\\u0e33\\u0e08\\u0e34\\u0e49\\u0e21\", \"\\u0e19\\u0e49\\u0e33\\u0e08\\u0e34\\u0e49\\u0e21\", \"\\u0e19\\u0e49\\u0e33\\u0e08\\u0e34\\u0e49\\u0e21\", \"\\u0e19\\u0e49\\u0e33\\u0e14\\u0e37\\u0e48\\u0e21\", \"\\u0e19\\u0e49\\u0e33\\u0e21\\u0e31\\u0e19\", \"\\u0e19\\u0e4d\\u0e49\\u0e32\", \"\\u0e1a\", \"\\u0e1a\\u0e14\\u0e35\", \"\\u0e1a\\u0e23\\u0e32\", \"\\u0e1a\\u0e23\\u0e34\\u0e01\\u0e32\\u0e23\", \"\\u0e1a\\u0e23\\u0e34\\u0e01\\u0e32\\u0e23\", \"\\u0e1a\\u0e23\\u0e34\\u0e01\\u0e32\\u0e23\", \"\\u0e1a\\u0e23\\u0e34\\u0e01\\u0e32\\u0e23\", \"\\u0e1a\\u0e23\\u0e34\\u0e40\\u0e27\\u0e13\", \"\\u0e1a\\u0e31\\u0e15\\u0e23\\u0e2a\\u0e21\\u0e32\\u0e0a\\u0e34\\u0e01\", \"\\u0e1a\\u0e32\\u0e07\\u0e2a\\u0e48\\u0e27\\u0e19\", \"\\u0e1a\\u0e32\\u0e17\", \"\\u0e1a\\u0e32\\u0e17\", \"\\u0e1a\\u0e32\\u0e17\", \"\\u0e1a\\u0e32\\u0e17\", \"\\u0e1a\\u0e32\\u0e17\", \"\\u0e1a\\u0e32\\u0e17\", \"\\u0e1a\\u0e32\\u0e17\", \"\\u0e1a\\u0e32\\u0e17\", \"\\u0e1a\\u0e32\\u0e17\", \"\\u0e1a\\u0e38\\u0e1e\", \"\\u0e1a\\u0e38\\u0e1f\\u0e40\\u0e1f\\u0e15\\u0e4c\", \"\\u0e1a\\u0e38\\u0e1f\\u0e40\\u0e1f\\u0e48\\u0e15\\u0e4c\", \"\\u0e1a\\u0e38\\u0e1f\\u0e40\\u0e1f\\u0e48\\u0e15\\u0e4c\", \"\\u0e1a\\u0e38\\u0e1f\\u0e40\\u0e1f\\u0e48\\u0e15\\u0e4c\", \"\\u0e1a\\u0e38\\u0e1f\\u0e40\\u0e1f\\u0e48\\u0e15\\u0e4c\", \"\\u0e1a\\u0e39\", \"\\u0e1a\\u0e4a\\u0e27\\u0e22\", \"\\u0e1b\", \"\\u0e1b\\u0e23\\u0e30\", \"\\u0e1b\\u0e23\\u0e30\\u0e17\\u0e31\\u0e1a\\u0e43\\u0e08\", \"\\u0e1b\\u0e23\\u0e31\\u0e1a\\u0e1b\\u0e23\\u0e38\\u0e07\", \"\\u0e1b\\u0e25\\u0e32\", \"\\u0e1b\\u0e2d\\u0e01\\u0e40\\u0e1b\\u0e25\\u0e37\\u0e2d\\u0e01\", \"\\u0e1b\\u0e34\\u0e14\\u0e17\\u0e49\\u0e32\\u0e22\", \"\\u0e1b\\u0e38\", \"\\u0e1b\\u0e38\\u0e23\\u0e30\", \"\\u0e1b\\u0e38\\u0e23\\u0e30\", \"\\u0e1b\\u0e39\\u0e2d\\u0e31\\u0e14\", \"\\u0e1c\\u0e31\\u0e01\", \"\\u0e1c\\u0e31\\u0e01\", \"\\u0e1c\\u0e31\\u0e01\", \"\\u0e1c\\u0e31\\u0e01\", \"\\u0e1c\\u0e34\\u0e14\\u0e2b\\u0e27\\u0e31\\u0e07\", \"\\u0e1c\\u0e34\\u0e14\\u0e2b\\u0e27\\u0e31\\u0e07\", \"\\u0e1d\\u0e23\\u0e31\\u0e48\\u0e07\", \"\\u0e1d\\u0e31\\u0e48\\u0e07\", \"\\u0e1e\\u0e19\\u0e31\\u0e01\\u0e07\\u0e32\\u0e19\", \"\\u0e1e\\u0e19\\u0e31\\u0e01\\u0e07\\u0e32\\u0e19\", \"\\u0e1e\\u0e19\\u0e31\\u0e01\\u0e07\\u0e32\\u0e19\", \"\\u0e1e\\u0e19\\u0e31\\u0e01\\u0e07\\u0e32\\u0e19\", \"\\u0e1e\\u0e19\\u0e31\\u0e01\\u0e07\\u0e32\\u0e19\", \"\\u0e1e\\u0e25\\u0e32\\u0e14\", \"\\u0e1e\\u0e2d\\u0e01\\u0e31\\u0e1a\", \"\\u0e1e\\u0e2d\\u0e19\", \"\\u0e1e\\u0e2d\\u0e44\\u0e14\\u0e49\", \"\\u0e1e\\u0e32\\u0e23\\u0e32\", \"\\u0e1e\\u0e34\\u0e0b\", \"\\u0e1e\\u0e34\\u0e0b\", \"\\u0e1e\\u0e34\\u0e0b\\u0e0b\\u0e48\\u0e32\", \"\\u0e1e\\u0e34\\u0e0b\\u0e0b\\u0e48\\u0e32\", \"\\u0e1e\\u0e34\\u0e0b\\u0e0b\\u0e48\\u0e32\", \"\\u0e1e\\u0e35\\u0e48\", \"\\u0e1f\\u0e23\\u0e35\", \"\\u0e1f\\u0e35\", \"\\u0e1f\\u0e39\\u0e49\\u0e14\", \"\\u0e1f\\u0e40\\u0e1f\", \"\\u0e20\\u0e32\\u0e1e\", \"\\u0e21\", \"\\u0e21\", \"\\u0e21\\u0e21\\u0e32\\u0e01\", \"\\u0e21\\u0e2d\", \"\\u0e21\\u0e2d\\u0e25\\u0e25\\u0e4c\", \"\\u0e21\\u0e2d\\u0e25\\u0e25\\u0e4c\", \"\\u0e21\\u0e2d\\u0e25\\u0e25\\u0e4c\", \"\\u0e21\\u0e2d\\u0e25\\u0e25\\u0e4c\", \"\\u0e21\\u0e30\\u0e19\\u0e32\\u0e27\", \"\\u0e21\\u0e31\\u0e19\\u0e14\\u0e35\", \"\\u0e21\\u0e32\\u0e01\\u0e02\\u0e36\\u0e49\\u0e19\", \"\\u0e21\\u0e35\\u0e48\", \"\\u0e21\\u0e38\", \"\\u0e22\", \"\\u0e22\\u0e2d\\u0e14\", \"\\u0e22\\u0e31\\u0e07\\u0e21\\u0e35\", \"\\u0e22\\u0e31\\u0e07\\u0e21\\u0e35\", \"\\u0e22\\u0e38\", \"\\u0e22\\u0e38\\u0e04\", \"\\u0e22\\u0e39\", \"\\u0e23\\u0e2a\", \"\\u0e23\\u0e2a\", \"\\u0e23\\u0e2a\", \"\\u0e23\\u0e2a\", \"\\u0e23\\u0e2a\\u0e0a\\u0e32\\u0e15\\u0e34\", \"\\u0e23\\u0e2a\\u0e0a\\u0e32\\u0e15\\u0e34\", \"\\u0e23\\u0e2a\\u0e0a\\u0e32\\u0e15\\u0e34\", \"\\u0e23\\u0e2a\\u0e0a\\u0e32\\u0e15\\u0e34\", \"\\u0e23\\u0e2a\\u0e0a\\u0e32\\u0e15\\u0e34\", \"\\u0e23\\u0e2a\\u0e0a\\u0e32\\u0e15\\u0e34\", \"\\u0e23\\u0e2d\", \"\\u0e23\\u0e2d\", \"\\u0e23\\u0e2d\", \"\\u0e23\\u0e2d\\u0e1a\", \"\\u0e23\\u0e2d\\u0e1a\", \"\\u0e23\\u0e30\\u0e1a\\u0e1a\", \"\\u0e23\\u0e31\\u0e1a\\u0e1b\\u0e23\\u0e30\\u0e01\\u0e31\\u0e19\", \"\\u0e23\\u0e32\\u0e04\\u0e32\", \"\\u0e23\\u0e32\\u0e04\\u0e32\", \"\\u0e23\\u0e32\\u0e04\\u0e32\", \"\\u0e23\\u0e32\\u0e04\\u0e32\", \"\\u0e23\\u0e32\\u0e04\\u0e32\", \"\\u0e23\\u0e32\\u0e04\\u0e32\", \"\\u0e23\\u0e32\\u0e04\\u0e32\", \"\\u0e23\\u0e32\\u0e04\\u0e32\", \"\\u0e23\\u0e32\\u0e04\\u0e32\", \"\\u0e23\\u0e32\\u0e04\\u0e32\", \"\\u0e23\\u0e32\\u0e04\\u0e32\", \"\\u0e23\\u0e32\\u0e04\\u0e32\", \"\\u0e23\\u0e32\\u0e22\\u0e01\\u0e32\\u0e23\", \"\\u0e23\\u0e32\\u0e22\\u0e25\\u0e30\\u0e40\\u0e2d\\u0e35\\u0e22\\u0e14\", \"\\u0e23\\u0e35\", \"\\u0e23\\u0e35\\u0e27\\u0e34\\u0e27\", \"\\u0e23\\u0e39\\u0e49\\u0e2a\\u0e36\\u0e01\", \"\\u0e23\\u0e39\\u0e49\\u0e2a\\u0e36\\u0e01\", \"\\u0e23\\u0e39\\u0e49\\u0e2a\\u0e36\\u0e01\", \"\\u0e23\\u0e49\\u0e2d\\u0e19\", \"\\u0e23\\u0e49\\u0e2d\\u0e22\", \"\\u0e23\\u0e49\\u0e32\\u0e19\\u0e2d\\u0e32\\u0e2b\\u0e32\\u0e23\", \"\\u0e25\", \"\\u0e25\", \"\\u0e25\\u0e07\\u0e40\\u0e2d\\u0e22\", \"\\u0e25\\u0e2d\\u0e07\", \"\\u0e25\\u0e2d\\u0e07\", \"\\u0e25\\u0e2d\\u0e07\", \"\\u0e25\\u0e2d\\u0e07\", \"\\u0e25\\u0e2d\\u0e15\\u0e40\\u0e15\\u0e2d\\u0e23\\u0e35\\u0e48\", \"\\u0e25\\u0e32\\u0e19\", \"\\u0e25\\u0e37\\u0e21\", \"\\u0e25\\u0e37\\u0e21\", \"\\u0e25\\u0e38\\u0e22\", \"\\u0e25\\u0e39\\u0e01\\u0e04\\u0e49\\u0e32\", \"\\u0e25\\u0e39\\u0e01\\u0e0a\\u0e34\\u0e49\\u0e19\", \"\\u0e27\", \"\\u0e27\", \"\\u0e27\\u0e01\", \"\\u0e27\\u0e31\\u0e19\\u0e01\\u0e48\\u0e2d\\u0e19\", \"\\u0e27\\u0e32\\u0e07\", \"\\u0e27\\u0e32\\u0e07\", \"\\u0e27\\u0e32\\u0e19\\u0e34\\u0e25\\u0e32\", \"\\u0e27\\u0e34\\u0e1b\", \"\\u0e2a\", \"\\u0e2a\\u0e14\", \"\\u0e2a\\u0e14\", \"\\u0e2a\\u0e14\", \"\\u0e2a\\u0e21\\u0e23\\u0e32\\u0e04\\u0e32\", \"\\u0e2a\\u0e21\\u0e43\\u0e08\", \"\\u0e2a\\u0e23\\u0e38\\u0e1b\", \"\\u0e2a\\u0e25\\u0e31\\u0e14\", \"\\u0e2a\\u0e27\\u0e22\", \"\\u0e2a\\u0e27\\u0e31\\u0e2a\\u0e14\\u0e35\", \"\\u0e2a\\u0e30\\u0e2d\\u0e32\\u0e14\", \"\\u0e2a\\u0e30\\u0e2d\\u0e32\\u0e14\\u0e2a\\u0e30\\u0e2d\\u0e49\\u0e32\\u0e19\", \"\\u0e2a\\u0e31\\u0e1b\\u0e14\\u0e32\\u0e2b\\u0e4c\", \"\\u0e2a\\u0e31\\u0e48\\u0e07\", \"\\u0e2a\\u0e31\\u0e48\\u0e07\", \"\\u0e2a\\u0e31\\u0e48\\u0e07\", \"\\u0e2a\\u0e31\\u0e48\\u0e07\", \"\\u0e2a\\u0e31\\u0e48\\u0e07\", \"\\u0e2a\\u0e31\\u0e48\\u0e07\", \"\\u0e2a\\u0e32\\u0e02\\u0e32\", \"\\u0e2a\\u0e32\\u0e02\\u0e32\", \"\\u0e2a\\u0e32\\u0e02\\u0e32\", \"\\u0e2a\\u0e32\\u0e02\\u0e32\", \"\\u0e2a\\u0e32\\u0e02\\u0e32\", \"\\u0e2a\\u0e32\\u0e02\\u0e32\", \"\\u0e2a\\u0e32\\u0e02\\u0e32\", \"\\u0e2a\\u0e32\\u0e21\", \"\\u0e2a\\u0e32\\u0e22\\u0e1e\\u0e32\\u0e19\", \"\\u0e2a\\u0e32\\u0e22\\u0e1e\\u0e32\\u0e19\", \"\\u0e2a\\u0e32\\u0e22\\u0e1e\\u0e32\\u0e19\", \"\\u0e2a\\u0e32\\u0e22\\u0e1e\\u0e32\\u0e19\", \"\\u0e2a\\u0e33\\u0e2b\\u0e23\\u0e31\\u0e1a\", \"\\u0e2a\\u0e33\\u0e2b\\u0e23\\u0e31\\u0e1a\", \"\\u0e2a\\u0e38\\u0e01\\u0e35\\u0e49\", \"\\u0e2a\\u0e38\\u0e01\\u0e35\\u0e49\\u0e22\\u0e32\\u0e01\\u0e35\\u0e49\", \"\\u0e2a\\u0e38\\u0e14\\u0e17\\u0e49\\u0e32\\u0e22\", \"\\u0e2a\\u0e44\\u0e15\\u0e25\\u0e4c\", \"\\u0e2a\\u0e44\\u0e25\\u0e14\\u0e4c\", \"\\u0e2a\\u0e44\\u0e25\\u0e14\\u0e4c\", \"\\u0e2a\\u0e48\\u0e27\\u0e19\\u0e15\\u0e31\\u0e27\", \"\\u0e2a\\u0e48\\u0e27\\u0e19\\u0e15\\u0e31\\u0e27\", \"\\u0e2a\\u0e48\\u0e27\\u0e19\\u0e15\\u0e31\\u0e27\", \"\\u0e2a\\u0e4c\", \"\\u0e2b\", \"\\u0e2b\\u0e19\\u0e32\", \"\\u0e2b\\u0e19\\u0e49\\u0e32\", \"\\u0e2b\\u0e19\\u0e49\\u0e32\", \"\\u0e2b\\u0e21\\u0e39\", \"\\u0e2b\\u0e21\\u0e39\", \"\\u0e2b\\u0e21\\u0e39\", \"\\u0e2b\\u0e21\\u0e39\", \"\\u0e2b\\u0e21\\u0e39\", \"\\u0e2b\\u0e21\\u0e39\\u0e48\\u0e04\\u0e13\\u0e30\", \"\\u0e2b\\u0e21\\u0e49\\u0e2d\", \"\\u0e2b\\u0e21\\u0e49\\u0e2d\", \"\\u0e2b\\u0e21\\u0e49\\u0e2d\", \"\\u0e2b\\u0e22\\u0e34\\u0e1a\", \"\\u0e2b\\u0e22\\u0e34\\u0e1a\", \"\\u0e2b\\u0e22\\u0e34\\u0e1a\", \"\\u0e2b\\u0e22\\u0e34\\u0e1a\", \"\\u0e2b\\u0e25\\u0e31\\u0e07\\u0e08\\u0e32\\u0e01\\u0e17\\u0e35\\u0e48\", \"\\u0e2b\\u0e25\\u0e32\\u0e01\", \"\\u0e2b\\u0e25\\u0e32\\u0e01\", \"\\u0e2b\\u0e25\\u0e32\\u0e01\\u0e2b\\u0e25\\u0e32\\u0e22\", \"\\u0e2b\\u0e25\\u0e32\\u0e01\\u0e2b\\u0e25\\u0e32\\u0e22\", \"\\u0e2b\\u0e25\\u0e32\\u0e22\\u0e04\\u0e23\\u0e31\\u0e49\\u0e07\", \"\\u0e2b\\u0e25\\u0e32\\u0e22\\u0e0a\\u0e19\\u0e34\\u0e14\", \"\\u0e2b\\u0e25\\u0e48\\u0e30\", \"\\u0e2b\\u0e27\\u0e22\", \"\\u0e2b\\u0e27\\u0e32\\u0e19\", \"\\u0e2b\\u0e27\\u0e32\\u0e19\", \"\\u0e2b\\u0e27\\u0e32\\u0e19\", \"\\u0e2b\\u0e2d\", \"\\u0e2b\\u0e2d\\u0e21\", \"\\u0e2b\\u0e31\\u0e27\", \"\\u0e2b\\u0e32\", \"\\u0e2b\\u0e49\\u0e32\\u0e07\", \"\\u0e2b\\u0e49\\u0e32\\u0e07\", \"\\u0e2b\\u0e49\\u0e32\\u0e07\", \"\\u0e2d\\u0e22\\u0e32\\u0e01\\u0e44\\u0e14\\u0e49\", \"\\u0e2d\\u0e22\\u0e32\\u0e01\\u0e44\\u0e14\\u0e49\", \"\\u0e2d\\u0e22\\u0e38\\u0e48\", \"\\u0e2d\\u0e22\\u0e39\\u0e48\\u0e41\\u0e25\\u0e49\\u0e27\", \"\\u0e2d\\u0e22\\u0e39\\u0e48\\u0e41\\u0e25\\u0e49\\u0e27\", \"\\u0e2d\\u0e22\\u0e48\\u0e32\", \"\\u0e2d\\u0e22\\u0e48\\u0e32\", \"\\u0e2d\\u0e23\\u0e48\\u0e2d\\u0e22\", \"\\u0e2d\\u0e23\\u0e48\\u0e2d\\u0e22\", \"\\u0e2d\\u0e23\\u0e48\\u0e2d\\u0e22\", \"\\u0e2d\\u0e23\\u0e48\\u0e2d\\u0e22\", \"\\u0e2d\\u0e23\\u0e48\\u0e2d\\u0e22\", \"\\u0e2d\\u0e23\\u0e48\\u0e2d\\u0e22\", \"\\u0e2d\\u0e23\\u0e48\\u0e2d\\u0e22\", \"\\u0e2d\\u0e23\\u0e48\\u0e2d\\u0e22\", \"\\u0e2d\\u0e23\\u0e48\\u0e2d\\u0e22\", \"\\u0e2d\\u0e23\\u0e48\\u0e2d\\u0e22\", \"\\u0e2d\\u0e23\\u0e48\\u0e2d\\u0e22\", \"\\u0e2d\\u0e25\\u0e25\\u0e4c\", \"\\u0e2d\\u0e2d\", \"\\u0e2d\\u0e2d\", \"\\u0e2d\\u0e2d\\u0e01\\u0e23\\u0e49\\u0e32\\u0e19\", \"\\u0e2d\\u0e2d\\u0e2a\\u0e40\\u0e15\\u0e23\\u0e40\\u0e25\\u0e35\\u0e22\", \"\\u0e2d\\u0e31\\u0e19\\u0e19\\u0e35\\u0e49\", \"\\u0e2d\\u0e31\\u0e19\\u0e19\\u0e35\\u0e49\", \"\\u0e2d\\u0e32\\u0e23\\u0e32\\u0e21\", \"\\u0e2d\\u0e32\\u0e2b\\u0e32\\u0e23\", \"\\u0e2d\\u0e32\\u0e2b\\u0e32\\u0e23\", \"\\u0e2d\\u0e32\\u0e2b\\u0e32\\u0e23\", \"\\u0e2d\\u0e32\\u0e2b\\u0e32\\u0e23\", \"\\u0e2d\\u0e32\\u0e2b\\u0e32\\u0e23\", \"\\u0e2d\\u0e32\\u0e2b\\u0e32\\u0e23\", \"\\u0e2d\\u0e32\\u0e2b\\u0e32\\u0e23\", \"\\u0e2d\\u0e32\\u0e2b\\u0e32\\u0e23\", \"\\u0e2d\\u0e32\\u0e2b\\u0e32\\u0e23\", \"\\u0e2d\\u0e32\\u0e2b\\u0e32\\u0e23\\u0e2a\\u0e14\", \"\\u0e2d\\u0e32\\u0e2b\\u0e32\\u0e23\\u0e40\\u0e2a\\u0e23\\u0e34\\u0e21\", \"\\u0e2d\\u0e34\\u0e2d\\u0e34\", \"\\u0e2d\\u0e34\\u0e48\\u0e21\", \"\\u0e2d\\u0e35\\u0e01\\u0e04\\u0e23\\u0e31\\u0e49\\u0e07\", \"\\u0e2d\\u0e40\\u0e23\\u0e35\\u0e22\", \"\\u0e2d\\u0e40\\u0e23\\u0e35\\u0e22\", \"\\u0e2e\\u0e31\\u0e19\", \"\\u0e32\\u0e19\", \"\\u0e40\", \"\\u0e40\\u0e01\\u0e34\\u0e19\\u0e44\\u0e1b\", \"\\u0e40\\u0e01\\u0e49\", \"\\u0e40\\u0e02\\u0e49\\u0e21\\u0e02\\u0e49\\u0e19\", \"\\u0e40\\u0e02\\u0e49\\u0e21\\u0e02\\u0e49\\u0e19\", \"\\u0e40\\u0e02\\u0e49\\u0e32\\u0e2b\\u0e19\\u0e49\\u0e32\", \"\\u0e40\\u0e04\\u0e23\\u0e37\\u0e2d\", \"\\u0e40\\u0e04\\u0e25\\u0e21\", \"\\u0e40\\u0e04\\u0e25\\u0e37\\u0e48\\u0e2d\\u0e19\\u0e15\\u0e31\\u0e27\", \"\\u0e40\\u0e04\\u0e32\\u0e19\\u0e4c\\u0e40\\u0e15\\u0e2d\\u0e23\\u0e4c\", \"\\u0e40\\u0e04\\u0e47\\u0e21\", \"\\u0e40\\u0e04\\u0e47\\u0e21\", \"\\u0e40\\u0e07\\u0e34\\u0e19\", \"\\u0e40\\u0e0a\\u0e47\\u0e04\\u0e1a\\u0e34\\u0e25\", \"\\u0e40\\u0e0b\", \"\\u0e40\\u0e0b\", \"\\u0e40\\u0e0b\\u0e15\", \"\\u0e40\\u0e0b\\u0e47\\u0e17\", \"\\u0e40\\u0e0b\\u0e47\\u0e17\", \"\\u0e40\\u0e14\\u0e2d\\u0e30\", \"\\u0e40\\u0e14\\u0e2d\\u0e30\", \"\\u0e40\\u0e14\\u0e2d\\u0e30\", \"\\u0e40\\u0e14\\u0e2d\\u0e30\", \"\\u0e40\\u0e14\\u0e2d\\u0e30\", \"\\u0e40\\u0e14\\u0e34\\u0e19\", \"\\u0e40\\u0e14\\u0e47\\u0e14\", \"\\u0e40\\u0e14\\u0e49\\u0e07\", \"\\u0e40\\u0e15\\u0e34\\u0e21\", \"\\u0e40\\u0e15\\u0e34\\u0e21\", \"\\u0e40\\u0e15\\u0e47\\u0e21\", \"\\u0e40\\u0e15\\u0e49\\u0e32\\u0e40\\u0e08\\u0e35\\u0e49\\u0e22\\u0e27\", \"\\u0e40\\u0e17\", \"\\u0e40\\u0e17\", \"\\u0e40\\u0e19\\u0e37\\u0e49\\u0e2d\", \"\\u0e40\\u0e19\\u0e37\\u0e49\\u0e2d\", \"\\u0e40\\u0e19\\u0e37\\u0e49\\u0e2d\", \"\\u0e40\\u0e19\\u0e37\\u0e49\\u0e2d\", \"\\u0e40\\u0e19\\u0e37\\u0e49\\u0e2d\", \"\\u0e40\\u0e19\\u0e37\\u0e49\\u0e2d\", \"\\u0e40\\u0e19\\u0e37\\u0e49\\u0e2d\", \"\\u0e40\\u0e19\\u0e37\\u0e49\\u0e2d\", \"\\u0e40\\u0e19\\u0e37\\u0e49\\u0e2d\", \"\\u0e40\\u0e19\\u0e37\\u0e49\\u0e2d\", \"\\u0e40\\u0e19\\u0e37\\u0e49\\u0e2d\\u0e27\\u0e31\\u0e27\", \"\\u0e40\\u0e19\\u0e37\\u0e49\\u0e2d\\u0e2b\\u0e21\\u0e39\", \"\\u0e40\\u0e1a\", \"\\u0e40\\u0e1a\\u0e2d\\u0e23\\u0e4c\", \"\\u0e40\\u0e1a\\u0e32\", \"\\u0e40\\u0e1b\\u0e23\\u0e35\\u0e49\\u0e22\\u0e27\\u0e2b\\u0e27\\u0e32\\u0e19\", \"\\u0e40\\u0e1b\\u0e47\\u0e14\", \"\\u0e40\\u0e1b\\u0e47\\u0e19\\u0e1b\\u0e01\\u0e15\\u0e34\", \"\\u0e40\\u0e1b\\u0e47\\u0e19\\u0e21\\u0e32\", \"\\u0e40\\u0e1b\\u0e47\\u0e19\\u0e2b\\u0e25\\u0e31\\u0e01\", \"\\u0e40\\u0e1b\\u0e47\\u0e19\\u0e41\\u0e19\\u0e27\", \"\\u0e40\\u0e1b\\u0e49\\u0e07\", \"\\u0e40\\u0e1c\\u0e47\\u0e14\", \"\\u0e40\\u0e1e\\u0e25\\u0e34\\u0e19\", \"\\u0e40\\u0e1f\\u0e23\\u0e19\\u0e44\\u0e0a\\u0e2a\\u0e4c\", \"\\u0e40\\u0e1f\\u0e48\", \"\\u0e40\\u0e21\\u0e19\\u0e39\", \"\\u0e40\\u0e21\\u0e19\\u0e39\", \"\\u0e40\\u0e21\\u0e19\\u0e39\", \"\\u0e40\\u0e21\\u0e19\\u0e39\", \"\\u0e40\\u0e21\\u0e19\\u0e39\", \"\\u0e40\\u0e22\\u0e47\\u0e19\", \"\\u0e40\\u0e23\\u0e22\", \"\\u0e40\\u0e23\\u0e34\\u0e2a\", \"\\u0e40\\u0e23\\u0e37\\u0e48\\u0e2d\\u0e07\", \"\\u0e40\\u0e23\\u0e37\\u0e48\\u0e2d\\u0e07\", \"\\u0e40\\u0e25\\u0e35\\u0e48\\u0e22\\u0e19\", \"\\u0e40\\u0e25\\u0e37\\u0e2d\\u0e01\", \"\\u0e40\\u0e25\\u0e37\\u0e2d\\u0e01\", \"\\u0e40\\u0e25\\u0e37\\u0e2d\\u0e01\", \"\\u0e40\\u0e25\\u0e37\\u0e2d\\u0e01\", \"\\u0e40\\u0e25\\u0e37\\u0e2d\\u0e01\", \"\\u0e40\\u0e25\\u0e37\\u0e2d\\u0e01\", \"\\u0e40\\u0e25\\u0e37\\u0e2d\\u0e01\", \"\\u0e40\\u0e25\\u0e37\\u0e2d\\u0e01\", \"\\u0e40\\u0e25\\u0e37\\u0e2d\\u0e01\", \"\\u0e40\\u0e27\\u0e25\\u0e32\", \"\\u0e40\\u0e27\\u0e25\\u0e32\", \"\\u0e40\\u0e2a\\u0e34\\u0e23\\u0e4c\\u0e1f\", \"\\u0e40\\u0e2a\\u0e34\\u0e23\\u0e4c\\u0e1f\", \"\\u0e40\\u0e2b\\u0e21\\u0e32\\u0e30\\u0e2a\\u0e21\", \"\\u0e40\\u0e2b\\u0e21\\u0e32\\u0e30\\u0e2a\\u0e21\", \"\\u0e40\\u0e2b\\u0e21\\u0e37\\u0e2d\\u0e19\\u0e01\\u0e31\\u0e19\", \"\\u0e40\\u0e2b\\u0e47\\u0e14\", \"\\u0e40\\u0e40\\u0e1a\\u0e1a\", \"\\u0e41\\u0e01\\u0e07\\u0e04\\u0e4c\", \"\\u0e41\\u0e01\\u0e07\\u0e40\\u0e02\\u0e35\\u0e22\\u0e27\\u0e2b\\u0e27\\u0e32\\u0e19\", \"\\u0e41\\u0e01\\u0e49\\u0e27\", \"\\u0e41\\u0e19\\u0e27\", \"\\u0e41\\u0e19\\u0e30\\u0e19\\u0e33\", \"\\u0e41\\u0e19\\u0e30\\u0e19\\u0e33\", \"\\u0e41\\u0e19\\u0e48\\u0e19\\u0e2d\\u0e19\", \"\\u0e41\\u0e19\\u0e48\\u0e19\\u0e2d\\u0e19\", \"\\u0e41\\u0e1a\\u0e1a\\u0e09\\u0e1a\\u0e31\\u0e1a\", \"\\u0e41\\u0e1a\\u0e1a\\u0e19\\u0e35\\u0e49\", \"\\u0e41\\u0e1a\\u0e48\\u0e07\", \"\\u0e41\\u0e1a\\u0e48\\u0e07\", \"\\u0e41\\u0e1b\\u0e25\\u0e01\", \"\\u0e41\\u0e1f\\u0e19\", \"\\u0e41\\u0e21\\u0e04\", \"\\u0e41\\u0e25\", \"\\u0e41\\u0e25\\u0e01\", \"\\u0e41\\u0e27\\u0e30\", \"\\u0e42\\u0e01\", \"\\u0e42\\u0e0a\", \"\\u0e42\\u0e0a\\u0e04\", \"\\u0e42\\u0e0a\\u0e04\\u0e0a\\u0e30\\u0e15\\u0e32\", \"\\u0e42\\u0e0a\\u0e04\\u0e14\\u0e35\", \"\\u0e42\\u0e0b\\u0e19\", \"\\u0e42\\u0e0b\\u0e19\", \"\\u0e42\\u0e14\", \"\\u0e42\\u0e14\\u0e19\", \"\\u0e42\\u0e15\\u0e4a\\u0e30\", \"\\u0e42\\u0e15\\u0e4a\\u0e30\", \"\\u0e42\\u0e17\\u0e2a\", \"\\u0e42\\u0e19\\u0e49\\u0e19\", \"\\u0e42\\u0e1b\\u0e23\", \"\\u0e42\\u0e1b\\u0e23\\u0e42\\u0e21\\u0e0a\\u0e31\\u0e48\\u0e19\", \"\\u0e42\\u0e1b\\u0e23\\u0e42\\u0e21\\u0e0a\\u0e31\\u0e48\\u0e19\", \"\\u0e42\\u0e21\\u0e08\\u0e34\", \"\\u0e42\\u0e21\\u0e48\", \"\\u0e42\\u0e2b\\u0e14\", \"\\u0e42\\u0e2d\", \"\\u0e42\\u0e2d\\u0e2d\\u0e34\\u0e0a\\u0e34\", \"\\u0e42\\u0e2d\\u0e40\\u0e04\", \"\\u0e42\\u0e2d\\u0e40\\u0e04\", \"\\u0e42\\u0e2d\\u0e40\\u0e04\", \"\\u0e43\\u0e08\\u0e14\\u0e35\", \"\\u0e43\\u0e0a\\u0e49\\u0e41\\u0e25\\u0e49\\u0e27\", \"\\u0e43\\u0e0a\\u0e49\\u0e44\\u0e14\\u0e49\", \"\\u0e44\\u0e01\\u0e48\", \"\\u0e44\\u0e01\\u0e48\", \"\\u0e44\\u0e01\\u0e48\", \"\\u0e44\\u0e02\\u0e48\", \"\\u0e44\\u0e02\\u0e48\", \"\\u0e44\\u0e02\\u0e48\\u0e44\\u0e01\\u0e48\", \"\\u0e44\\u0e14\", \"\\u0e44\\u0e14\\u0e1f\\u0e39\\u0e01\\u0e38\", \"\\u0e44\\u0e14\\u0e49\\u0e40\\u0e27\\u0e25\\u0e32\", \"\\u0e44\\u0e17\\u0e22\", \"\\u0e44\\u0e1c\\u0e48\", \"\\u0e44\\u0e21\\u0e48\\u0e15\\u0e49\\u0e2d\\u0e07\", \"\\u0e44\\u0e21\\u0e49\", \"\\u0e44\\u0e25\\u0e19\\u0e4c\", \"\\u0e44\\u0e27\", \"\\u0e44\\u0e2d\\u0e15\\u0e34\\u0e21\", \"\\u0e44\\u0e2d\\u0e15\\u0e34\\u0e21\", \"\\u0e44\\u0e2d\\u0e15\\u0e34\\u0e21\", \"\\u0e44\\u0e2d\\u0e15\\u0e34\\u0e21\", \"\\u0e44\\u0e2d\\u0e15\\u0e34\\u0e21\", \"\\u0e44\\u0e2d\\u0e28\\u0e01\\u0e23\\u0e35\\u0e21\", \"\\u0e44\\u0e2d\\u0e28\\u0e01\\u0e23\\u0e35\\u0e21\", \"\\u0e44\\u0e2d\\u0e28\\u0e01\\u0e23\\u0e35\\u0e21\", \"\\u0e44\\u0e2d\\u0e28\\u0e04\\u0e23\\u0e35\\u0e21\", \"\\u200b\", \"\\u2013\"]}, \"R\": 30, \"lambda.step\": 0.01, \"plot.opts\": {\"xlab\": \"PC1\", \"ylab\": \"PC2\"}, \"topic.order\": [3, 6, 5, 14, 17, 7, 12, 13, 10, 15, 19, 18, 2, 9, 8, 1, 11, 20, 16, 4]};\n",
              "\n",
              "function LDAvis_load_lib(url, callback){\n",
              "  var s = document.createElement('script');\n",
              "  s.src = url;\n",
              "  s.async = true;\n",
              "  s.onreadystatechange = s.onload = callback;\n",
              "  s.onerror = function(){console.warn(\"failed to load library \" + url);};\n",
              "  document.getElementsByTagName(\"head\")[0].appendChild(s);\n",
              "}\n",
              "\n",
              "if(typeof(LDAvis) !== \"undefined\"){\n",
              "   // already loaded: just create the visualization\n",
              "   !function(LDAvis){\n",
              "       new LDAvis(\"#\" + \"ldavis_el6381402650170091041227325069\", ldavis_el6381402650170091041227325069_data);\n",
              "   }(LDAvis);\n",
              "}else if(typeof define === \"function\" && define.amd){\n",
              "   // require.js is available: use it to load d3/LDAvis\n",
              "   require.config({paths: {d3: \"https://d3js.org/d3.v5\"}});\n",
              "   require([\"d3\"], function(d3){\n",
              "      window.d3 = d3;\n",
              "      LDAvis_load_lib(\"https://cdn.jsdelivr.net/gh/bmabey/pyLDAvis@3.3.1/pyLDAvis/js/ldavis.v3.0.0.js\", function(){\n",
              "        new LDAvis(\"#\" + \"ldavis_el6381402650170091041227325069\", ldavis_el6381402650170091041227325069_data);\n",
              "      });\n",
              "    });\n",
              "}else{\n",
              "    // require.js not available: dynamically load d3 & LDAvis\n",
              "    LDAvis_load_lib(\"https://d3js.org/d3.v5.js\", function(){\n",
              "         LDAvis_load_lib(\"https://cdn.jsdelivr.net/gh/bmabey/pyLDAvis@3.3.1/pyLDAvis/js/ldavis.v3.0.0.js\", function(){\n",
              "                 new LDAvis(\"#\" + \"ldavis_el6381402650170091041227325069\", ldavis_el6381402650170091041227325069_data);\n",
              "            })\n",
              "         });\n",
              "}\n",
              "</script>"
            ],
            "text/plain": [
              "PreparedData(topic_coordinates=              x         y  topics  cluster       Freq\n",
              "topic                                                \n",
              "2      0.149824  0.146089       1        1  18.308492\n",
              "5      0.015936 -0.205569       2        1  16.561537\n",
              "4     -0.144824 -0.101059       3        1   8.212191\n",
              "13    -0.141273  0.137841       4        1   7.223226\n",
              "16     0.143870 -0.086849       5        1   7.118698\n",
              "6      0.072354 -0.100348       6        1   5.840721\n",
              "11     0.037597  0.153815       7        1   5.813078\n",
              "12    -0.055550 -0.123988       8        1   4.804448\n",
              "9     -0.133416  0.008157       9        1   4.159361\n",
              "14     0.089108  0.060368      10        1   3.999494\n",
              "18     0.129526  0.008202      11        1   3.840160\n",
              "17    -0.052831  0.113775      12        1   3.600232\n",
              "1     -0.078175 -0.018408      13        1   2.800560\n",
              "8     -0.041560  0.041013      14        1   2.720887\n",
              "7     -0.004404 -0.056821      15        1   2.639527\n",
              "0      0.005958  0.037776      16        1   2.244790\n",
              "10     0.001956 -0.003499      17        1   0.029832\n",
              "19     0.001968 -0.003497      18        1   0.027664\n",
              "15     0.001967 -0.003506      19        1   0.027597\n",
              "3      0.001968 -0.003496      20        1   0.027505, topic_info=         Term       Freq      Total Category  logprob  loglift\n",
              "8          ดี  19.000000  19.000000  Default  30.0000  30.0000\n",
              "26      อร่อย  19.000000  19.000000  Default  29.0000  29.0000\n",
              "21       ราคา  17.000000  17.000000  Default  28.0000  28.0000\n",
              "32      เนื้อ  17.000000  17.000000  Default  27.0000  27.0000\n",
              "141     เลือก  16.000000  16.000000  Default  26.0000  26.0000\n",
              "..        ...        ...        ...      ...      ...      ...\n",
              "212  บุฟเฟ่ต์   0.001418   6.316089  Topic20  -5.4910  -0.2032\n",
              "96        ชอบ   0.001439   7.085097  Topic20  -5.4762  -0.3032\n",
              "109      นุ่ม   0.001397   7.008232  Topic20  -5.5059  -0.3220\n",
              "208        คน   0.001511   9.709145  Topic20  -5.4272  -0.5694\n",
              "124        สด   0.001434   9.309736  Topic20  -5.4797  -0.5799\n",
              "\n",
              "[1083 rows x 6 columns], token_table=      Topic      Freq     Term\n",
              "term                          \n",
              "79        1  0.672319         \n",
              "79       14  0.268928         \n",
              "232       7  0.967953     !!!!\n",
              "321       2  0.567214        \"\n",
              "321      11  0.283607        \"\n",
              "...     ...       ...      ...\n",
              "171       3  0.318226  ไอศกรีม\n",
              "171       7  0.318226  ไอศกรีม\n",
              "255       7  0.967953  ไอศครีม\n",
              "43        1  0.983231        ​\n",
              "231       9  0.983720        –\n",
              "\n",
              "[705 rows x 3 columns], R=30, lambda_step=0.01, plot_opts={'xlab': 'PC1', 'ylab': 'PC2'}, topic_order=[3, 6, 5, 14, 17, 7, 12, 13, 10, 15, 19, 18, 2, 9, 8, 1, 11, 20, 16, 4])"
            ]
          },
          "metadata": {
            "tags": []
          },
          "execution_count": 186
        }
      ]
    },
    {
      "cell_type": "code",
      "metadata": {
        "colab": {
          "base_uri": "https://localhost:8080/",
          "height": 162
        },
        "id": "L9kCnyTHCzgx",
        "outputId": "4dc9a6d6-3966-487c-eac3-62ea9dd44f99"
      },
      "source": [
        "model.show_topic(2)"
      ],
      "execution_count": null,
      "outputs": [
        {
          "output_type": "error",
          "ename": "NameError",
          "evalue": "ignored",
          "traceback": [
            "\u001b[0;31m---------------------------------------------------------------------------\u001b[0m",
            "\u001b[0;31mNameError\u001b[0m                                 Traceback (most recent call last)",
            "\u001b[0;32m<ipython-input-1-4df6b6c042ca>\u001b[0m in \u001b[0;36m<module>\u001b[0;34m()\u001b[0m\n\u001b[0;32m----> 1\u001b[0;31m \u001b[0mmodel\u001b[0m\u001b[0;34m.\u001b[0m\u001b[0mshow_topic\u001b[0m\u001b[0;34m(\u001b[0m\u001b[0;36m2\u001b[0m\u001b[0;34m)\u001b[0m\u001b[0;34m\u001b[0m\u001b[0;34m\u001b[0m\u001b[0m\n\u001b[0m",
            "\u001b[0;31mNameError\u001b[0m: name 'model' is not defined"
          ]
        }
      ]
    },
    {
      "cell_type": "code",
      "metadata": {
        "id": "r1JMBJA0DmCw"
      },
      "source": [
        "df['topics'] = df['Review_tokenized'].apply(lambda x: model.get_document_topics(dictionary.doc2bow(x.split(',')))[0][0])\n",
        "df['score'] = df['Review_tokenized'].apply(lambda x: model.get_document_topics(dictionary.doc2bow(x.split(',')))[0][1])"
      ],
      "execution_count": null,
      "outputs": []
    },
    {
      "cell_type": "code",
      "metadata": {
        "colab": {
          "base_uri": "https://localhost:8080/",
          "height": 306
        },
        "id": "HhcOkk7WECmc",
        "outputId": "22204dd3-539d-4603-cf62-3a31e49397cc"
      },
      "source": [
        "df.tail()"
      ],
      "execution_count": null,
      "outputs": [
        {
          "output_type": "execute_result",
          "data": {
            "text/html": [
              "<div>\n",
              "<style scoped>\n",
              "    .dataframe tbody tr th:only-of-type {\n",
              "        vertical-align: middle;\n",
              "    }\n",
              "\n",
              "    .dataframe tbody tr th {\n",
              "        vertical-align: top;\n",
              "    }\n",
              "\n",
              "    .dataframe thead th {\n",
              "        text-align: right;\n",
              "    }\n",
              "</style>\n",
              "<table border=\"1\" class=\"dataframe\">\n",
              "  <thead>\n",
              "    <tr style=\"text-align: right;\">\n",
              "      <th></th>\n",
              "      <th>Review ID</th>\n",
              "      <th>Restaurant_ID</th>\n",
              "      <th>Restaurant</th>\n",
              "      <th>User</th>\n",
              "      <th>Headline</th>\n",
              "      <th>Review</th>\n",
              "      <th>Rating</th>\n",
              "      <th>Review_tokenized</th>\n",
              "      <th>topics</th>\n",
              "      <th>score</th>\n",
              "    </tr>\n",
              "  </thead>\n",
              "  <tbody>\n",
              "    <tr>\n",
              "      <th>16</th>\n",
              "      <td>17</td>\n",
              "      <td>436045MJ-ข้าน้อยขอชาบู</td>\n",
              "      <td>ข้าน้อยขอชาบู</td>\n",
              "      <td>ployynp</td>\n",
              "      <td>บุฟเฟ่ต์ชาบูและพิซซ่าไม่อั้นในราคา 199 บาท เน้...</td>\n",
              "      <td>หลังจากที่เคยลองสาขายูเนี่ยนมอลล์ไป รอบนี้มาที...</td>\n",
              "      <td>4.0</td>\n",
              "      <td>หลังจากที่,ลอง,สาขา,ยู,นม,อลล์,รอบ,สาขา,เดอะ,ม...</td>\n",
              "      <td>3</td>\n",
              "      <td>0.994562</td>\n",
              "    </tr>\n",
              "    <tr>\n",
              "      <th>17</th>\n",
              "      <td>18</td>\n",
              "      <td>436045MJ-ข้าน้อยขอชาบู</td>\n",
              "      <td>ข้าน้อยขอชาบู</td>\n",
              "      <td>27a91236fe5e4559a4f097c97a480781</td>\n",
              "      <td>ร้านบุฟเฟ่ต์ ราคามิตรภาพ อยู่ชั้น4 ติดโรงหนัง ...</td>\n",
              "      <td>ร้านบุฟเฟ่ต์ที่มีโปรโมชั่นหัวละ199บาท ไม่รวมน้...</td>\n",
              "      <td>4.0</td>\n",
              "      <td>บุฟเฟ่ต์,โปรโมชั่น,หัว,199,บาท,น้ำ,VAT,ทาน,ธรร...</td>\n",
              "      <td>3</td>\n",
              "      <td>0.993499</td>\n",
              "    </tr>\n",
              "    <tr>\n",
              "      <th>18</th>\n",
              "      <td>19</td>\n",
              "      <td>436045MJ-ข้าน้อยขอชาบู</td>\n",
              "      <td>ข้าน้อยขอชาบู</td>\n",
              "      <td>0b81d251e4db486f9bcdba73b374ed99</td>\n",
              "      <td>ของหลากหลาย ปนๆ งงๆ นิดหน่อย</td>\n",
              "      <td>เคยรู้จักร้านนี้จากที่ union mall ไม่เคยได้ลอง...</td>\n",
              "      <td>3.0</td>\n",
              "      <td>รู้จัก,union,mall,ลอง,จำได้,ขึ้นใจ,ชื่อ,😆,ชื่อ...</td>\n",
              "      <td>13</td>\n",
              "      <td>0.991070</td>\n",
              "    </tr>\n",
              "    <tr>\n",
              "      <th>19</th>\n",
              "      <td>20</td>\n",
              "      <td>436045MJ-ข้าน้อยขอชาบู</td>\n",
              "      <td>ข้าน้อยขอชาบู</td>\n",
              "      <td>40e0e087f3914fd49a8933b5a29936ca</td>\n",
              "      <td>อร่อยมากค่ะ คุ้มค่าสมราคา บุฟเฟ่หมูผักต่างๆ รว...</td>\n",
              "      <td>อร่อยมากค่ะ คุ้มค่าสมราคา บุฟเฟ่หมูผักต่างๆ รว...</td>\n",
              "      <td>5.0</td>\n",
              "      <td>อร่อย,คุ้มค่า,สมราคา,หมู,ผัก,น้ำ,จบ,255,ท่าน,เ...</td>\n",
              "      <td>10</td>\n",
              "      <td>0.991269</td>\n",
              "    </tr>\n",
              "    <tr>\n",
              "      <th>20</th>\n",
              "      <td>21</td>\n",
              "      <td>436045MJ-ข้าน้อยขอชาบู</td>\n",
              "      <td>ข้าน้อยขอชาบู</td>\n",
              "      <td>41841cb99ea243a3a8d4b006e946c586</td>\n",
              "      <td>แม้จะแปลกบ้าง แต่ก็ถือว่าอยู่ในเกณฑ์ที่ดี มีอา...</td>\n",
              "      <td>ก็ตามที่เขียนเลยครับ ว่า ถ้าจะจ่ายในราคา 199 บ...</td>\n",
              "      <td>NaN</td>\n",
              "      <td>จ่าย,ราคา,199,บาท,จ่าย,เงินสด,ราคา,น้ำ,VAT,7,%...</td>\n",
              "      <td>4</td>\n",
              "      <td>0.987554</td>\n",
              "    </tr>\n",
              "  </tbody>\n",
              "</table>\n",
              "</div>"
            ],
            "text/plain": [
              "    Review ID           Restaurant_ID  ... topics     score\n",
              "16         17  436045MJ-ข้าน้อยขอชาบู  ...      3  0.994562\n",
              "17         18  436045MJ-ข้าน้อยขอชาบู  ...      3  0.993499\n",
              "18         19  436045MJ-ข้าน้อยขอชาบู  ...     13  0.991070\n",
              "19         20  436045MJ-ข้าน้อยขอชาบู  ...     10  0.991269\n",
              "20         21  436045MJ-ข้าน้อยขอชาบู  ...      4  0.987554\n",
              "\n",
              "[5 rows x 10 columns]"
            ]
          },
          "metadata": {
            "tags": []
          },
          "execution_count": 174
        }
      ]
    },
    {
      "cell_type": "code",
      "metadata": {
        "colab": {
          "base_uri": "https://localhost:8080/",
          "height": 700
        },
        "id": "Twu6Q-WREUkO",
        "outputId": "47b3c749-91ef-456d-9c73-18fffa35c494"
      },
      "source": [
        "df[['Restaurant', 'Review', 'topics']]"
      ],
      "execution_count": null,
      "outputs": [
        {
          "output_type": "execute_result",
          "data": {
            "text/html": [
              "<div>\n",
              "<style scoped>\n",
              "    .dataframe tbody tr th:only-of-type {\n",
              "        vertical-align: middle;\n",
              "    }\n",
              "\n",
              "    .dataframe tbody tr th {\n",
              "        vertical-align: top;\n",
              "    }\n",
              "\n",
              "    .dataframe thead th {\n",
              "        text-align: right;\n",
              "    }\n",
              "</style>\n",
              "<table border=\"1\" class=\"dataframe\">\n",
              "  <thead>\n",
              "    <tr style=\"text-align: right;\">\n",
              "      <th></th>\n",
              "      <th>Restaurant</th>\n",
              "      <th>Review</th>\n",
              "      <th>topics</th>\n",
              "    </tr>\n",
              "  </thead>\n",
              "  <tbody>\n",
              "    <tr>\n",
              "      <th>0</th>\n",
              "      <td>Mo-Mo-Paradise (โม โม พาราไดซ์) เดอะมอลล์ บางกะปิ</td>\n",
              "      <td>ที่สำคัญของร้านนี้คือบริการดีมากพนักงานน่ารักส...</td>\n",
              "      <td>2</td>\n",
              "    </tr>\n",
              "    <tr>\n",
              "      <th>1</th>\n",
              "      <td>Mo-Mo-Paradise (โม โม พาราไดซ์) เดอะมอลล์ บางกะปิ</td>\n",
              "      <td>นึกถึงชาบูญี่ปุ่นยังไงก็ต้อง คิดถึงโมโม่ พาราไ...</td>\n",
              "      <td>17</td>\n",
              "    </tr>\n",
              "    <tr>\n",
              "      <th>2</th>\n",
              "      <td>Mo-Mo-Paradise (โม โม พาราไดซ์) เดอะมอลล์ บางกะปิ</td>\n",
              "      <td>มาทานช่วงนี้ สามารถนั่งโต๊ะเดียวกัน หม้อเดียวก...</td>\n",
              "      <td>2</td>\n",
              "    </tr>\n",
              "    <tr>\n",
              "      <th>3</th>\n",
              "      <td>Mo-Mo-Paradise (โม โม พาราไดซ์) เดอะมอลล์ บางกะปิ</td>\n",
              "      <td>ถ้านึกถึงชาบูที่มีเนื้อเน้นๆ ในราคาไม่โหดจนเกิ...</td>\n",
              "      <td>11</td>\n",
              "    </tr>\n",
              "    <tr>\n",
              "      <th>4</th>\n",
              "      <td>Mo-Mo-Paradise (โม โม พาราไดซ์) เดอะมอลล์ บางกะปิ</td>\n",
              "      <td>เดินมาหน้าร้านแล้วได้กลิ่นชาบูหอมมาก ๆ  ประกอบ...</td>\n",
              "      <td>1</td>\n",
              "    </tr>\n",
              "    <tr>\n",
              "      <th>5</th>\n",
              "      <td>Mo-Mo-Paradise (โม โม พาราไดซ์) เดอะมอลล์ บางกะปิ</td>\n",
              "      <td>ร้านบุฟเฟ่ ชาบูแนวญี่ปุ่น สายเนื้อหมู เนื้อวัว...</td>\n",
              "      <td>0</td>\n",
              "    </tr>\n",
              "    <tr>\n",
              "      <th>6</th>\n",
              "      <td>Mo-Mo-Paradise (โม โม พาราไดซ์) เดอะมอลล์ บางกะปิ</td>\n",
              "      <td>Number 20 : โมโม – พาราไดส์ (สาขาเดอะมอลบางกะป...</td>\n",
              "      <td>9</td>\n",
              "    </tr>\n",
              "    <tr>\n",
              "      <th>7</th>\n",
              "      <td>Mo-Mo-Paradise (โม โม พาราไดซ์) เดอะมอลล์ บางกะปิ</td>\n",
              "      <td>ร้านชาบูเฟรนไชส์รสชาติดีมากคุ้มค่าเหมาะสมกับรา...</td>\n",
              "      <td>11</td>\n",
              "    </tr>\n",
              "    <tr>\n",
              "      <th>8</th>\n",
              "      <td>Shabushi (ชาบูชิ) เดอะมอลล์บางกะปิ ชั้น G</td>\n",
              "      <td>มา านที่ขาบูชิต้องมาตอนหิว ไม่งั้นจะไม่คุ้มนะค...</td>\n",
              "      <td>2</td>\n",
              "    </tr>\n",
              "    <tr>\n",
              "      <th>9</th>\n",
              "      <td>Shabushi (ชาบูชิ) เดอะมอลล์บางกะปิ ชั้น G</td>\n",
              "      <td>ใครชอบกุ้งทอดเทมปุระ แค่กุ้งเทมปุระก็คุ้มแล้ว ...</td>\n",
              "      <td>13</td>\n",
              "    </tr>\n",
              "    <tr>\n",
              "      <th>10</th>\n",
              "      <td>Shabushi (ชาบูชิ) เดอะมอลล์บางกะปิ ชั้น G</td>\n",
              "      <td>กลับมาอัพเดทราคาชาบูชิ ตอนนี้อยู่ที่ 399 บาท n...</td>\n",
              "      <td>7</td>\n",
              "    </tr>\n",
              "    <tr>\n",
              "      <th>11</th>\n",
              "      <td>Shabushi (ชาบูชิ) เดอะมอลล์บางกะปิ ชั้น G</td>\n",
              "      <td>ห่างหายไปนานสำหรับชาบูชิ ตั้งแต่ทางร้านได้ปรับ...</td>\n",
              "      <td>5</td>\n",
              "    </tr>\n",
              "    <tr>\n",
              "      <th>12</th>\n",
              "      <td>Shabushi (ชาบูชิ) เดอะมอลล์บางกะปิ ชั้น G</td>\n",
              "      <td>เมื่อหลายวันก่อนนัดหาข้าวทานกับเดอะแกงค์ และก็...</td>\n",
              "      <td>4</td>\n",
              "    </tr>\n",
              "    <tr>\n",
              "      <th>13</th>\n",
              "      <td>Shabushi (ชาบูชิ) เดอะมอลล์บางกะปิ ชั้น G</td>\n",
              "      <td>บอกตรงๆว่าหลายครั้งที่เลือกจะกินบุฟเฟต์จะต้องอ...</td>\n",
              "      <td>4</td>\n",
              "    </tr>\n",
              "    <tr>\n",
              "      <th>14</th>\n",
              "      <td>Shabushi (ชาบูชิ) เดอะมอลล์บางกะปิ ชั้น G</td>\n",
              "      <td>สวัสดีครับวันนี้จะขอมารีวิวร้านชาบูชิ บุฟเฟขวั...</td>\n",
              "      <td>13</td>\n",
              "    </tr>\n",
              "    <tr>\n",
              "      <th>15</th>\n",
              "      <td>Shabushi (ชาบูชิ) เดอะมอลล์บางกะปิ ชั้น G</td>\n",
              "      <td>ชาบูชิ สาขาเดอะมอลล์บางกะปิ ตั้งอยู่ประตูหน้าห...</td>\n",
              "      <td>16</td>\n",
              "    </tr>\n",
              "    <tr>\n",
              "      <th>16</th>\n",
              "      <td>ข้าน้อยขอชาบู</td>\n",
              "      <td>หลังจากที่เคยลองสาขายูเนี่ยนมอลล์ไป รอบนี้มาที...</td>\n",
              "      <td>6</td>\n",
              "    </tr>\n",
              "    <tr>\n",
              "      <th>17</th>\n",
              "      <td>ข้าน้อยขอชาบู</td>\n",
              "      <td>ร้านบุฟเฟ่ต์ที่มีโปรโมชั่นหัวละ199บาท ไม่รวมน้...</td>\n",
              "      <td>12</td>\n",
              "    </tr>\n",
              "    <tr>\n",
              "      <th>18</th>\n",
              "      <td>ข้าน้อยขอชาบู</td>\n",
              "      <td>เคยรู้จักร้านนี้จากที่ union mall ไม่เคยได้ลอง...</td>\n",
              "      <td>18</td>\n",
              "    </tr>\n",
              "    <tr>\n",
              "      <th>19</th>\n",
              "      <td>ข้าน้อยขอชาบู</td>\n",
              "      <td>อร่อยมากค่ะ คุ้มค่าสมราคา บุฟเฟ่หมูผักต่างๆ รว...</td>\n",
              "      <td>14</td>\n",
              "    </tr>\n",
              "    <tr>\n",
              "      <th>20</th>\n",
              "      <td>ข้าน้อยขอชาบู</td>\n",
              "      <td>ก็ตามที่เขียนเลยครับ ว่า ถ้าจะจ่ายในราคา 199 บ...</td>\n",
              "      <td>8</td>\n",
              "    </tr>\n",
              "  </tbody>\n",
              "</table>\n",
              "</div>"
            ],
            "text/plain": [
              "                                           Restaurant  ... topics\n",
              "0   Mo-Mo-Paradise (โม โม พาราไดซ์) เดอะมอลล์ บางกะปิ  ...      2\n",
              "1   Mo-Mo-Paradise (โม โม พาราไดซ์) เดอะมอลล์ บางกะปิ  ...     17\n",
              "2   Mo-Mo-Paradise (โม โม พาราไดซ์) เดอะมอลล์ บางกะปิ  ...      2\n",
              "3   Mo-Mo-Paradise (โม โม พาราไดซ์) เดอะมอลล์ บางกะปิ  ...     11\n",
              "4   Mo-Mo-Paradise (โม โม พาราไดซ์) เดอะมอลล์ บางกะปิ  ...      1\n",
              "5   Mo-Mo-Paradise (โม โม พาราไดซ์) เดอะมอลล์ บางกะปิ  ...      0\n",
              "6   Mo-Mo-Paradise (โม โม พาราไดซ์) เดอะมอลล์ บางกะปิ  ...      9\n",
              "7   Mo-Mo-Paradise (โม โม พาราไดซ์) เดอะมอลล์ บางกะปิ  ...     11\n",
              "8           Shabushi (ชาบูชิ) เดอะมอลล์บางกะปิ ชั้น G  ...      2\n",
              "9           Shabushi (ชาบูชิ) เดอะมอลล์บางกะปิ ชั้น G  ...     13\n",
              "10          Shabushi (ชาบูชิ) เดอะมอลล์บางกะปิ ชั้น G  ...      7\n",
              "11          Shabushi (ชาบูชิ) เดอะมอลล์บางกะปิ ชั้น G  ...      5\n",
              "12          Shabushi (ชาบูชิ) เดอะมอลล์บางกะปิ ชั้น G  ...      4\n",
              "13          Shabushi (ชาบูชิ) เดอะมอลล์บางกะปิ ชั้น G  ...      4\n",
              "14          Shabushi (ชาบูชิ) เดอะมอลล์บางกะปิ ชั้น G  ...     13\n",
              "15          Shabushi (ชาบูชิ) เดอะมอลล์บางกะปิ ชั้น G  ...     16\n",
              "16                                      ข้าน้อยขอชาบู  ...      6\n",
              "17                                      ข้าน้อยขอชาบู  ...     12\n",
              "18                                      ข้าน้อยขอชาบู  ...     18\n",
              "19                                      ข้าน้อยขอชาบู  ...     14\n",
              "20                                      ข้าน้อยขอชาบู  ...      8\n",
              "\n",
              "[21 rows x 3 columns]"
            ]
          },
          "metadata": {
            "tags": []
          },
          "execution_count": 189
        }
      ]
    },
    {
      "cell_type": "code",
      "metadata": {
        "colab": {
          "base_uri": "https://localhost:8080/",
          "height": 298
        },
        "id": "GpObntBGCClL",
        "outputId": "51f74961-11d0-4d24-8ba2-28a9a48b72cc"
      },
      "source": [
        "#https://github.com/gaurikatyagi/Natural-Language-Processing/blob/master/Introdution%20to%20NLP-Clustering%20Text.ipynb\n",
        "# fig = plt.figure(figsize=(10,4))\n",
        "%matplotlib inline  \n",
        "import matplotlib.pyplot as plt\n",
        "plt.rcParams[\"figure.figsize\"] = (20,4)\n",
        "\n",
        "topic_frequency = df.iloc[:, :].groupby('topics').count()\n",
        "ax = topic_frequency.plot.bar( legend=False)\n",
        "plt.title(\"Frequency of Topics\", size=12)\n",
        "# plt.xticks(rotation=45)\n",
        "ax.tick_params(axis='x', which='minor', labelsize='small', labelcolor='m', rotation=30)\n",
        "\n",
        "\n",
        "for p in ax.patches:\n",
        "    ax.annotate(str(p.get_height()), (p.get_x() * 1.005, p.get_height() * 1.005))\n",
        "\n",
        "plt.show()"
      ],
      "execution_count": null,
      "outputs": [
        {
          "output_type": "display_data",
          "data": {
            "image/png": "[encoded data removed]",
            "text/plain": [
              "<Figure size 1440x288 with 1 Axes>"
            ]
          },
          "metadata": {
            "tags": []
          }
        }
      ]
    },
    {
      "cell_type": "code",
      "metadata": {
        "colab": {
          "base_uri": "https://localhost:8080/",
          "height": 163
        },
        "id": "AtuMNQNRXPF7",
        "outputId": "707f7b00-bf75-41e2-f401-c96bf9f65183"
      },
      "source": [
        "pyLDAvis.display(vis_data)"
      ],
      "execution_count": null,
      "outputs": [
        {
          "output_type": "error",
          "ename": "NameError",
          "evalue": "ignored",
          "traceback": [
            "\u001b[0;31m---------------------------------------------------------------------------\u001b[0m",
            "\u001b[0;31mNameError\u001b[0m                                 Traceback (most recent call last)",
            "\u001b[0;32m<ipython-input-96-6f1584a49133>\u001b[0m in \u001b[0;36m<module>\u001b[0;34m()\u001b[0m\n\u001b[0;32m----> 1\u001b[0;31m \u001b[0mpyLDAvis\u001b[0m\u001b[0;34m.\u001b[0m\u001b[0mdisplay\u001b[0m\u001b[0;34m(\u001b[0m\u001b[0mvis_data\u001b[0m\u001b[0;34m)\u001b[0m\u001b[0;34m\u001b[0m\u001b[0;34m\u001b[0m\u001b[0m\n\u001b[0m",
            "\u001b[0;31mNameError\u001b[0m: name 'vis_data' is not defined"
          ]
        }
      ]
    },
    {
      "cell_type": "code",
      "metadata": {
        "colab": {
          "base_uri": "https://localhost:8080/",
          "height": 921
        },
        "id": "KZSVafsGWs2r",
        "outputId": "d76cadce-55f3-4bc3-8465-9c9fad103152"
      },
      "source": [
        "df.iloc[:, :6]"
      ],
      "execution_count": null,
      "outputs": [
        {
          "output_type": "execute_result",
          "data": {
            "text/html": [
              "<div>\n",
              "<style scoped>\n",
              "    .dataframe tbody tr th:only-of-type {\n",
              "        vertical-align: middle;\n",
              "    }\n",
              "\n",
              "    .dataframe tbody tr th {\n",
              "        vertical-align: top;\n",
              "    }\n",
              "\n",
              "    .dataframe thead th {\n",
              "        text-align: right;\n",
              "    }\n",
              "</style>\n",
              "<table border=\"1\" class=\"dataframe\">\n",
              "  <thead>\n",
              "    <tr style=\"text-align: right;\">\n",
              "      <th></th>\n",
              "      <th>Review ID</th>\n",
              "      <th>Restaurant_ID</th>\n",
              "      <th>Restaurant</th>\n",
              "      <th>User</th>\n",
              "      <th>Headline</th>\n",
              "      <th>Review</th>\n",
              "    </tr>\n",
              "  </thead>\n",
              "  <tbody>\n",
              "    <tr>\n",
              "      <th>0</th>\n",
              "      <td>1</td>\n",
              "      <td>352696Px-mo-mo-paradise-เดอะมอลล์-บางกะปิ</td>\n",
              "      <td>Mo-Mo-Paradise (โม โม พาราไดซ์) เดอะมอลล์ บางกะปิ</td>\n",
              "      <td>7b16469831074f7abc7824745ee75212</td>\n",
              "      <td>ที่สำคัญของร้านนี้คือบริการดีมากพนักงานน่ารักส...</td>\n",
              "      <td>ที่สำคัญของร้านนี้คือบริการดีมากพนักงานน่ารักส...</td>\n",
              "    </tr>\n",
              "    <tr>\n",
              "      <th>1</th>\n",
              "      <td>2</td>\n",
              "      <td>352696Px-mo-mo-paradise-เดอะมอลล์-บางกะปิ</td>\n",
              "      <td>Mo-Mo-Paradise (โม โม พาราไดซ์) เดอะมอลล์ บางกะปิ</td>\n",
              "      <td>pakkaramonpondej</td>\n",
              "      <td>รสชาติเหมือนทุกสาขา แต่สาขานี้ บริการดี ที่นั่งดี</td>\n",
              "      <td>นึกถึงชาบูญี่ปุ่นยังไงก็ต้อง คิดถึงโมโม่ พาราไ...</td>\n",
              "    </tr>\n",
              "    <tr>\n",
              "      <th>2</th>\n",
              "      <td>3</td>\n",
              "      <td>352696Px-mo-mo-paradise-เดอะมอลล์-บางกะปิ</td>\n",
              "      <td>Mo-Mo-Paradise (โม โม พาราไดซ์) เดอะมอลล์ บางกะปิ</td>\n",
              "      <td>saanowy</td>\n",
              "      <td>ชาบูพรีเมี่ยมสไตล์ญี่ปุ่น เนื้อดีมากกก</td>\n",
              "      <td>มาทานช่วงนี้ สามารถนั่งโต๊ะเดียวกัน หม้อเดียวก...</td>\n",
              "    </tr>\n",
              "    <tr>\n",
              "      <th>3</th>\n",
              "      <td>4</td>\n",
              "      <td>352696Px-mo-mo-paradise-เดอะมอลล์-บางกะปิ</td>\n",
              "      <td>Mo-Mo-Paradise (โม โม พาราไดซ์) เดอะมอลล์ บางกะปิ</td>\n",
              "      <td>ployynp</td>\n",
              "      <td>เนื้อดี ไอติมดี คุ้มค่าดี</td>\n",
              "      <td>ถ้านึกถึงชาบูที่มีเนื้อเน้นๆ ในราคาไม่โหดจนเกิ...</td>\n",
              "    </tr>\n",
              "    <tr>\n",
              "      <th>4</th>\n",
              "      <td>5</td>\n",
              "      <td>352696Px-mo-mo-paradise-เดอะมอลล์-บางกะปิ</td>\n",
              "      <td>Mo-Mo-Paradise (โม โม พาราไดซ์) เดอะมอลล์ บางกะปิ</td>\n",
              "      <td>665a902b335b434ab489f00f2fbb477e</td>\n",
              "      <td>อาหารมีคุณภาพ บริการดีค่ะ</td>\n",
              "      <td>เดินมาหน้าร้านแล้วได้กลิ่นชาบูหอมมาก ๆ  ประกอบ...</td>\n",
              "    </tr>\n",
              "    <tr>\n",
              "      <th>5</th>\n",
              "      <td>6</td>\n",
              "      <td>352696Px-mo-mo-paradise-เดอะมอลล์-บางกะปิ</td>\n",
              "      <td>Mo-Mo-Paradise (โม โม พาราไดซ์) เดอะมอลล์ บางกะปิ</td>\n",
              "      <td>12f2b56b28bb4849a92690cedc1cc50a</td>\n",
              "      <td>กินให้อิ่ม ที่ momo</td>\n",
              "      <td>ร้านบุฟเฟ่ ชาบูแนวญี่ปุ่น สายเนื้อหมู เนื้อวัว...</td>\n",
              "    </tr>\n",
              "    <tr>\n",
              "      <th>6</th>\n",
              "      <td>7</td>\n",
              "      <td>352696Px-mo-mo-paradise-เดอะมอลล์-บางกะปิ</td>\n",
              "      <td>Mo-Mo-Paradise (โม โม พาราไดซ์) เดอะมอลล์ บางกะปิ</td>\n",
              "      <td>f2628bf47a394345b133fec76a79661d</td>\n",
              "      <td>ชาบู - สุกกี้สไลต์ญี่ปุ่นที่แท้ทรู</td>\n",
              "      <td>Number 20 : โมโม – พาราไดส์ (สาขาเดอะมอลบางกะป...</td>\n",
              "    </tr>\n",
              "    <tr>\n",
              "      <th>7</th>\n",
              "      <td>8</td>\n",
              "      <td>352696Px-mo-mo-paradise-เดอะมอลล์-บางกะปิ</td>\n",
              "      <td>Mo-Mo-Paradise (โม โม พาราไดซ์) เดอะมอลล์ บางกะปิ</td>\n",
              "      <td>backscrash</td>\n",
              "      <td>ร้านชาบูเฟรนไชส์ ที่ราคาเหมาะสมกับคุณภาพ ถือว่...</td>\n",
              "      <td>ร้านชาบูเฟรนไชส์รสชาติดีมากคุ้มค่าเหมาะสมกับรา...</td>\n",
              "    </tr>\n",
              "    <tr>\n",
              "      <th>8</th>\n",
              "      <td>9</td>\n",
              "      <td>4621tm-shabushi-เดอะมอลล์บางกะปิ-ชั้น-g</td>\n",
              "      <td>Shabushi (ชาบูชิ) เดอะมอลล์บางกะปิ ชั้น G</td>\n",
              "      <td>a477a5812ada4d5b80fd04fca22bdbca</td>\n",
              "      <td>อร่อยคุ้ม ของทานเล่นเยอะมาก</td>\n",
              "      <td>มา านที่ขาบูชิต้องมาตอนหิว ไม่งั้นจะไม่คุ้มนะค...</td>\n",
              "    </tr>\n",
              "    <tr>\n",
              "      <th>9</th>\n",
              "      <td>10</td>\n",
              "      <td>4621tm-shabushi-เดอะมอลล์บางกะปิ-ชั้น-g</td>\n",
              "      <td>Shabushi (ชาบูชิ) เดอะมอลล์บางกะปิ ชั้น G</td>\n",
              "      <td>fd2ba94ec1bc4948ae109e2cb6c9cbc6</td>\n",
              "      <td>ทานอีก ชอบกุ้งทอดเทมปุระ</td>\n",
              "      <td>ใครชอบกุ้งทอดเทมปุระ แค่กุ้งเทมปุระก็คุ้มแล้ว ...</td>\n",
              "    </tr>\n",
              "    <tr>\n",
              "      <th>10</th>\n",
              "      <td>11</td>\n",
              "      <td>4621tm-shabushi-เดอะมอลล์บางกะปิ-ชั้น-g</td>\n",
              "      <td>Shabushi (ชาบูชิ) เดอะมอลล์บางกะปิ ชั้น G</td>\n",
              "      <td>ployynp</td>\n",
              "      <td>บุฟเฟ่ต์คุ้มๆในห้าง</td>\n",
              "      <td>กลับมาอัพเดทราคาชาบูชิ ตอนนี้อยู่ที่ 399 บาท n...</td>\n",
              "    </tr>\n",
              "    <tr>\n",
              "      <th>11</th>\n",
              "      <td>12</td>\n",
              "      <td>4621tm-shabushi-เดอะมอลล์บางกะปิ-ชั้น-g</td>\n",
              "      <td>Shabushi (ชาบูชิ) เดอะมอลล์บางกะปิ ชั้น G</td>\n",
              "      <td>c08b2776067a4026b882abfc6fca8330</td>\n",
              "      <td>เปลี่ยนจากกุ้งขาดสารอาหารเป็นกุ้งปอกเปลือกแล้ว...</td>\n",
              "      <td>ห่างหายไปนานสำหรับชาบูชิ ตั้งแต่ทางร้านได้ปรับ...</td>\n",
              "    </tr>\n",
              "    <tr>\n",
              "      <th>12</th>\n",
              "      <td>13</td>\n",
              "      <td>4621tm-shabushi-เดอะมอลล์บางกะปิ-ชั้น-g</td>\n",
              "      <td>Shabushi (ชาบูชิ) เดอะมอลล์บางกะปิ ชั้น G</td>\n",
              "      <td>a96ec47b6cff4bd1834c90d603ef0a7e</td>\n",
              "      <td>อิ่ม อร่อย ฝุดฝุด</td>\n",
              "      <td>เมื่อหลายวันก่อนนัดหาข้าวทานกับเดอะแกงค์ และก็...</td>\n",
              "    </tr>\n",
              "    <tr>\n",
              "      <th>13</th>\n",
              "      <td>14</td>\n",
              "      <td>4621tm-shabushi-เดอะมอลล์บางกะปิ-ชั้น-g</td>\n",
              "      <td>Shabushi (ชาบูชิ) เดอะมอลล์บางกะปิ ชั้น G</td>\n",
              "      <td>a6991f1e0e9b4916ab3ca91d86f8e481</td>\n",
              "      <td>จัดให้เต็มคราบกับชั่วโมงครึ่ง@Shabushi</td>\n",
              "      <td>บอกตรงๆว่าหลายครั้งที่เลือกจะกินบุฟเฟต์จะต้องอ...</td>\n",
              "    </tr>\n",
              "    <tr>\n",
              "      <th>14</th>\n",
              "      <td>15</td>\n",
              "      <td>4621tm-shabushi-เดอะมอลล์บางกะปิ-ชั้น-g</td>\n",
              "      <td>Shabushi (ชาบูชิ) เดอะมอลล์บางกะปิ ชั้น G</td>\n",
              "      <td>7eb0c7d8683e407f83cc4d18e51d800d</td>\n",
              "      <td>ชาบู ชาบูชิ</td>\n",
              "      <td>สวัสดีครับวันนี้จะขอมารีวิวร้านชาบูชิ บุฟเฟขวั...</td>\n",
              "    </tr>\n",
              "    <tr>\n",
              "      <th>15</th>\n",
              "      <td>16</td>\n",
              "      <td>4621tm-shabushi-เดอะมอลล์บางกะปิ-ชั้น-g</td>\n",
              "      <td>Shabushi (ชาบูชิ) เดอะมอลล์บางกะปิ ชั้น G</td>\n",
              "      <td>qvanqvan</td>\n",
              "      <td>บุฟเฟต์น้ำเดือด สายพานร่อน</td>\n",
              "      <td>ชาบูชิ สาขาเดอะมอลล์บางกะปิ ตั้งอยู่ประตูหน้าห...</td>\n",
              "    </tr>\n",
              "    <tr>\n",
              "      <th>16</th>\n",
              "      <td>17</td>\n",
              "      <td>436045MJ-ข้าน้อยขอชาบู</td>\n",
              "      <td>ข้าน้อยขอชาบู</td>\n",
              "      <td>ployynp</td>\n",
              "      <td>บุฟเฟ่ต์ชาบูและพิซซ่าไม่อั้นในราคา 199 บาท เน้...</td>\n",
              "      <td>หลังจากที่เคยลองสาขายูเนี่ยนมอลล์ไป รอบนี้มาที...</td>\n",
              "    </tr>\n",
              "    <tr>\n",
              "      <th>17</th>\n",
              "      <td>18</td>\n",
              "      <td>436045MJ-ข้าน้อยขอชาบู</td>\n",
              "      <td>ข้าน้อยขอชาบู</td>\n",
              "      <td>27a91236fe5e4559a4f097c97a480781</td>\n",
              "      <td>ร้านบุฟเฟ่ต์ ราคามิตรภาพ อยู่ชั้น4 ติดโรงหนัง ...</td>\n",
              "      <td>ร้านบุฟเฟ่ต์ที่มีโปรโมชั่นหัวละ199บาท ไม่รวมน้...</td>\n",
              "    </tr>\n",
              "    <tr>\n",
              "      <th>18</th>\n",
              "      <td>19</td>\n",
              "      <td>436045MJ-ข้าน้อยขอชาบู</td>\n",
              "      <td>ข้าน้อยขอชาบู</td>\n",
              "      <td>0b81d251e4db486f9bcdba73b374ed99</td>\n",
              "      <td>ของหลากหลาย ปนๆ งงๆ นิดหน่อย</td>\n",
              "      <td>เคยรู้จักร้านนี้จากที่ union mall ไม่เคยได้ลอง...</td>\n",
              "    </tr>\n",
              "    <tr>\n",
              "      <th>19</th>\n",
              "      <td>20</td>\n",
              "      <td>436045MJ-ข้าน้อยขอชาบู</td>\n",
              "      <td>ข้าน้อยขอชาบู</td>\n",
              "      <td>40e0e087f3914fd49a8933b5a29936ca</td>\n",
              "      <td>อร่อยมากค่ะ คุ้มค่าสมราคา บุฟเฟ่หมูผักต่างๆ รว...</td>\n",
              "      <td>อร่อยมากค่ะ คุ้มค่าสมราคา บุฟเฟ่หมูผักต่างๆ รว...</td>\n",
              "    </tr>\n",
              "    <tr>\n",
              "      <th>20</th>\n",
              "      <td>21</td>\n",
              "      <td>436045MJ-ข้าน้อยขอชาบู</td>\n",
              "      <td>ข้าน้อยขอชาบู</td>\n",
              "      <td>41841cb99ea243a3a8d4b006e946c586</td>\n",
              "      <td>แม้จะแปลกบ้าง แต่ก็ถือว่าอยู่ในเกณฑ์ที่ดี มีอา...</td>\n",
              "      <td>ก็ตามที่เขียนเลยครับ ว่า ถ้าจะจ่ายในราคา 199 บ...</td>\n",
              "    </tr>\n",
              "  </tbody>\n",
              "</table>\n",
              "</div>"
            ],
            "text/plain": [
              "    Review ID  ...                                             Review\n",
              "0           1  ...  ที่สำคัญของร้านนี้คือบริการดีมากพนักงานน่ารักส...\n",
              "1           2  ...  นึกถึงชาบูญี่ปุ่นยังไงก็ต้อง คิดถึงโมโม่ พาราไ...\n",
              "2           3  ...  มาทานช่วงนี้ สามารถนั่งโต๊ะเดียวกัน หม้อเดียวก...\n",
              "3           4  ...  ถ้านึกถึงชาบูที่มีเนื้อเน้นๆ ในราคาไม่โหดจนเกิ...\n",
              "4           5  ...  เดินมาหน้าร้านแล้วได้กลิ่นชาบูหอมมาก ๆ  ประกอบ...\n",
              "5           6  ...  ร้านบุฟเฟ่ ชาบูแนวญี่ปุ่น สายเนื้อหมู เนื้อวัว...\n",
              "6           7  ...  Number 20 : โมโม – พาราไดส์ (สาขาเดอะมอลบางกะป...\n",
              "7           8  ...  ร้านชาบูเฟรนไชส์รสชาติดีมากคุ้มค่าเหมาะสมกับรา...\n",
              "8           9  ...  มา านที่ขาบูชิต้องมาตอนหิว ไม่งั้นจะไม่คุ้มนะค...\n",
              "9          10  ...  ใครชอบกุ้งทอดเทมปุระ แค่กุ้งเทมปุระก็คุ้มแล้ว ...\n",
              "10         11  ...  กลับมาอัพเดทราคาชาบูชิ ตอนนี้อยู่ที่ 399 บาท n...\n",
              "11         12  ...  ห่างหายไปนานสำหรับชาบูชิ ตั้งแต่ทางร้านได้ปรับ...\n",
              "12         13  ...  เมื่อหลายวันก่อนนัดหาข้าวทานกับเดอะแกงค์ และก็...\n",
              "13         14  ...  บอกตรงๆว่าหลายครั้งที่เลือกจะกินบุฟเฟต์จะต้องอ...\n",
              "14         15  ...  สวัสดีครับวันนี้จะขอมารีวิวร้านชาบูชิ บุฟเฟขวั...\n",
              "15         16  ...  ชาบูชิ สาขาเดอะมอลล์บางกะปิ ตั้งอยู่ประตูหน้าห...\n",
              "16         17  ...  หลังจากที่เคยลองสาขายูเนี่ยนมอลล์ไป รอบนี้มาที...\n",
              "17         18  ...  ร้านบุฟเฟ่ต์ที่มีโปรโมชั่นหัวละ199บาท ไม่รวมน้...\n",
              "18         19  ...  เคยรู้จักร้านนี้จากที่ union mall ไม่เคยได้ลอง...\n",
              "19         20  ...  อร่อยมากค่ะ คุ้มค่าสมราคา บุฟเฟ่หมูผักต่างๆ รว...\n",
              "20         21  ...  ก็ตามที่เขียนเลยครับ ว่า ถ้าจะจ่ายในราคา 199 บ...\n",
              "\n",
              "[21 rows x 6 columns]"
            ]
          },
          "metadata": {
            "tags": []
          },
          "execution_count": 94
        }
      ]
    }
  ]
}